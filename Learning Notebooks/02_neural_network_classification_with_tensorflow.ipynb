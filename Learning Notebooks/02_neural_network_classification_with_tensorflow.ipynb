{
 "cells": [
  {
   "cell_type": "markdown",
   "source": [
    "# Introduction to neural network calssification with TensorFlow\n",
    "\n",
    "In this notebook we're going to learn how to write neural networks for classification problems.\n",
    "\n",
    "A classification is where you try to classify something as one thing or another.\n",
    "\n",
    "A few types of classification problems:\n",
    "* Binary classification\n",
    "* Multiclass classification\n",
    "* Multilabel classification\n",
    "\n",
    "## Creating data to view and fit"
   ],
   "metadata": {
    "collapsed": false,
    "pycharm": {
     "name": "#%% md\n"
    }
   }
  },
  {
   "cell_type": "code",
   "execution_count": 1,
   "metadata": {
    "collapsed": true,
    "pycharm": {
     "name": "#%%\n"
    }
   },
   "outputs": [],
   "source": [
    "from sklearn.datasets import make_circles\n",
    "\n",
    "# Make 1000 examples\n",
    "n_samples = 1000\n",
    "\n",
    "# Create circles\n",
    "X, y = make_circles(\n",
    "    n_samples,\n",
    "    noise=0.03,\n",
    "    random_state=42\n",
    ")"
   ]
  },
  {
   "cell_type": "code",
   "execution_count": 2,
   "outputs": [
    {
     "data": {
      "text/plain": "array([[ 0.75424625,  0.23148074],\n       [-0.75615888,  0.15325888],\n       [-0.81539193,  0.17328203],\n       ...,\n       [-0.13690036, -0.81001183],\n       [ 0.67036156, -0.76750154],\n       [ 0.28105665,  0.96382443]])"
     },
     "execution_count": 2,
     "metadata": {},
     "output_type": "execute_result"
    }
   ],
   "source": [
    "# Check out the features\n",
    "X"
   ],
   "metadata": {
    "collapsed": false,
    "pycharm": {
     "name": "#%%\n"
    }
   }
  },
  {
   "cell_type": "code",
   "execution_count": 3,
   "outputs": [
    {
     "data": {
      "text/plain": "array([1, 1, 1, 1, 0, 1, 1, 1, 1, 0, 1, 0, 1, 1, 1, 1, 0, 1, 1, 0, 1, 0,\n       0, 1, 0, 0, 0, 1, 1, 1, 0, 0, 1, 0, 0, 0, 1, 1, 1, 0, 0, 0, 0, 1,\n       0, 0, 1, 1, 0, 1, 1, 1, 0, 1, 0, 0, 1, 0, 0, 1, 0, 0, 1, 0, 1, 1,\n       1, 1, 0, 1, 0, 0, 1, 1, 0, 0, 1, 0, 1, 0, 1, 0, 0, 0, 0, 1, 1, 1,\n       1, 0, 0, 0, 1, 0, 1, 0, 1, 0, 0, 1, 1, 0, 1, 0, 1, 1, 1, 1, 0, 1,\n       1, 1, 1, 1, 0, 0, 0, 1, 1, 0, 1, 0, 1, 0, 0, 1, 1, 0, 1, 1, 1, 1,\n       0, 1, 1, 0, 0, 0, 0, 0, 0, 0, 1, 0, 1, 1, 1, 0, 1, 0, 1, 0, 1, 0,\n       1, 0, 0, 1, 0, 1, 1, 1, 1, 1, 1, 1, 0, 1, 0, 0, 0, 0, 0, 1, 0, 0,\n       0, 0, 1, 1, 0, 1, 0, 1, 1, 0, 0, 0, 1, 1, 1, 1, 1, 0, 0, 0, 0, 0,\n       1, 0, 0, 1, 1, 1, 1, 1, 0, 1, 0, 1, 0, 0, 1, 1, 1, 0, 1, 0, 1, 1,\n       0, 1, 1, 0, 1, 0, 1, 0, 1, 1, 0, 1, 0, 1, 0, 0, 0, 1, 0, 0, 0, 0,\n       1, 1, 0, 0, 0, 0, 0, 0, 0, 1, 1, 1, 0, 0, 1, 1, 1, 0, 1, 0, 0, 0,\n       0, 1, 1, 0, 1, 0, 0, 0, 1, 0, 1, 0, 0, 1, 0, 1, 1, 1, 0, 0, 0, 1,\n       0, 0, 0, 1, 1, 1, 1, 0, 0, 0, 1, 0, 0, 0, 1, 0, 0, 0, 1, 1, 0, 1,\n       1, 1, 1, 1, 1, 1, 0, 0, 0, 0, 1, 0, 0, 0, 0, 1, 1, 1, 0, 0, 1, 0,\n       1, 0, 1, 1, 0, 0, 1, 1, 1, 1, 0, 0, 0, 0, 0, 0, 1, 1, 0, 1, 0, 0,\n       1, 0, 0, 0, 0, 0, 0, 0, 0, 1, 0, 0, 0, 0, 1, 0, 0, 1, 0, 1, 0, 0,\n       0, 1, 0, 0, 1, 1, 0, 0, 1, 0, 0, 1, 1, 0, 1, 1, 0, 0, 1, 0, 1, 0,\n       0, 0, 1, 1, 0, 0, 1, 1, 1, 1, 1, 0, 0, 1, 1, 1, 1, 0, 1, 1, 1, 1,\n       1, 0, 0, 1, 0, 1, 0, 0, 0, 0, 1, 0, 0, 0, 0, 0, 0, 0, 0, 0, 1, 1,\n       0, 1, 1, 1, 1, 1, 1, 0, 1, 1, 1, 1, 0, 0, 0, 1, 1, 1, 0, 0, 0, 0,\n       1, 1, 0, 0, 0, 0, 1, 0, 0, 0, 1, 0, 0, 1, 1, 1, 1, 1, 1, 0, 0, 0,\n       1, 0, 0, 0, 0, 0, 1, 1, 1, 0, 0, 0, 0, 0, 1, 1, 1, 0, 0, 1, 1, 1,\n       1, 0, 1, 1, 0, 1, 0, 0, 0, 1, 0, 0, 1, 0, 0, 1, 1, 0, 0, 1, 1, 0,\n       1, 0, 1, 0, 1, 0, 1, 0, 0, 0, 1, 0, 0, 0, 0, 0, 0, 1, 1, 1, 1, 0,\n       0, 0, 1, 0, 1, 1, 0, 0, 0, 0, 0, 1, 1, 1, 0, 0, 1, 0, 0, 1, 0, 0,\n       1, 0, 0, 1, 0, 0, 0, 1, 0, 0, 1, 1, 1, 0, 1, 1, 0, 0, 0, 1, 1, 1,\n       1, 0, 0, 1, 1, 1, 0, 0, 0, 0, 1, 1, 0, 0, 1, 1, 0, 0, 1, 1, 1, 1,\n       1, 1, 1, 0, 1, 0, 1, 0, 0, 1, 0, 1, 1, 1, 1, 0, 0, 1, 1, 0, 0, 1,\n       0, 1, 0, 0, 0, 1, 0, 0, 1, 1, 1, 1, 0, 1, 1, 1, 1, 1, 1, 1, 0, 1,\n       0, 1, 1, 1, 0, 0, 1, 0, 0, 0, 1, 1, 1, 1, 0, 0, 0, 0, 1, 0, 1, 1,\n       1, 0, 1, 0, 0, 1, 0, 0, 1, 1, 1, 1, 1, 0, 1, 0, 0, 0, 1, 1, 1, 1,\n       1, 0, 0, 0, 1, 1, 1, 1, 0, 0, 0, 0, 0, 1, 1, 0, 1, 0, 1, 0, 0, 0,\n       0, 0, 0, 0, 0, 0, 1, 1, 1, 1, 1, 0, 1, 0, 1, 1, 1, 1, 0, 1, 1, 1,\n       1, 1, 1, 1, 1, 0, 1, 1, 0, 1, 0, 0, 0, 1, 0, 1, 1, 1, 0, 1, 1, 0,\n       1, 1, 0, 1, 0, 1, 1, 0, 0, 1, 1, 1, 0, 0, 0, 0, 1, 1, 0, 0, 1, 1,\n       1, 1, 1, 1, 1, 1, 1, 1, 1, 1, 1, 1, 0, 0, 1, 0, 1, 0, 1, 0, 1, 1,\n       1, 1, 1, 1, 0, 1, 0, 1, 1, 1, 0, 1, 1, 0, 0, 1, 0, 1, 1, 0, 0, 1,\n       1, 1, 1, 1, 1, 1, 1, 0, 1, 1, 1, 0, 1, 0, 0, 1, 1, 0, 0, 0, 1, 0,\n       0, 1, 0, 0, 0, 1, 0, 1, 0, 0, 0, 0, 1, 0, 1, 1, 1, 1, 0, 1, 0, 0,\n       0, 0, 0, 0, 1, 0, 1, 0, 1, 0, 1, 1, 1, 0, 1, 0, 1, 0, 0, 1, 1, 1,\n       0, 0, 0, 1, 1, 0, 1, 0, 1, 1, 0, 1, 0, 0, 1, 1, 1, 0, 0, 0, 1, 1,\n       0, 0, 0, 0, 0, 1, 1, 0, 1, 0, 0, 0, 1, 0, 0, 0, 1, 1, 1, 1, 0, 1,\n       1, 1, 0, 1, 1, 1, 1, 0, 1, 1, 0, 1, 1, 0, 0, 1, 1, 1, 0, 0, 0, 0,\n       0, 0, 1, 0, 0, 1, 0, 0, 0, 1, 0, 1, 0, 1, 1, 0, 0, 0, 0, 0, 0, 0,\n       0, 1, 0, 1, 0, 0, 0, 1, 0, 0])"
     },
     "execution_count": 3,
     "metadata": {},
     "output_type": "execute_result"
    }
   ],
   "source": [
    "# Check the labels\n",
    "y"
   ],
   "metadata": {
    "collapsed": false,
    "pycharm": {
     "name": "#%%\n"
    }
   }
  },
  {
   "cell_type": "markdown",
   "source": [
    "Our data is a little hard to understand right now... let's visualize it!"
   ],
   "metadata": {
    "collapsed": false,
    "pycharm": {
     "name": "#%% md\n"
    }
   }
  },
  {
   "cell_type": "code",
   "execution_count": 4,
   "outputs": [
    {
     "data": {
      "text/plain": "           X0        X1  y\n0    0.754246  0.231481  1\n1   -0.756159  0.153259  1\n2   -0.815392  0.173282  1\n3   -0.393731  0.692883  1\n4    0.442208 -0.896723  0\n..        ...       ... ..\n995  0.244054  0.944125  0\n996 -0.978655 -0.272373  0\n997 -0.136900 -0.810012  1\n998  0.670362 -0.767502  0\n999  0.281057  0.963824  0\n\n[1000 rows x 3 columns]",
      "text/html": "<div>\n<style scoped>\n    .dataframe tbody tr th:only-of-type {\n        vertical-align: middle;\n    }\n\n    .dataframe tbody tr th {\n        vertical-align: top;\n    }\n\n    .dataframe thead th {\n        text-align: right;\n    }\n</style>\n<table border=\"1\" class=\"dataframe\">\n  <thead>\n    <tr style=\"text-align: right;\">\n      <th></th>\n      <th>X0</th>\n      <th>X1</th>\n      <th>y</th>\n    </tr>\n  </thead>\n  <tbody>\n    <tr>\n      <th>0</th>\n      <td>0.754246</td>\n      <td>0.231481</td>\n      <td>1</td>\n    </tr>\n    <tr>\n      <th>1</th>\n      <td>-0.756159</td>\n      <td>0.153259</td>\n      <td>1</td>\n    </tr>\n    <tr>\n      <th>2</th>\n      <td>-0.815392</td>\n      <td>0.173282</td>\n      <td>1</td>\n    </tr>\n    <tr>\n      <th>3</th>\n      <td>-0.393731</td>\n      <td>0.692883</td>\n      <td>1</td>\n    </tr>\n    <tr>\n      <th>4</th>\n      <td>0.442208</td>\n      <td>-0.896723</td>\n      <td>0</td>\n    </tr>\n    <tr>\n      <th>...</th>\n      <td>...</td>\n      <td>...</td>\n      <td>...</td>\n    </tr>\n    <tr>\n      <th>995</th>\n      <td>0.244054</td>\n      <td>0.944125</td>\n      <td>0</td>\n    </tr>\n    <tr>\n      <th>996</th>\n      <td>-0.978655</td>\n      <td>-0.272373</td>\n      <td>0</td>\n    </tr>\n    <tr>\n      <th>997</th>\n      <td>-0.136900</td>\n      <td>-0.810012</td>\n      <td>1</td>\n    </tr>\n    <tr>\n      <th>998</th>\n      <td>0.670362</td>\n      <td>-0.767502</td>\n      <td>0</td>\n    </tr>\n    <tr>\n      <th>999</th>\n      <td>0.281057</td>\n      <td>0.963824</td>\n      <td>0</td>\n    </tr>\n  </tbody>\n</table>\n<p>1000 rows × 3 columns</p>\n</div>"
     },
     "execution_count": 4,
     "metadata": {},
     "output_type": "execute_result"
    }
   ],
   "source": [
    "import pandas as pd\n",
    "\n",
    "circles = pd.DataFrame({\n",
    "    'X0': X[:, 0],\n",
    "    'X1': X[:, 1],\n",
    "    'y': y\n",
    "})\n",
    "\n",
    "circles"
   ],
   "metadata": {
    "collapsed": false,
    "pycharm": {
     "name": "#%%\n"
    }
   }
  },
  {
   "cell_type": "code",
   "execution_count": 5,
   "outputs": [
    {
     "data": {
      "text/plain": "<Figure size 432x288 with 1 Axes>",
      "image/png": "[encoded data removed]"
     },
     "metadata": {
      "needs_background": "light"
     },
     "output_type": "display_data"
    }
   ],
   "source": [
    "# Visualize with a plot\n",
    "import matplotlib.pyplot as plt\n",
    "\n",
    "plt.scatter(\n",
    "    X[:, 0],\n",
    "    X[:, 1],\n",
    "    c=y,\n",
    "    cmap=plt.cm.RdYlBu\n",
    ")\n",
    "plt.show()"
   ],
   "metadata": {
    "collapsed": false,
    "pycharm": {
     "name": "#%%\n"
    }
   }
  },
  {
   "cell_type": "markdown",
   "source": [
    "## Input and output shapes"
   ],
   "metadata": {
    "collapsed": false,
    "pycharm": {
     "name": "#%% md\n"
    }
   }
  },
  {
   "cell_type": "code",
   "execution_count": 6,
   "outputs": [
    {
     "data": {
      "text/plain": "((1000, 2), (1000,))"
     },
     "execution_count": 6,
     "metadata": {},
     "output_type": "execute_result"
    }
   ],
   "source": [
    "# Check the shapes of our features and labels\n",
    "X.shape, y.shape"
   ],
   "metadata": {
    "collapsed": false,
    "pycharm": {
     "name": "#%%\n"
    }
   }
  },
  {
   "cell_type": "code",
   "execution_count": 7,
   "outputs": [
    {
     "data": {
      "text/plain": "(1000, 1000)"
     },
     "execution_count": 7,
     "metadata": {},
     "output_type": "execute_result"
    }
   ],
   "source": [
    "# How many samples we're working with\n",
    "len(X), len(y)"
   ],
   "metadata": {
    "collapsed": false,
    "pycharm": {
     "name": "#%%\n"
    }
   }
  },
  {
   "cell_type": "code",
   "execution_count": 8,
   "outputs": [
    {
     "data": {
      "text/plain": "(array([0.75424625, 0.23148074]), 1)"
     },
     "execution_count": 8,
     "metadata": {},
     "output_type": "execute_result"
    }
   ],
   "source": [
    "# View the first example of features and labels\n",
    "X[0], y[0]"
   ],
   "metadata": {
    "collapsed": false,
    "pycharm": {
     "name": "#%%\n"
    }
   }
  },
  {
   "cell_type": "markdown",
   "source": [
    "## Steps in modelling\n",
    "\n",
    "the steps in modelling with TensorFlow are typcially:\n",
    "\n",
    "1. Create or import a model\n",
    "2. Compile the model\n",
    "3. Fit the model\n",
    "4. Evaluate the model\n",
    "5. Tweak the model\n",
    "6. Evaluate..."
   ],
   "metadata": {
    "collapsed": false,
    "pycharm": {
     "name": "#%% md\n"
    }
   }
  },
  {
   "cell_type": "code",
   "execution_count": 9,
   "outputs": [],
   "source": [
    "import tensorflow as tf"
   ],
   "metadata": {
    "collapsed": false,
    "pycharm": {
     "name": "#%%\n"
    }
   }
  },
  {
   "cell_type": "code",
   "execution_count": 10,
   "outputs": [
    {
     "name": "stdout",
     "output_type": "stream",
     "text": [
      "Metal device set to: Apple M1 Pro\n",
      "Epoch 1/5\n"
     ]
    },
    {
     "name": "stderr",
     "output_type": "stream",
     "text": [
      "2022-09-01 13:14:11.875245: I tensorflow/core/common_runtime/pluggable_device/pluggable_device_factory.cc:305] Could not identify NUMA node of platform GPU ID 0, defaulting to 0. Your kernel may not have been built with NUMA support.\n",
      "2022-09-01 13:14:11.875334: I tensorflow/core/common_runtime/pluggable_device/pluggable_device_factory.cc:271] Created TensorFlow device (/job:localhost/replica:0/task:0/device:GPU:0 with 0 MB memory) -> physical PluggableDevice (device: 0, name: METAL, pci bus id: <undefined>)\n",
      "2022-09-01 13:14:11.922380: W tensorflow/core/platform/profile_utils/cpu_utils.cc:128] Failed to get CPU frequency: 0 Hz\n"
     ]
    },
    {
     "name": "stdout",
     "output_type": "stream",
     "text": [
      "21/32 [==================>...........] - ETA: 0s - loss: 3.8381 - accuracy: 0.4509"
     ]
    },
    {
     "name": "stderr",
     "output_type": "stream",
     "text": [
      "2022-09-01 13:14:12.095838: I tensorflow/core/grappler/optimizers/custom_graph_optimizer_registry.cc:113] Plugin optimizer for device_type GPU is enabled.\n"
     ]
    },
    {
     "name": "stdout",
     "output_type": "stream",
     "text": [
      "32/32 [==============================] - 0s 6ms/step - loss: 2.8544 - accuracy: 0.4600\n",
      "Epoch 2/5\n",
      "32/32 [==============================] - 0s 5ms/step - loss: 0.7131 - accuracy: 0.5430\n",
      "Epoch 3/5\n",
      "32/32 [==============================] - 0s 5ms/step - loss: 0.6973 - accuracy: 0.5090\n",
      "Epoch 4/5\n",
      "32/32 [==============================] - 0s 4ms/step - loss: 0.6950 - accuracy: 0.5010\n",
      "Epoch 5/5\n",
      "32/32 [==============================] - 0s 4ms/step - loss: 0.6942 - accuracy: 0.4830\n"
     ]
    },
    {
     "data": {
      "text/plain": "<keras.callbacks.History at 0x15c790520>"
     },
     "execution_count": 10,
     "metadata": {},
     "output_type": "execute_result"
    }
   ],
   "source": [
    "# Set the random seed\n",
    "tf.random.set_seed(42)\n",
    "\n",
    "# 1. Create the model using the sequential API\n",
    "model_1 = tf.keras.Sequential(\n",
    "    [\n",
    "        tf.keras.layers.Dense(1)\n",
    "    ]\n",
    ")\n",
    "\n",
    "model_1.compile(\n",
    "    loss=tf.keras.losses.BinaryCrossentropy(),\n",
    "    optimizer=tf.keras.optimizers.SGD(),\n",
    "    metrics=['accuracy']\n",
    ")\n",
    "\n",
    "# 3. Fit the model\n",
    "model_1.fit(X, y, epochs=5)"
   ],
   "metadata": {
    "collapsed": false,
    "pycharm": {
     "name": "#%%\n"
    }
   }
  },
  {
   "cell_type": "code",
   "execution_count": 11,
   "outputs": [
    {
     "name": "stdout",
     "output_type": "stream",
     "text": [
      "32/32 [==============================] - 0s 4ms/step - loss: 0.6935 - accuracy: 0.5000\n"
     ]
    },
    {
     "name": "stderr",
     "output_type": "stream",
     "text": [
      "2022-09-01 13:14:37.222213: I tensorflow/core/grappler/optimizers/custom_graph_optimizer_registry.cc:113] Plugin optimizer for device_type GPU is enabled.\n"
     ]
    },
    {
     "data": {
      "text/plain": "[0.6934829950332642, 0.5]"
     },
     "execution_count": 11,
     "metadata": {},
     "output_type": "execute_result"
    }
   ],
   "source": [
    "# Let's try and improve our model by training for longer...\n",
    "model_1.fit(X, y, epochs=200, verbose=0)\n",
    "model_1.evaluate(X, y)"
   ],
   "metadata": {
    "collapsed": false,
    "pycharm": {
     "name": "#%%\n"
    }
   }
  },
  {
   "cell_type": "markdown",
   "source": [
    "Since we are working on a binary classification problem and our model is sgetting around ~50% accruacy.. it's performing like its guessing.\n",
    "\n",
    "So let's step things up a notch and add an extra layer."
   ],
   "metadata": {
    "collapsed": false,
    "pycharm": {
     "name": "#%% md\n"
    }
   }
  },
  {
   "cell_type": "code",
   "execution_count": 12,
   "outputs": [
    {
     "name": "stderr",
     "output_type": "stream",
     "text": [
      "2022-09-01 13:14:37.576894: I tensorflow/core/grappler/optimizers/custom_graph_optimizer_registry.cc:113] Plugin optimizer for device_type GPU is enabled.\n"
     ]
    },
    {
     "data": {
      "text/plain": "<keras.callbacks.History at 0x15eea9520>"
     },
     "execution_count": 12,
     "metadata": {},
     "output_type": "execute_result"
    }
   ],
   "source": [
    "# Set random seed\n",
    "tf.random.set_seed(42)\n",
    "\n",
    "# 1. Create a model, this time with 2 layers\n",
    "model_2 = tf.keras.Sequential(\n",
    "    [\n",
    "        tf.keras.layers.Dense(1),\n",
    "        tf.keras.layers.Dense(1)\n",
    "    ]\n",
    ")\n",
    "\n",
    "# 2. Compile a model\n",
    "model_2.compile(\n",
    "    loss=tf.keras.losses.BinaryCrossentropy(),\n",
    "    optimizer=tf.keras.optimizers.SGD(),\n",
    "    metrics=['accuracy']\n",
    ")\n",
    "\n",
    "# 3. Fit the model\n",
    "model_2.fit(X, y, epochs=100, verbose=0)"
   ],
   "metadata": {
    "collapsed": false,
    "pycharm": {
     "name": "#%%\n"
    }
   }
  },
  {
   "cell_type": "code",
   "execution_count": 13,
   "outputs": [
    {
     "name": "stdout",
     "output_type": "stream",
     "text": [
      "32/32 [==============================] - 0s 4ms/step - loss: 0.6933 - accuracy: 0.5000\n"
     ]
    },
    {
     "name": "stderr",
     "output_type": "stream",
     "text": [
      "2022-09-01 13:14:49.468688: I tensorflow/core/grappler/optimizers/custom_graph_optimizer_registry.cc:113] Plugin optimizer for device_type GPU is enabled.\n"
     ]
    },
    {
     "data": {
      "text/plain": "[0.6933314204216003, 0.5]"
     },
     "execution_count": 13,
     "metadata": {},
     "output_type": "execute_result"
    }
   ],
   "source": [
    "# 4. Evaluate the model\n",
    "model_2.evaluate(X, y)\n"
   ],
   "metadata": {
    "collapsed": false,
    "pycharm": {
     "name": "#%%\n"
    }
   }
  },
  {
   "cell_type": "markdown",
   "source": [
    "## Improving our model\n",
    "\n",
    "Let's look into our bag of tricks to see how we can improve our model.\n",
    "\n",
    "1. Create a model - we might want to add more layers or increase the number of hidden units\n",
    "2. Compile a model - Here we might want to choose a different optimization function such as Adam instead of SGD.\n",
    "3. Fitting a model - Perhaps we might fit our model for more epochs (leave it training for longer)"
   ],
   "metadata": {
    "collapsed": false,
    "pycharm": {
     "name": "#%% md\n"
    }
   }
  },
  {
   "cell_type": "code",
   "execution_count": 14,
   "outputs": [
    {
     "name": "stderr",
     "output_type": "stream",
     "text": [
      "2022-09-01 13:14:49.866257: I tensorflow/core/grappler/optimizers/custom_graph_optimizer_registry.cc:113] Plugin optimizer for device_type GPU is enabled.\n"
     ]
    },
    {
     "data": {
      "text/plain": "<keras.callbacks.History at 0x168b9ca90>"
     },
     "execution_count": 14,
     "metadata": {},
     "output_type": "execute_result"
    }
   ],
   "source": [
    "# Set the random seed\n",
    "tf.random.set_seed(42)\n",
    "\n",
    "# 1. Create a model (this time 3 layers)\n",
    "model_3 = tf.keras.Sequential(\n",
    "    [\n",
    "        tf.keras.layers.Dense(100),  # add 100 dense neurons\n",
    "        tf.keras.layers.Dense(10), # add another layer with 10 neurons\n",
    "        tf.keras.layers.Dense(1)\n",
    "    ]\n",
    ")\n",
    "\n",
    "# 2. Compile the mode\n",
    "model_3.compile(\n",
    "    loss=tf.keras.losses.BinaryCrossentropy(),\n",
    "    optimizer=tf.keras.optimizers.Adam(),\n",
    "    metrics=['accuracy']\n",
    ")\n",
    "\n",
    "# 3. Fit the model\n",
    "model_3.fit(X, y, epochs=100, verbose=0)"
   ],
   "metadata": {
    "collapsed": false,
    "pycharm": {
     "name": "#%%\n"
    }
   }
  },
  {
   "cell_type": "code",
   "execution_count": 15,
   "outputs": [
    {
     "name": "stdout",
     "output_type": "stream",
     "text": [
      "32/32 [==============================] - 0s 4ms/step - loss: 0.6980 - accuracy: 0.5090\n"
     ]
    },
    {
     "name": "stderr",
     "output_type": "stream",
     "text": [
      "2022-09-01 13:15:04.259546: I tensorflow/core/grappler/optimizers/custom_graph_optimizer_registry.cc:113] Plugin optimizer for device_type GPU is enabled.\n"
     ]
    },
    {
     "data": {
      "text/plain": "[0.6980188488960266, 0.5090000033378601]"
     },
     "execution_count": 15,
     "metadata": {},
     "output_type": "execute_result"
    }
   ],
   "source": [
    "# Evaluate the model\n",
    "model_3.evaluate(X, y)"
   ],
   "metadata": {
    "collapsed": false,
    "pycharm": {
     "name": "#%%\n"
    }
   }
  },
  {
   "cell_type": "markdown",
   "source": [
    "To visualize our model's predictions, let's create a function `plot_decision_boundary()`, this function will:\n",
    "\n",
    "* Take in a trained model, features and labels\n",
    "* Create a meshgrid of the different X values\n",
    "* Make predictions across the meshgrid\n",
    "* Plot the predictions as well as a line between the zones (where each unique class falls)"
   ],
   "metadata": {
    "collapsed": false,
    "pycharm": {
     "name": "#%% md\n"
    }
   }
  },
  {
   "cell_type": "code",
   "execution_count": 16,
   "outputs": [],
   "source": [
    "import numpy as np"
   ],
   "metadata": {
    "collapsed": false,
    "pycharm": {
     "name": "#%%\n"
    }
   }
  },
  {
   "cell_type": "code",
   "execution_count": 17,
   "outputs": [],
   "source": [
    "def plot_decision_boundary(model, X, y):\n",
    "    \"\"\"\n",
    "    Plots the decision boundary created by a model prediction on X\n",
    "    \"\"\"\n",
    "    # Define the axis boundaries of the plot and create a mesh grid\n",
    "    x_min, x_max = X[:, 0].min() - 0.1, X[:, 0].max() + 0.1\n",
    "    y_min, y_max  = X[:, 1].min() - 0.1, X[:, 1].max() + 0.1\n",
    "    xx, yy = np.meshgrid(\n",
    "        np.linspace(x_min, x_max, 100),\n",
    "        np.linspace(y_min, y_max, 100)\n",
    "    )\n",
    "\n",
    "    # Create X value (we're going to make predictions on these)\n",
    "    x_in = np.c_[xx.ravel(), yy.ravel()]  # Stack 2d arrays together\n",
    "\n",
    "    # Make predictions\n",
    "    y_pred = model.predict(x_in)\n",
    "\n",
    "    # Check for multiclass\n",
    "    if model.output_shape[-1] > 1:\n",
    "        print('Doing multi-class classification')\n",
    "        # We have to reshape our prediction to get them ready for plotting\n",
    "        y_pred = np.argmax(y_pred, axis=1).reshape(xx.shape)\n",
    "\n",
    "    else:\n",
    "        print('Doing binary classification')\n",
    "        y_pred = np.round(y_pred).reshape(xx.shape)\n",
    "\n",
    "    # Plot the decision boundary\n",
    "    plt.contourf(xx, yy, y_pred, cmap=plt.cm.RdYlBu, alpha=0.7)\n",
    "    plt.scatter(X[:, 0], X[:, 1], c=y, s=40, cmap=plt.cm.RdYlBu)\n",
    "    plt.xlim(xx.min(), xx.max())\n",
    "    plt.ylim(yy.min(), yy.max())\n",
    "\n"
   ],
   "metadata": {
    "collapsed": false,
    "pycharm": {
     "name": "#%%\n"
    }
   }
  },
  {
   "cell_type": "code",
   "execution_count": 18,
   "outputs": [
    {
     "name": "stdout",
     "output_type": "stream",
     "text": [
      "101/313 [========>.....................] - ETA: 0s"
     ]
    },
    {
     "name": "stderr",
     "output_type": "stream",
     "text": [
      "2022-09-01 13:15:04.492839: I tensorflow/core/grappler/optimizers/custom_graph_optimizer_registry.cc:113] Plugin optimizer for device_type GPU is enabled.\n"
     ]
    },
    {
     "name": "stdout",
     "output_type": "stream",
     "text": [
      "313/313 [==============================] - 1s 1ms/step\n",
      "Doing binary classification\n"
     ]
    },
    {
     "data": {
      "text/plain": "<Figure size 432x288 with 1 Axes>",
      "image/png": "[encoded data removed]"
     },
     "metadata": {
      "needs_background": "light"
     },
     "output_type": "display_data"
    }
   ],
   "source": [
    "plot_decision_boundary(model_3, X, y)"
   ],
   "metadata": {
    "collapsed": false,
    "pycharm": {
     "name": "#%%\n"
    }
   }
  },
  {
   "cell_type": "code",
   "execution_count": 19,
   "outputs": [
    {
     "name": "stdout",
     "output_type": "stream",
     "text": [
      "Epoch 1/100\n",
      "WARNING:tensorflow:Model was constructed with shape (None, 2) for input KerasTensor(type_spec=TensorSpec(shape=(None, 2), dtype=tf.float32, name='dense_3_input'), name='dense_3_input', description=\"created by layer 'dense_3_input'\"), but it was called on an input with incompatible shape (None,).\n"
     ]
    },
    {
     "ename": "ValueError",
     "evalue": "in user code:\n\n    File \"/Users/georgeharris/opt/miniconda3/envs/tensorflow/lib/python3.9/site-packages/keras/engine/training.py\", line 1051, in train_function  *\n        return step_function(self, iterator)\n    File \"/Users/georgeharris/opt/miniconda3/envs/tensorflow/lib/python3.9/site-packages/keras/engine/training.py\", line 1040, in step_function  **\n        outputs = model.distribute_strategy.run(run_step, args=(data,))\n    File \"/Users/georgeharris/opt/miniconda3/envs/tensorflow/lib/python3.9/site-packages/keras/engine/training.py\", line 1030, in run_step  **\n        outputs = model.train_step(data)\n    File \"/Users/georgeharris/opt/miniconda3/envs/tensorflow/lib/python3.9/site-packages/keras/engine/training.py\", line 889, in train_step\n        y_pred = self(x, training=True)\n    File \"/Users/georgeharris/opt/miniconda3/envs/tensorflow/lib/python3.9/site-packages/keras/utils/traceback_utils.py\", line 67, in error_handler\n        raise e.with_traceback(filtered_tb) from None\n    File \"/Users/georgeharris/opt/miniconda3/envs/tensorflow/lib/python3.9/site-packages/keras/engine/input_spec.py\", line 228, in assert_input_compatibility\n        raise ValueError(f'Input {input_index} of layer \"{layer_name}\" '\n\n    ValueError: Exception encountered when calling layer \"sequential_2\" (type Sequential).\n    \n    Input 0 of layer \"dense_3\" is incompatible with the layer: expected min_ndim=2, found ndim=1. Full shape received: (None,)\n    \n    Call arguments received by layer \"sequential_2\" (type Sequential):\n      • inputs=tf.Tensor(shape=(None,), dtype=int32)\n      • training=True\n      • mask=None\n",
     "output_type": "error",
     "traceback": [
      "\u001B[0;31m---------------------------------------------------------------------------\u001B[0m",
      "\u001B[0;31mValueError\u001B[0m                                Traceback (most recent call last)",
      "Input \u001B[0;32mIn [19]\u001B[0m, in \u001B[0;36m<cell line: 16>\u001B[0;34m()\u001B[0m\n\u001B[1;32m     13\u001B[0m y_reg_test \u001B[38;5;241m=\u001B[39m y_regression[\u001B[38;5;241m150\u001B[39m:]\n\u001B[1;32m     15\u001B[0m \u001B[38;5;66;03m# Fit our model to the regression data\u001B[39;00m\n\u001B[0;32m---> 16\u001B[0m \u001B[43mmodel_3\u001B[49m\u001B[38;5;241;43m.\u001B[39;49m\u001B[43mfit\u001B[49m\u001B[43m(\u001B[49m\u001B[43mX_reg_train\u001B[49m\u001B[43m,\u001B[49m\u001B[43m \u001B[49m\u001B[43my_reg_train\u001B[49m\u001B[43m,\u001B[49m\u001B[43m \u001B[49m\u001B[43mepochs\u001B[49m\u001B[38;5;241;43m=\u001B[39;49m\u001B[38;5;241;43m100\u001B[39;49m\u001B[43m)\u001B[49m\n",
      "File \u001B[0;32m~/opt/miniconda3/envs/tensorflow/lib/python3.9/site-packages/keras/utils/traceback_utils.py:67\u001B[0m, in \u001B[0;36mfilter_traceback.<locals>.error_handler\u001B[0;34m(*args, **kwargs)\u001B[0m\n\u001B[1;32m     65\u001B[0m \u001B[38;5;28;01mexcept\u001B[39;00m \u001B[38;5;167;01mException\u001B[39;00m \u001B[38;5;28;01mas\u001B[39;00m e:  \u001B[38;5;66;03m# pylint: disable=broad-except\u001B[39;00m\n\u001B[1;32m     66\u001B[0m   filtered_tb \u001B[38;5;241m=\u001B[39m _process_traceback_frames(e\u001B[38;5;241m.\u001B[39m__traceback__)\n\u001B[0;32m---> 67\u001B[0m   \u001B[38;5;28;01mraise\u001B[39;00m e\u001B[38;5;241m.\u001B[39mwith_traceback(filtered_tb) \u001B[38;5;28;01mfrom\u001B[39;00m \u001B[38;5;28mNone\u001B[39m\n\u001B[1;32m     68\u001B[0m \u001B[38;5;28;01mfinally\u001B[39;00m:\n\u001B[1;32m     69\u001B[0m   \u001B[38;5;28;01mdel\u001B[39;00m filtered_tb\n",
      "File \u001B[0;32m/var/folders/fg/j3gkmfs95pqd7k7mhpjt2r800000gn/T/__autograph_generated_file0qx2qtxp.py:15\u001B[0m, in \u001B[0;36mouter_factory.<locals>.inner_factory.<locals>.tf__train_function\u001B[0;34m(iterator)\u001B[0m\n\u001B[1;32m     13\u001B[0m \u001B[38;5;28;01mtry\u001B[39;00m:\n\u001B[1;32m     14\u001B[0m     do_return \u001B[38;5;241m=\u001B[39m \u001B[38;5;28;01mTrue\u001B[39;00m\n\u001B[0;32m---> 15\u001B[0m     retval_ \u001B[38;5;241m=\u001B[39m ag__\u001B[38;5;241m.\u001B[39mconverted_call(ag__\u001B[38;5;241m.\u001B[39mld(step_function), (ag__\u001B[38;5;241m.\u001B[39mld(\u001B[38;5;28mself\u001B[39m), ag__\u001B[38;5;241m.\u001B[39mld(iterator)), \u001B[38;5;28;01mNone\u001B[39;00m, fscope)\n\u001B[1;32m     16\u001B[0m \u001B[38;5;28;01mexcept\u001B[39;00m:\n\u001B[1;32m     17\u001B[0m     do_return \u001B[38;5;241m=\u001B[39m \u001B[38;5;28;01mFalse\u001B[39;00m\n",
      "\u001B[0;31mValueError\u001B[0m: in user code:\n\n    File \"/Users/georgeharris/opt/miniconda3/envs/tensorflow/lib/python3.9/site-packages/keras/engine/training.py\", line 1051, in train_function  *\n        return step_function(self, iterator)\n    File \"/Users/georgeharris/opt/miniconda3/envs/tensorflow/lib/python3.9/site-packages/keras/engine/training.py\", line 1040, in step_function  **\n        outputs = model.distribute_strategy.run(run_step, args=(data,))\n    File \"/Users/georgeharris/opt/miniconda3/envs/tensorflow/lib/python3.9/site-packages/keras/engine/training.py\", line 1030, in run_step  **\n        outputs = model.train_step(data)\n    File \"/Users/georgeharris/opt/miniconda3/envs/tensorflow/lib/python3.9/site-packages/keras/engine/training.py\", line 889, in train_step\n        y_pred = self(x, training=True)\n    File \"/Users/georgeharris/opt/miniconda3/envs/tensorflow/lib/python3.9/site-packages/keras/utils/traceback_utils.py\", line 67, in error_handler\n        raise e.with_traceback(filtered_tb) from None\n    File \"/Users/georgeharris/opt/miniconda3/envs/tensorflow/lib/python3.9/site-packages/keras/engine/input_spec.py\", line 228, in assert_input_compatibility\n        raise ValueError(f'Input {input_index} of layer \"{layer_name}\" '\n\n    ValueError: Exception encountered when calling layer \"sequential_2\" (type Sequential).\n    \n    Input 0 of layer \"dense_3\" is incompatible with the layer: expected min_ndim=2, found ndim=1. Full shape received: (None,)\n    \n    Call arguments received by layer \"sequential_2\" (type Sequential):\n      • inputs=tf.Tensor(shape=(None,), dtype=int32)\n      • training=True\n      • mask=None\n"
     ]
    }
   ],
   "source": [
    "# Let's see if our model can be used for a regression problem...\n",
    "tf.random.set_seed(42)\n",
    "\n",
    "# Create some regression data\n",
    "X_regression = tf.range(0, 1000, 5)\n",
    "y_regression = tf.range(100, 1100, 5)\n",
    "\n",
    "# Split our regression data into training and test sets\n",
    "X_reg_train = X_regression[:150]\n",
    "x_reg_test = X_regression[150:]\n",
    "\n",
    "y_reg_train = y_regression[:150]\n",
    "y_reg_test = y_regression[150:]\n",
    "\n",
    "# Fit our model to the regression data\n",
    "model_3.fit(X_reg_train, y_reg_train, epochs=100)"
   ],
   "metadata": {
    "collapsed": false,
    "pycharm": {
     "name": "#%%\n"
    }
   }
  },
  {
   "cell_type": "markdown",
   "source": [
    "Oh wait... we compiled our model for a binary classification problem.\n",
    "\n",
    "But.. we're now working on a regression problem, let's change the model to suit our data."
   ],
   "metadata": {
    "collapsed": false,
    "pycharm": {
     "name": "#%% md\n"
    }
   }
  },
  {
   "cell_type": "code",
   "execution_count": 20,
   "outputs": [
    {
     "name": "stdout",
     "output_type": "stream",
     "text": [
      "Epoch 1/100\n",
      "5/5 [==============================] - 0s 11ms/step - loss: 248.2148 - mae: 248.2148\n",
      "Epoch 2/100\n",
      "5/5 [==============================] - 0s 6ms/step - loss: 138.8990 - mae: 138.8990\n",
      "Epoch 3/100\n",
      "5/5 [==============================] - 0s 5ms/step - loss: 53.1034 - mae: 53.1034\n",
      "Epoch 4/100\n",
      "5/5 [==============================] - 0s 5ms/step - loss: 73.5182 - mae: 73.5182\n",
      "Epoch 5/100\n"
     ]
    },
    {
     "name": "stderr",
     "output_type": "stream",
     "text": [
      "2022-09-01 13:16:30.100812: I tensorflow/core/grappler/optimizers/custom_graph_optimizer_registry.cc:113] Plugin optimizer for device_type GPU is enabled.\n"
     ]
    },
    {
     "name": "stdout",
     "output_type": "stream",
     "text": [
      "5/5 [==============================] - 0s 5ms/step - loss: 71.2370 - mae: 71.2370\n",
      "Epoch 6/100\n",
      "5/5 [==============================] - 0s 6ms/step - loss: 47.0045 - mae: 47.0045\n",
      "Epoch 7/100\n",
      "5/5 [==============================] - 0s 5ms/step - loss: 45.9373 - mae: 45.9373\n",
      "Epoch 8/100\n",
      "5/5 [==============================] - 0s 5ms/step - loss: 42.3634 - mae: 42.3634\n",
      "Epoch 9/100\n",
      "5/5 [==============================] - 0s 6ms/step - loss: 43.6836 - mae: 43.6836\n",
      "Epoch 10/100\n",
      "5/5 [==============================] - 0s 5ms/step - loss: 42.6201 - mae: 42.6201\n",
      "Epoch 11/100\n",
      "5/5 [==============================] - 0s 6ms/step - loss: 42.4794 - mae: 42.4794\n",
      "Epoch 12/100\n",
      "5/5 [==============================] - 0s 6ms/step - loss: 41.5533 - mae: 41.5533\n",
      "Epoch 13/100\n",
      "5/5 [==============================] - 0s 5ms/step - loss: 42.0975 - mae: 42.0975\n",
      "Epoch 14/100\n",
      "5/5 [==============================] - 0s 5ms/step - loss: 41.8650 - mae: 41.8650\n",
      "Epoch 15/100\n",
      "5/5 [==============================] - 0s 5ms/step - loss: 41.5340 - mae: 41.5340\n",
      "Epoch 16/100\n",
      "5/5 [==============================] - 0s 5ms/step - loss: 41.4026 - mae: 41.4026\n",
      "Epoch 17/100\n",
      "5/5 [==============================] - 0s 5ms/step - loss: 41.6889 - mae: 41.6889\n",
      "Epoch 18/100\n",
      "5/5 [==============================] - 0s 6ms/step - loss: 41.6138 - mae: 41.6138\n",
      "Epoch 19/100\n",
      "5/5 [==============================] - 0s 6ms/step - loss: 41.2794 - mae: 41.2794\n",
      "Epoch 20/100\n",
      "5/5 [==============================] - 0s 6ms/step - loss: 41.1948 - mae: 41.1948\n",
      "Epoch 21/100\n",
      "5/5 [==============================] - 0s 5ms/step - loss: 41.2131 - mae: 41.2131\n",
      "Epoch 22/100\n",
      "5/5 [==============================] - 0s 6ms/step - loss: 41.0892 - mae: 41.0892\n",
      "Epoch 23/100\n",
      "5/5 [==============================] - 0s 6ms/step - loss: 41.2018 - mae: 41.2018\n",
      "Epoch 24/100\n",
      "5/5 [==============================] - 0s 5ms/step - loss: 40.9990 - mae: 40.9990\n",
      "Epoch 25/100\n",
      "5/5 [==============================] - 0s 5ms/step - loss: 41.0131 - mae: 41.0131\n",
      "Epoch 26/100\n",
      "5/5 [==============================] - 0s 5ms/step - loss: 41.0653 - mae: 41.0653\n",
      "Epoch 27/100\n",
      "5/5 [==============================] - 0s 6ms/step - loss: 40.8764 - mae: 40.8764\n",
      "Epoch 28/100\n",
      "5/5 [==============================] - 0s 5ms/step - loss: 41.0546 - mae: 41.0546\n",
      "Epoch 29/100\n",
      "5/5 [==============================] - 0s 6ms/step - loss: 41.0479 - mae: 41.0479\n",
      "Epoch 30/100\n",
      "5/5 [==============================] - 0s 6ms/step - loss: 40.8806 - mae: 40.8806\n",
      "Epoch 31/100\n",
      "5/5 [==============================] - 0s 5ms/step - loss: 41.2698 - mae: 41.2698\n",
      "Epoch 32/100\n",
      "5/5 [==============================] - 0s 6ms/step - loss: 40.9947 - mae: 40.9947\n",
      "Epoch 33/100\n",
      "5/5 [==============================] - 0s 5ms/step - loss: 41.0759 - mae: 41.0759\n",
      "Epoch 34/100\n",
      "5/5 [==============================] - 0s 5ms/step - loss: 41.2473 - mae: 41.2473\n",
      "Epoch 35/100\n",
      "5/5 [==============================] - 0s 6ms/step - loss: 40.6101 - mae: 40.6101\n",
      "Epoch 36/100\n",
      "5/5 [==============================] - 0s 5ms/step - loss: 41.1092 - mae: 41.1092\n",
      "Epoch 37/100\n",
      "5/5 [==============================] - 0s 6ms/step - loss: 40.8193 - mae: 40.8193\n",
      "Epoch 38/100\n",
      "5/5 [==============================] - 0s 6ms/step - loss: 40.2486 - mae: 40.2486\n",
      "Epoch 39/100\n",
      "5/5 [==============================] - 0s 5ms/step - loss: 41.0622 - mae: 41.0622\n",
      "Epoch 40/100\n",
      "5/5 [==============================] - 0s 6ms/step - loss: 40.5311 - mae: 40.5311\n",
      "Epoch 41/100\n",
      "5/5 [==============================] - 0s 6ms/step - loss: 40.5499 - mae: 40.5499\n",
      "Epoch 42/100\n",
      "5/5 [==============================] - 0s 6ms/step - loss: 40.4321 - mae: 40.4321\n",
      "Epoch 43/100\n",
      "5/5 [==============================] - 0s 5ms/step - loss: 40.5367 - mae: 40.5367\n",
      "Epoch 44/100\n",
      "5/5 [==============================] - 0s 5ms/step - loss: 40.2488 - mae: 40.2488\n",
      "Epoch 45/100\n",
      "5/5 [==============================] - 0s 5ms/step - loss: 40.5150 - mae: 40.5150\n",
      "Epoch 46/100\n",
      "5/5 [==============================] - 0s 6ms/step - loss: 40.3703 - mae: 40.3703\n",
      "Epoch 47/100\n",
      "5/5 [==============================] - 0s 5ms/step - loss: 40.4771 - mae: 40.4771\n",
      "Epoch 48/100\n",
      "5/5 [==============================] - 0s 6ms/step - loss: 40.1531 - mae: 40.1531\n",
      "Epoch 49/100\n",
      "5/5 [==============================] - 0s 6ms/step - loss: 40.7291 - mae: 40.7291\n",
      "Epoch 50/100\n",
      "5/5 [==============================] - 0s 6ms/step - loss: 40.1536 - mae: 40.1536\n",
      "Epoch 51/100\n",
      "5/5 [==============================] - 0s 5ms/step - loss: 40.2709 - mae: 40.2709\n",
      "Epoch 52/100\n",
      "5/5 [==============================] - 0s 5ms/step - loss: 40.6574 - mae: 40.6574\n",
      "Epoch 53/100\n",
      "5/5 [==============================] - 0s 6ms/step - loss: 40.6570 - mae: 40.6570\n",
      "Epoch 54/100\n",
      "5/5 [==============================] - 0s 5ms/step - loss: 40.6893 - mae: 40.6893\n",
      "Epoch 55/100\n",
      "5/5 [==============================] - 0s 6ms/step - loss: 41.2776 - mae: 41.2776\n",
      "Epoch 56/100\n",
      "5/5 [==============================] - 0s 5ms/step - loss: 41.8513 - mae: 41.8513\n",
      "Epoch 57/100\n",
      "5/5 [==============================] - 0s 6ms/step - loss: 40.7904 - mae: 40.7904\n",
      "Epoch 58/100\n",
      "5/5 [==============================] - 0s 5ms/step - loss: 40.3131 - mae: 40.3131\n",
      "Epoch 59/100\n",
      "5/5 [==============================] - 0s 5ms/step - loss: 40.7194 - mae: 40.7194\n",
      "Epoch 60/100\n",
      "5/5 [==============================] - 0s 5ms/step - loss: 40.1479 - mae: 40.1479\n",
      "Epoch 61/100\n",
      "5/5 [==============================] - 0s 6ms/step - loss: 40.1120 - mae: 40.1120\n",
      "Epoch 62/100\n",
      "5/5 [==============================] - 0s 6ms/step - loss: 40.7796 - mae: 40.7796\n",
      "Epoch 63/100\n",
      "5/5 [==============================] - 0s 5ms/step - loss: 39.7243 - mae: 39.7243\n",
      "Epoch 64/100\n",
      "5/5 [==============================] - 0s 5ms/step - loss: 40.1467 - mae: 40.1467\n",
      "Epoch 65/100\n",
      "5/5 [==============================] - 0s 6ms/step - loss: 39.6886 - mae: 39.6886\n",
      "Epoch 66/100\n",
      "5/5 [==============================] - 0s 5ms/step - loss: 40.2841 - mae: 40.2841\n",
      "Epoch 67/100\n",
      "5/5 [==============================] - 0s 5ms/step - loss: 39.5541 - mae: 39.5541\n",
      "Epoch 68/100\n",
      "5/5 [==============================] - 0s 5ms/step - loss: 39.7377 - mae: 39.7377\n",
      "Epoch 69/100\n",
      "5/5 [==============================] - 0s 6ms/step - loss: 39.9787 - mae: 39.9787\n",
      "Epoch 70/100\n",
      "5/5 [==============================] - 0s 5ms/step - loss: 40.0013 - mae: 40.0013\n",
      "Epoch 71/100\n",
      "5/5 [==============================] - 0s 5ms/step - loss: 40.0915 - mae: 40.0915\n",
      "Epoch 72/100\n",
      "5/5 [==============================] - 0s 5ms/step - loss: 39.2548 - mae: 39.2548\n",
      "Epoch 73/100\n",
      "5/5 [==============================] - 0s 6ms/step - loss: 39.6826 - mae: 39.6826\n",
      "Epoch 74/100\n",
      "5/5 [==============================] - 0s 5ms/step - loss: 39.5375 - mae: 39.5375\n",
      "Epoch 75/100\n",
      "5/5 [==============================] - 0s 5ms/step - loss: 39.6264 - mae: 39.6264\n",
      "Epoch 76/100\n",
      "5/5 [==============================] - 0s 6ms/step - loss: 39.3110 - mae: 39.3110\n",
      "Epoch 77/100\n",
      "5/5 [==============================] - 0s 6ms/step - loss: 39.1600 - mae: 39.1600\n",
      "Epoch 78/100\n",
      "5/5 [==============================] - 0s 5ms/step - loss: 39.7547 - mae: 39.7547\n",
      "Epoch 79/100\n",
      "5/5 [==============================] - 0s 6ms/step - loss: 39.2544 - mae: 39.2544\n",
      "Epoch 80/100\n",
      "5/5 [==============================] - 0s 5ms/step - loss: 38.6969 - mae: 38.6969\n",
      "Epoch 81/100\n",
      "5/5 [==============================] - 0s 5ms/step - loss: 39.5438 - mae: 39.5438\n",
      "Epoch 82/100\n",
      "5/5 [==============================] - 0s 5ms/step - loss: 39.8689 - mae: 39.8689\n",
      "Epoch 83/100\n",
      "5/5 [==============================] - 0s 6ms/step - loss: 39.1692 - mae: 39.1692\n",
      "Epoch 84/100\n",
      "5/5 [==============================] - 0s 5ms/step - loss: 38.8841 - mae: 38.8841\n",
      "Epoch 85/100\n",
      "5/5 [==============================] - 0s 5ms/step - loss: 38.8887 - mae: 38.8887\n",
      "Epoch 86/100\n",
      "5/5 [==============================] - 0s 5ms/step - loss: 38.6616 - mae: 38.6616\n",
      "Epoch 87/100\n",
      "5/5 [==============================] - 0s 6ms/step - loss: 38.8397 - mae: 38.8397\n",
      "Epoch 88/100\n",
      "5/5 [==============================] - 0s 5ms/step - loss: 38.6604 - mae: 38.6604\n",
      "Epoch 89/100\n",
      "5/5 [==============================] - 0s 5ms/step - loss: 38.7558 - mae: 38.7558\n",
      "Epoch 90/100\n",
      "5/5 [==============================] - 0s 5ms/step - loss: 38.5443 - mae: 38.5443\n",
      "Epoch 91/100\n",
      "5/5 [==============================] - 0s 5ms/step - loss: 38.3247 - mae: 38.3247\n",
      "Epoch 92/100\n",
      "5/5 [==============================] - 0s 5ms/step - loss: 38.8431 - mae: 38.8431\n",
      "Epoch 93/100\n",
      "5/5 [==============================] - 0s 6ms/step - loss: 39.1135 - mae: 39.1135\n",
      "Epoch 94/100\n",
      "5/5 [==============================] - 0s 6ms/step - loss: 38.1464 - mae: 38.1464\n",
      "Epoch 95/100\n",
      "5/5 [==============================] - 0s 5ms/step - loss: 38.3999 - mae: 38.3999\n",
      "Epoch 96/100\n",
      "5/5 [==============================] - 0s 6ms/step - loss: 38.5598 - mae: 38.5598\n",
      "Epoch 97/100\n",
      "5/5 [==============================] - 0s 5ms/step - loss: 38.1038 - mae: 38.1038\n",
      "Epoch 98/100\n",
      "5/5 [==============================] - 0s 5ms/step - loss: 39.0081 - mae: 39.0081\n",
      "Epoch 99/100\n",
      "5/5 [==============================] - 0s 5ms/step - loss: 38.3056 - mae: 38.3056\n",
      "Epoch 100/100\n",
      "5/5 [==============================] - 0s 6ms/step - loss: 37.9977 - mae: 37.9977\n"
     ]
    },
    {
     "data": {
      "text/plain": "<keras.callbacks.History at 0x168b9c940>"
     },
     "execution_count": 20,
     "metadata": {},
     "output_type": "execute_result"
    }
   ],
   "source": [
    "# Set the random seed\n",
    "tf.random.set_seed(42)\n",
    "\n",
    "# 1. Create a model (this time 3 layers)\n",
    "model_3 = tf.keras.Sequential(\n",
    "    [\n",
    "        tf.keras.layers.Dense(100, input_shape=[1]),  # add 100 dense neurons\n",
    "        tf.keras.layers.Dense(10), # add another layer with 10 neurons\n",
    "        tf.keras.layers.Dense(1)\n",
    "    ]\n",
    ")\n",
    "\n",
    "# 2. Compile the mode - with a regression loss function\n",
    "model_3.compile(\n",
    "    loss=tf.keras.losses.mae,\n",
    "    optimizer=tf.keras.optimizers.Adam(),\n",
    "    metrics=['mae']\n",
    ")\n",
    "\n",
    "# 3. Fit the model\n",
    "model_3.fit(X_reg_train, y_reg_train, epochs=100)"
   ],
   "metadata": {
    "collapsed": false,
    "pycharm": {
     "name": "#%%\n"
    }
   }
  },
  {
   "cell_type": "code",
   "execution_count": 21,
   "outputs": [
    {
     "name": "stdout",
     "output_type": "stream",
     "text": [
      "2/2 [==============================] - 0s 9ms/step\n"
     ]
    },
    {
     "name": "stderr",
     "output_type": "stream",
     "text": [
      "2022-09-01 13:16:41.095866: I tensorflow/core/grappler/optimizers/custom_graph_optimizer_registry.cc:113] Plugin optimizer for device_type GPU is enabled.\n"
     ]
    },
    {
     "data": {
      "text/plain": "<matplotlib.legend.Legend at 0x15cb120d0>"
     },
     "execution_count": 21,
     "metadata": {},
     "output_type": "execute_result"
    },
    {
     "data": {
      "text/plain": "<Figure size 720x504 with 1 Axes>",
      "image/png": "[encoded data removed]"
     },
     "metadata": {
      "needs_background": "light"
     },
     "output_type": "display_data"
    }
   ],
   "source": [
    "# Make predictions with our trained model\n",
    "y_reg_pred = model_3.predict(x_reg_test)\n",
    "\n",
    "# Plot the model's predictions against regression data\n",
    "plt.figure(figsize=(10,7))\n",
    "plt.scatter(X_reg_train, y_reg_train, c='b', label='Training')\n",
    "plt.scatter(x_reg_test, y_reg_test, c='g', label='Test')\n",
    "plt.scatter(x_reg_test, y_reg_pred, c='r', label='Predictions')\n",
    "plt.legend()"
   ],
   "metadata": {
    "collapsed": false,
    "pycharm": {
     "name": "#%%\n"
    }
   }
  },
  {
   "cell_type": "markdown",
   "source": [
    "## The missing piece: Non-linearity"
   ],
   "metadata": {
    "collapsed": false,
    "pycharm": {
     "name": "#%% md\n"
    }
   }
  },
  {
   "cell_type": "code",
   "execution_count": 22,
   "outputs": [
    {
     "name": "stdout",
     "output_type": "stream",
     "text": [
      "Epoch 1/100\n",
      "21/32 [==================>...........] - ETA: 0s - loss: 4.3577 - accuracy: 0.4568"
     ]
    },
    {
     "name": "stderr",
     "output_type": "stream",
     "text": [
      "2022-09-01 13:16:45.907099: I tensorflow/core/grappler/optimizers/custom_graph_optimizer_registry.cc:113] Plugin optimizer for device_type GPU is enabled.\n"
     ]
    },
    {
     "name": "stdout",
     "output_type": "stream",
     "text": [
      "32/32 [==============================] - 0s 6ms/step - loss: 4.2979 - accuracy: 0.4670\n",
      "Epoch 2/100\n",
      "32/32 [==============================] - 0s 5ms/step - loss: 4.2317 - accuracy: 0.4400\n",
      "Epoch 3/100\n",
      "32/32 [==============================] - 0s 5ms/step - loss: 4.1610 - accuracy: 0.4310\n",
      "Epoch 4/100\n",
      "32/32 [==============================] - 0s 5ms/step - loss: 4.1183 - accuracy: 0.4270\n",
      "Epoch 5/100\n",
      "32/32 [==============================] - 0s 5ms/step - loss: 4.0784 - accuracy: 0.4240\n",
      "Epoch 6/100\n",
      "32/32 [==============================] - 0s 5ms/step - loss: 3.9582 - accuracy: 0.4170\n",
      "Epoch 7/100\n",
      "32/32 [==============================] - 0s 5ms/step - loss: 3.8602 - accuracy: 0.4090\n",
      "Epoch 8/100\n",
      "32/32 [==============================] - 0s 5ms/step - loss: 3.7907 - accuracy: 0.4090\n",
      "Epoch 9/100\n",
      "32/32 [==============================] - 0s 5ms/step - loss: 3.7608 - accuracy: 0.4130\n",
      "Epoch 10/100\n",
      "32/32 [==============================] - 0s 5ms/step - loss: 3.7168 - accuracy: 0.4180\n",
      "Epoch 11/100\n",
      "32/32 [==============================] - 0s 5ms/step - loss: 3.6994 - accuracy: 0.4180\n",
      "Epoch 12/100\n",
      "32/32 [==============================] - 0s 5ms/step - loss: 3.6939 - accuracy: 0.4190\n",
      "Epoch 13/100\n",
      "32/32 [==============================] - 0s 5ms/step - loss: 3.6901 - accuracy: 0.4190\n",
      "Epoch 14/100\n",
      "32/32 [==============================] - 0s 5ms/step - loss: 3.6867 - accuracy: 0.4220\n",
      "Epoch 15/100\n",
      "32/32 [==============================] - 0s 5ms/step - loss: 3.6747 - accuracy: 0.4210\n",
      "Epoch 16/100\n",
      "32/32 [==============================] - 0s 5ms/step - loss: 3.6708 - accuracy: 0.4210\n",
      "Epoch 17/100\n",
      "32/32 [==============================] - 0s 5ms/step - loss: 3.6675 - accuracy: 0.4210\n",
      "Epoch 18/100\n",
      "32/32 [==============================] - 0s 5ms/step - loss: 3.6644 - accuracy: 0.4210\n",
      "Epoch 19/100\n",
      "32/32 [==============================] - 0s 5ms/step - loss: 3.6622 - accuracy: 0.4230\n",
      "Epoch 20/100\n",
      "32/32 [==============================] - 0s 5ms/step - loss: 3.6601 - accuracy: 0.4260\n",
      "Epoch 21/100\n",
      "32/32 [==============================] - 0s 5ms/step - loss: 3.6495 - accuracy: 0.4290\n",
      "Epoch 22/100\n",
      "32/32 [==============================] - 0s 5ms/step - loss: 3.5976 - accuracy: 0.4330\n",
      "Epoch 23/100\n",
      "32/32 [==============================] - 0s 5ms/step - loss: 3.5851 - accuracy: 0.4340\n",
      "Epoch 24/100\n",
      "32/32 [==============================] - 0s 5ms/step - loss: 3.5513 - accuracy: 0.4390\n",
      "Epoch 25/100\n",
      "32/32 [==============================] - 0s 5ms/step - loss: 3.5328 - accuracy: 0.4430\n",
      "Epoch 26/100\n",
      "32/32 [==============================] - 0s 5ms/step - loss: 3.5182 - accuracy: 0.4440\n",
      "Epoch 27/100\n",
      "32/32 [==============================] - 0s 5ms/step - loss: 3.5029 - accuracy: 0.4430\n",
      "Epoch 28/100\n",
      "32/32 [==============================] - 0s 5ms/step - loss: 3.4779 - accuracy: 0.4480\n",
      "Epoch 29/100\n",
      "32/32 [==============================] - 0s 5ms/step - loss: 3.4528 - accuracy: 0.4520\n",
      "Epoch 30/100\n",
      "32/32 [==============================] - 0s 5ms/step - loss: 3.4210 - accuracy: 0.4570\n",
      "Epoch 31/100\n",
      "32/32 [==============================] - 0s 5ms/step - loss: 3.4039 - accuracy: 0.4590\n",
      "Epoch 32/100\n",
      "32/32 [==============================] - 0s 5ms/step - loss: 3.3725 - accuracy: 0.4580\n",
      "Epoch 33/100\n",
      "32/32 [==============================] - 0s 5ms/step - loss: 3.2708 - accuracy: 0.4590\n",
      "Epoch 34/100\n",
      "32/32 [==============================] - 0s 5ms/step - loss: 3.1932 - accuracy: 0.4590\n",
      "Epoch 35/100\n",
      "32/32 [==============================] - 0s 5ms/step - loss: 3.1801 - accuracy: 0.4580\n",
      "Epoch 36/100\n",
      "32/32 [==============================] - 0s 5ms/step - loss: 3.1745 - accuracy: 0.4590\n",
      "Epoch 37/100\n",
      "32/32 [==============================] - 0s 5ms/step - loss: 3.1235 - accuracy: 0.4600\n",
      "Epoch 38/100\n",
      "32/32 [==============================] - 0s 5ms/step - loss: 2.9942 - accuracy: 0.4550\n",
      "Epoch 39/100\n",
      "32/32 [==============================] - 0s 5ms/step - loss: 2.8695 - accuracy: 0.4540\n",
      "Epoch 40/100\n",
      "32/32 [==============================] - 0s 5ms/step - loss: 2.8434 - accuracy: 0.4550\n",
      "Epoch 41/100\n",
      "32/32 [==============================] - 0s 5ms/step - loss: 2.7939 - accuracy: 0.4570\n",
      "Epoch 42/100\n",
      "32/32 [==============================] - 0s 5ms/step - loss: 2.6646 - accuracy: 0.4550\n",
      "Epoch 43/100\n",
      "32/32 [==============================] - 0s 5ms/step - loss: 2.4867 - accuracy: 0.4570\n",
      "Epoch 44/100\n",
      "32/32 [==============================] - 0s 5ms/step - loss: 1.9793 - accuracy: 0.4570\n",
      "Epoch 45/100\n",
      "32/32 [==============================] - 0s 5ms/step - loss: 1.1883 - accuracy: 0.4570\n",
      "Epoch 46/100\n",
      "32/32 [==============================] - 0s 5ms/step - loss: 0.9835 - accuracy: 0.4560\n",
      "Epoch 47/100\n",
      "32/32 [==============================] - 0s 5ms/step - loss: 0.9583 - accuracy: 0.4570\n",
      "Epoch 48/100\n",
      "32/32 [==============================] - 0s 5ms/step - loss: 0.9410 - accuracy: 0.4570\n",
      "Epoch 49/100\n",
      "32/32 [==============================] - 0s 5ms/step - loss: 0.9279 - accuracy: 0.4560\n",
      "Epoch 50/100\n",
      "32/32 [==============================] - 0s 5ms/step - loss: 0.9166 - accuracy: 0.4570\n",
      "Epoch 51/100\n",
      "32/32 [==============================] - 0s 5ms/step - loss: 0.9068 - accuracy: 0.4570\n",
      "Epoch 52/100\n",
      "32/32 [==============================] - 0s 5ms/step - loss: 0.8984 - accuracy: 0.4570\n",
      "Epoch 53/100\n",
      "32/32 [==============================] - 0s 5ms/step - loss: 0.8905 - accuracy: 0.4570\n",
      "Epoch 54/100\n",
      "32/32 [==============================] - 0s 5ms/step - loss: 0.8835 - accuracy: 0.4580\n",
      "Epoch 55/100\n",
      "32/32 [==============================] - 0s 5ms/step - loss: 0.8769 - accuracy: 0.4580\n",
      "Epoch 56/100\n",
      "32/32 [==============================] - 0s 5ms/step - loss: 0.8706 - accuracy: 0.4590\n",
      "Epoch 57/100\n",
      "32/32 [==============================] - 0s 5ms/step - loss: 0.8647 - accuracy: 0.4590\n",
      "Epoch 58/100\n",
      "32/32 [==============================] - 0s 5ms/step - loss: 0.8593 - accuracy: 0.4590\n",
      "Epoch 59/100\n",
      "32/32 [==============================] - 0s 5ms/step - loss: 0.8541 - accuracy: 0.4590\n",
      "Epoch 60/100\n",
      "32/32 [==============================] - 0s 5ms/step - loss: 0.8492 - accuracy: 0.4590\n",
      "Epoch 61/100\n",
      "32/32 [==============================] - 0s 5ms/step - loss: 0.8447 - accuracy: 0.4590\n",
      "Epoch 62/100\n",
      "32/32 [==============================] - 0s 5ms/step - loss: 0.8403 - accuracy: 0.4600\n",
      "Epoch 63/100\n",
      "32/32 [==============================] - 0s 5ms/step - loss: 0.8360 - accuracy: 0.4590\n",
      "Epoch 64/100\n",
      "32/32 [==============================] - 0s 5ms/step - loss: 0.8320 - accuracy: 0.4580\n",
      "Epoch 65/100\n",
      "32/32 [==============================] - 0s 5ms/step - loss: 0.8281 - accuracy: 0.4570\n",
      "Epoch 66/100\n",
      "32/32 [==============================] - 0s 5ms/step - loss: 0.8243 - accuracy: 0.4560\n",
      "Epoch 67/100\n",
      "32/32 [==============================] - 0s 5ms/step - loss: 0.8206 - accuracy: 0.4560\n",
      "Epoch 68/100\n",
      "32/32 [==============================] - 0s 5ms/step - loss: 0.8172 - accuracy: 0.4560\n",
      "Epoch 69/100\n",
      "32/32 [==============================] - 0s 5ms/step - loss: 0.8137 - accuracy: 0.4560\n",
      "Epoch 70/100\n",
      "32/32 [==============================] - 0s 5ms/step - loss: 0.8104 - accuracy: 0.4560\n",
      "Epoch 71/100\n",
      "32/32 [==============================] - 0s 5ms/step - loss: 0.8071 - accuracy: 0.4560\n",
      "Epoch 72/100\n",
      "32/32 [==============================] - 0s 5ms/step - loss: 0.8040 - accuracy: 0.4560\n",
      "Epoch 73/100\n",
      "32/32 [==============================] - 0s 5ms/step - loss: 0.8010 - accuracy: 0.4560\n",
      "Epoch 74/100\n",
      "32/32 [==============================] - 0s 5ms/step - loss: 0.7980 - accuracy: 0.4570\n",
      "Epoch 75/100\n",
      "32/32 [==============================] - 0s 5ms/step - loss: 0.7952 - accuracy: 0.4570\n",
      "Epoch 76/100\n",
      "32/32 [==============================] - 0s 5ms/step - loss: 0.7925 - accuracy: 0.4560\n",
      "Epoch 77/100\n",
      "32/32 [==============================] - 0s 5ms/step - loss: 0.7898 - accuracy: 0.4560\n",
      "Epoch 78/100\n",
      "32/32 [==============================] - 0s 5ms/step - loss: 0.7872 - accuracy: 0.4580\n",
      "Epoch 79/100\n",
      "32/32 [==============================] - 0s 5ms/step - loss: 0.7846 - accuracy: 0.4590\n",
      "Epoch 80/100\n",
      "32/32 [==============================] - 0s 5ms/step - loss: 0.7822 - accuracy: 0.4580\n",
      "Epoch 81/100\n",
      "32/32 [==============================] - 0s 5ms/step - loss: 0.7797 - accuracy: 0.4580\n",
      "Epoch 82/100\n",
      "32/32 [==============================] - 0s 5ms/step - loss: 0.7774 - accuracy: 0.4600\n",
      "Epoch 83/100\n",
      "32/32 [==============================] - 0s 5ms/step - loss: 0.7751 - accuracy: 0.4610\n",
      "Epoch 84/100\n",
      "32/32 [==============================] - 0s 5ms/step - loss: 0.7729 - accuracy: 0.4620\n",
      "Epoch 85/100\n",
      "32/32 [==============================] - 0s 5ms/step - loss: 0.7707 - accuracy: 0.4620\n",
      "Epoch 86/100\n",
      "32/32 [==============================] - 0s 5ms/step - loss: 0.7687 - accuracy: 0.4610\n",
      "Epoch 87/100\n",
      "32/32 [==============================] - 0s 5ms/step - loss: 0.7667 - accuracy: 0.4630\n",
      "Epoch 88/100\n",
      "32/32 [==============================] - 0s 5ms/step - loss: 0.7646 - accuracy: 0.4660\n",
      "Epoch 89/100\n",
      "32/32 [==============================] - 0s 5ms/step - loss: 0.7627 - accuracy: 0.4660\n",
      "Epoch 90/100\n",
      "32/32 [==============================] - 0s 5ms/step - loss: 0.7608 - accuracy: 0.4650\n",
      "Epoch 91/100\n",
      "32/32 [==============================] - 0s 5ms/step - loss: 0.7589 - accuracy: 0.4660\n",
      "Epoch 92/100\n",
      "32/32 [==============================] - 0s 5ms/step - loss: 0.7571 - accuracy: 0.4650\n",
      "Epoch 93/100\n",
      "32/32 [==============================] - 0s 5ms/step - loss: 0.7553 - accuracy: 0.4650\n",
      "Epoch 94/100\n",
      "32/32 [==============================] - 0s 5ms/step - loss: 0.7536 - accuracy: 0.4660\n",
      "Epoch 95/100\n",
      "32/32 [==============================] - 0s 5ms/step - loss: 0.7519 - accuracy: 0.4660\n",
      "Epoch 96/100\n",
      "32/32 [==============================] - 0s 5ms/step - loss: 0.7502 - accuracy: 0.4650\n",
      "Epoch 97/100\n",
      "32/32 [==============================] - 0s 5ms/step - loss: 0.7487 - accuracy: 0.4650\n",
      "Epoch 98/100\n",
      "32/32 [==============================] - 0s 5ms/step - loss: 0.7471 - accuracy: 0.4650\n",
      "Epoch 99/100\n",
      "32/32 [==============================] - 0s 5ms/step - loss: 0.7454 - accuracy: 0.4650\n",
      "Epoch 100/100\n",
      "32/32 [==============================] - 0s 5ms/step - loss: 0.7438 - accuracy: 0.4650\n"
     ]
    }
   ],
   "source": [
    "# Set the random seed\n",
    "tf.random.set_seed(42)\n",
    "\n",
    "# 1. Create the model\n",
    "model_4 = tf.keras.Sequential(\n",
    "    [\n",
    "        tf.keras.layers.Dense(1, activation=tf.keras.activations.linear)\n",
    "    ]\n",
    ")\n",
    "\n",
    "# 2. Compile the model\n",
    "model_4.compile(\n",
    "    loss='binary_crossentropy',\n",
    "    optimizer=tf.keras.optimizers.Adam(learning_rate=0.001),\n",
    "    metrics=['accuracy']\n",
    ")\n",
    "\n",
    "# 3. Fit the model\n",
    "history = model_4.fit(X, y, epochs=100)"
   ],
   "metadata": {
    "collapsed": false,
    "pycharm": {
     "name": "#%%\n"
    }
   }
  },
  {
   "cell_type": "code",
   "execution_count": 23,
   "outputs": [
    {
     "data": {
      "text/plain": "<matplotlib.collections.PathCollection at 0x15e862af0>"
     },
     "execution_count": 23,
     "metadata": {},
     "output_type": "execute_result"
    },
    {
     "data": {
      "text/plain": "<Figure size 432x288 with 1 Axes>",
      "image/png": "[encoded data removed]"
     },
     "metadata": {
      "needs_background": "light"
     },
     "output_type": "display_data"
    }
   ],
   "source": [
    "# Check out our data\n",
    "plt.scatter(X[:, 0], X[:, 1], c=y, cmap=plt.cm.RdYlBu)"
   ],
   "metadata": {
    "collapsed": false,
    "pycharm": {
     "name": "#%%\n"
    }
   }
  },
  {
   "cell_type": "code",
   "execution_count": 24,
   "outputs": [
    {
     "name": "stdout",
     "output_type": "stream",
     "text": [
      "111/313 [=========>....................] - ETA: 0s"
     ]
    },
    {
     "name": "stderr",
     "output_type": "stream",
     "text": [
      "2022-09-01 13:17:10.925198: I tensorflow/core/grappler/optimizers/custom_graph_optimizer_registry.cc:113] Plugin optimizer for device_type GPU is enabled.\n"
     ]
    },
    {
     "name": "stdout",
     "output_type": "stream",
     "text": [
      "313/313 [==============================] - 0s 1ms/step\n",
      "Doing binary classification\n"
     ]
    },
    {
     "data": {
      "text/plain": "<Figure size 432x288 with 1 Axes>",
      "image/png": "[encoded data removed]"
     },
     "metadata": {
      "needs_background": "light"
     },
     "output_type": "display_data"
    }
   ],
   "source": [
    "# Check th decision boundary for our latest model\n",
    "plot_decision_boundary(model_4, X, y)"
   ],
   "metadata": {
    "collapsed": false,
    "pycharm": {
     "name": "#%%\n"
    }
   }
  },
  {
   "cell_type": "markdown",
   "source": [
    "Let's try to build our first neural network with a non-linear activation function."
   ],
   "metadata": {
    "collapsed": false,
    "pycharm": {
     "name": "#%% md\n"
    }
   }
  },
  {
   "cell_type": "code",
   "execution_count": 25,
   "outputs": [
    {
     "name": "stdout",
     "output_type": "stream",
     "text": [
      "Epoch 1/100\n"
     ]
    },
    {
     "name": "stderr",
     "output_type": "stream",
     "text": [
      "/Users/georgeharris/opt/miniconda3/envs/tensorflow/lib/python3.9/site-packages/keras/optimizers/optimizer_v2/adam.py:110: UserWarning: The `lr` argument is deprecated, use `learning_rate` instead.\n",
      "  super(Adam, self).__init__(name, **kwargs)\n",
      "2022-09-01 13:17:13.123220: I tensorflow/core/grappler/optimizers/custom_graph_optimizer_registry.cc:113] Plugin optimizer for device_type GPU is enabled.\n"
     ]
    },
    {
     "name": "stdout",
     "output_type": "stream",
     "text": [
      "32/32 [==============================] - 0s 6ms/step - loss: 4.2979 - accuracy: 0.4670\n",
      "Epoch 2/100\n",
      "32/32 [==============================] - 0s 5ms/step - loss: 4.2317 - accuracy: 0.4400\n",
      "Epoch 3/100\n",
      "32/32 [==============================] - 0s 5ms/step - loss: 4.1610 - accuracy: 0.4310\n",
      "Epoch 4/100\n",
      "32/32 [==============================] - 0s 5ms/step - loss: 4.1183 - accuracy: 0.4270\n",
      "Epoch 5/100\n",
      "32/32 [==============================] - 0s 5ms/step - loss: 4.0784 - accuracy: 0.4240\n",
      "Epoch 6/100\n",
      "32/32 [==============================] - 0s 5ms/step - loss: 3.9582 - accuracy: 0.4170\n",
      "Epoch 7/100\n",
      "32/32 [==============================] - 0s 5ms/step - loss: 3.8602 - accuracy: 0.4090\n",
      "Epoch 8/100\n",
      "32/32 [==============================] - 0s 5ms/step - loss: 3.7907 - accuracy: 0.4090\n",
      "Epoch 9/100\n",
      "32/32 [==============================] - 0s 5ms/step - loss: 3.7608 - accuracy: 0.4130\n",
      "Epoch 10/100\n",
      "32/32 [==============================] - 0s 5ms/step - loss: 3.7168 - accuracy: 0.4180\n",
      "Epoch 11/100\n",
      "32/32 [==============================] - 0s 5ms/step - loss: 3.6994 - accuracy: 0.4180\n",
      "Epoch 12/100\n",
      "32/32 [==============================] - 0s 5ms/step - loss: 3.6939 - accuracy: 0.4190\n",
      "Epoch 13/100\n",
      "32/32 [==============================] - 0s 5ms/step - loss: 3.6901 - accuracy: 0.4190\n",
      "Epoch 14/100\n",
      "32/32 [==============================] - 0s 5ms/step - loss: 3.6867 - accuracy: 0.4220\n",
      "Epoch 15/100\n",
      "32/32 [==============================] - 0s 5ms/step - loss: 3.6747 - accuracy: 0.4210\n",
      "Epoch 16/100\n",
      "32/32 [==============================] - 0s 5ms/step - loss: 3.6708 - accuracy: 0.4210\n",
      "Epoch 17/100\n",
      "32/32 [==============================] - 0s 5ms/step - loss: 3.6675 - accuracy: 0.4210\n",
      "Epoch 18/100\n",
      "32/32 [==============================] - 0s 5ms/step - loss: 3.6644 - accuracy: 0.4210\n",
      "Epoch 19/100\n",
      "32/32 [==============================] - 0s 5ms/step - loss: 3.6622 - accuracy: 0.4230\n",
      "Epoch 20/100\n",
      "32/32 [==============================] - 0s 5ms/step - loss: 3.6601 - accuracy: 0.4260\n",
      "Epoch 21/100\n",
      "32/32 [==============================] - 0s 5ms/step - loss: 3.6495 - accuracy: 0.4290\n",
      "Epoch 22/100\n",
      "32/32 [==============================] - 0s 5ms/step - loss: 3.5976 - accuracy: 0.4330\n",
      "Epoch 23/100\n",
      "32/32 [==============================] - 0s 5ms/step - loss: 3.5851 - accuracy: 0.4340\n",
      "Epoch 24/100\n",
      "32/32 [==============================] - 0s 5ms/step - loss: 3.5513 - accuracy: 0.4390\n",
      "Epoch 25/100\n",
      "32/32 [==============================] - 0s 5ms/step - loss: 3.5328 - accuracy: 0.4430\n",
      "Epoch 26/100\n",
      "32/32 [==============================] - 0s 5ms/step - loss: 3.5182 - accuracy: 0.4440\n",
      "Epoch 27/100\n",
      "32/32 [==============================] - 0s 5ms/step - loss: 3.5029 - accuracy: 0.4430\n",
      "Epoch 28/100\n",
      "32/32 [==============================] - 0s 5ms/step - loss: 3.4779 - accuracy: 0.4480\n",
      "Epoch 29/100\n",
      "32/32 [==============================] - 0s 5ms/step - loss: 3.4528 - accuracy: 0.4520\n",
      "Epoch 30/100\n",
      "32/32 [==============================] - 0s 5ms/step - loss: 3.4210 - accuracy: 0.4570\n",
      "Epoch 31/100\n",
      "32/32 [==============================] - 0s 5ms/step - loss: 3.4039 - accuracy: 0.4590\n",
      "Epoch 32/100\n",
      "32/32 [==============================] - 0s 5ms/step - loss: 3.3725 - accuracy: 0.4580\n",
      "Epoch 33/100\n",
      "32/32 [==============================] - 0s 5ms/step - loss: 3.2708 - accuracy: 0.4590\n",
      "Epoch 34/100\n",
      "32/32 [==============================] - 0s 5ms/step - loss: 3.1932 - accuracy: 0.4590\n",
      "Epoch 35/100\n",
      "32/32 [==============================] - 0s 5ms/step - loss: 3.1801 - accuracy: 0.4580\n",
      "Epoch 36/100\n",
      "32/32 [==============================] - 0s 5ms/step - loss: 3.1745 - accuracy: 0.4590\n",
      "Epoch 37/100\n",
      "32/32 [==============================] - 0s 5ms/step - loss: 3.1235 - accuracy: 0.4600\n",
      "Epoch 38/100\n",
      "32/32 [==============================] - 0s 5ms/step - loss: 2.9942 - accuracy: 0.4550\n",
      "Epoch 39/100\n",
      "32/32 [==============================] - 0s 5ms/step - loss: 2.8695 - accuracy: 0.4540\n",
      "Epoch 40/100\n",
      "32/32 [==============================] - 0s 5ms/step - loss: 2.8434 - accuracy: 0.4550\n",
      "Epoch 41/100\n",
      "32/32 [==============================] - 0s 5ms/step - loss: 2.7939 - accuracy: 0.4570\n",
      "Epoch 42/100\n",
      "32/32 [==============================] - 0s 5ms/step - loss: 2.6646 - accuracy: 0.4550\n",
      "Epoch 43/100\n",
      "32/32 [==============================] - 0s 5ms/step - loss: 2.4867 - accuracy: 0.4570\n",
      "Epoch 44/100\n",
      "32/32 [==============================] - 0s 5ms/step - loss: 1.9793 - accuracy: 0.4570\n",
      "Epoch 45/100\n",
      "32/32 [==============================] - 0s 5ms/step - loss: 1.1883 - accuracy: 0.4570\n",
      "Epoch 46/100\n",
      "32/32 [==============================] - 0s 5ms/step - loss: 0.9835 - accuracy: 0.4560\n",
      "Epoch 47/100\n",
      "32/32 [==============================] - 0s 5ms/step - loss: 0.9583 - accuracy: 0.4570\n",
      "Epoch 48/100\n",
      "32/32 [==============================] - 0s 5ms/step - loss: 0.9410 - accuracy: 0.4570\n",
      "Epoch 49/100\n",
      "32/32 [==============================] - 0s 5ms/step - loss: 0.9279 - accuracy: 0.4560\n",
      "Epoch 50/100\n",
      "32/32 [==============================] - 0s 5ms/step - loss: 0.9166 - accuracy: 0.4570\n",
      "Epoch 51/100\n",
      "32/32 [==============================] - 0s 5ms/step - loss: 0.9068 - accuracy: 0.4570\n",
      "Epoch 52/100\n",
      "32/32 [==============================] - 0s 5ms/step - loss: 0.8984 - accuracy: 0.4570\n",
      "Epoch 53/100\n",
      "32/32 [==============================] - 0s 5ms/step - loss: 0.8905 - accuracy: 0.4570\n",
      "Epoch 54/100\n",
      "32/32 [==============================] - 0s 5ms/step - loss: 0.8835 - accuracy: 0.4580\n",
      "Epoch 55/100\n",
      "32/32 [==============================] - 0s 5ms/step - loss: 0.8769 - accuracy: 0.4580\n",
      "Epoch 56/100\n",
      "32/32 [==============================] - 0s 5ms/step - loss: 0.8706 - accuracy: 0.4590\n",
      "Epoch 57/100\n",
      "32/32 [==============================] - 0s 5ms/step - loss: 0.8647 - accuracy: 0.4590\n",
      "Epoch 58/100\n",
      "32/32 [==============================] - 0s 5ms/step - loss: 0.8593 - accuracy: 0.4590\n",
      "Epoch 59/100\n",
      "32/32 [==============================] - 0s 5ms/step - loss: 0.8541 - accuracy: 0.4590\n",
      "Epoch 60/100\n",
      "32/32 [==============================] - 0s 5ms/step - loss: 0.8492 - accuracy: 0.4590\n",
      "Epoch 61/100\n",
      "32/32 [==============================] - 0s 5ms/step - loss: 0.8447 - accuracy: 0.4590\n",
      "Epoch 62/100\n",
      "32/32 [==============================] - 0s 5ms/step - loss: 0.8403 - accuracy: 0.4600\n",
      "Epoch 63/100\n",
      "32/32 [==============================] - 0s 5ms/step - loss: 0.8360 - accuracy: 0.4590\n",
      "Epoch 64/100\n",
      "32/32 [==============================] - 0s 5ms/step - loss: 0.8320 - accuracy: 0.4580\n",
      "Epoch 65/100\n",
      "32/32 [==============================] - 0s 5ms/step - loss: 0.8281 - accuracy: 0.4570\n",
      "Epoch 66/100\n",
      "32/32 [==============================] - 0s 5ms/step - loss: 0.8243 - accuracy: 0.4560\n",
      "Epoch 67/100\n",
      "32/32 [==============================] - 0s 5ms/step - loss: 0.8206 - accuracy: 0.4560\n",
      "Epoch 68/100\n",
      "32/32 [==============================] - 0s 5ms/step - loss: 0.8172 - accuracy: 0.4560\n",
      "Epoch 69/100\n",
      "32/32 [==============================] - 0s 5ms/step - loss: 0.8137 - accuracy: 0.4560\n",
      "Epoch 70/100\n",
      "32/32 [==============================] - 0s 5ms/step - loss: 0.8104 - accuracy: 0.4560\n",
      "Epoch 71/100\n",
      "32/32 [==============================] - 0s 5ms/step - loss: 0.8071 - accuracy: 0.4560\n",
      "Epoch 72/100\n",
      "32/32 [==============================] - 0s 5ms/step - loss: 0.8040 - accuracy: 0.4560\n",
      "Epoch 73/100\n",
      "32/32 [==============================] - 0s 5ms/step - loss: 0.8010 - accuracy: 0.4560\n",
      "Epoch 74/100\n",
      "32/32 [==============================] - 0s 5ms/step - loss: 0.7980 - accuracy: 0.4570\n",
      "Epoch 75/100\n",
      "32/32 [==============================] - 0s 5ms/step - loss: 0.7952 - accuracy: 0.4570\n",
      "Epoch 76/100\n",
      "32/32 [==============================] - 0s 5ms/step - loss: 0.7925 - accuracy: 0.4560\n",
      "Epoch 77/100\n",
      "32/32 [==============================] - 0s 5ms/step - loss: 0.7898 - accuracy: 0.4560\n",
      "Epoch 78/100\n",
      "32/32 [==============================] - 0s 5ms/step - loss: 0.7872 - accuracy: 0.4580\n",
      "Epoch 79/100\n",
      "32/32 [==============================] - 0s 5ms/step - loss: 0.7846 - accuracy: 0.4590\n",
      "Epoch 80/100\n",
      "32/32 [==============================] - 0s 5ms/step - loss: 0.7822 - accuracy: 0.4580\n",
      "Epoch 81/100\n",
      "32/32 [==============================] - 0s 5ms/step - loss: 0.7797 - accuracy: 0.4580\n",
      "Epoch 82/100\n",
      "32/32 [==============================] - 0s 5ms/step - loss: 0.7774 - accuracy: 0.4600\n",
      "Epoch 83/100\n",
      "32/32 [==============================] - 0s 5ms/step - loss: 0.7751 - accuracy: 0.4610\n",
      "Epoch 84/100\n",
      "32/32 [==============================] - 0s 5ms/step - loss: 0.7729 - accuracy: 0.4620\n",
      "Epoch 85/100\n",
      "32/32 [==============================] - 0s 5ms/step - loss: 0.7707 - accuracy: 0.4620\n",
      "Epoch 86/100\n",
      "32/32 [==============================] - 0s 5ms/step - loss: 0.7687 - accuracy: 0.4610\n",
      "Epoch 87/100\n",
      "32/32 [==============================] - 0s 5ms/step - loss: 0.7667 - accuracy: 0.4630\n",
      "Epoch 88/100\n",
      "32/32 [==============================] - 0s 5ms/step - loss: 0.7646 - accuracy: 0.4660\n",
      "Epoch 89/100\n",
      "32/32 [==============================] - 0s 5ms/step - loss: 0.7627 - accuracy: 0.4660\n",
      "Epoch 90/100\n",
      "32/32 [==============================] - 0s 5ms/step - loss: 0.7608 - accuracy: 0.4650\n",
      "Epoch 91/100\n",
      "32/32 [==============================] - 0s 5ms/step - loss: 0.7589 - accuracy: 0.4660\n",
      "Epoch 92/100\n",
      "32/32 [==============================] - 0s 5ms/step - loss: 0.7571 - accuracy: 0.4650\n",
      "Epoch 93/100\n",
      "32/32 [==============================] - 0s 5ms/step - loss: 0.7553 - accuracy: 0.4650\n",
      "Epoch 94/100\n",
      "32/32 [==============================] - 0s 5ms/step - loss: 0.7536 - accuracy: 0.4660\n",
      "Epoch 95/100\n",
      "32/32 [==============================] - 0s 5ms/step - loss: 0.7519 - accuracy: 0.4660\n",
      "Epoch 96/100\n",
      "32/32 [==============================] - 0s 5ms/step - loss: 0.7502 - accuracy: 0.4650\n",
      "Epoch 97/100\n",
      "32/32 [==============================] - 0s 5ms/step - loss: 0.7487 - accuracy: 0.4650\n",
      "Epoch 98/100\n",
      "32/32 [==============================] - 0s 5ms/step - loss: 0.7471 - accuracy: 0.4650\n",
      "Epoch 99/100\n",
      "32/32 [==============================] - 0s 5ms/step - loss: 0.7454 - accuracy: 0.4650\n",
      "Epoch 100/100\n",
      "32/32 [==============================] - 0s 5ms/step - loss: 0.7438 - accuracy: 0.4650\n"
     ]
    }
   ],
   "source": [
    "# Set random seed\n",
    "tf.random.set_seed(42)\n",
    "\n",
    "# 1. Create a model with a non-linear actiaviton\n",
    "model_5 = tf.keras.Sequential(\n",
    "    [\n",
    "        tf.keras.layers.Dense(1, activation=tf.keras.activations.relu)\n",
    "    ]\n",
    ")\n",
    "\n",
    "# 2. Compile the model\n",
    "model_5.compile(\n",
    "    loss=tf.keras.losses.BinaryCrossentropy(),\n",
    "    optimizer=tf.keras.optimizers.Adam(lr=0.001),\n",
    "    metrics=['accuracy']\n",
    ")\n",
    "\n",
    "# 3. Fit the model\n",
    "history = model_5.fit(X, y, epochs=100)"
   ],
   "metadata": {
    "collapsed": false,
    "pycharm": {
     "name": "#%%\n"
    }
   }
  },
  {
   "cell_type": "code",
   "execution_count": 26,
   "outputs": [
    {
     "name": "stdout",
     "output_type": "stream",
     "text": [
      "Epoch 1/250\n",
      "10/32 [========>.....................] - ETA: 0s - loss: 3.5752 - accuracy: 0.0000e+00"
     ]
    },
    {
     "name": "stderr",
     "output_type": "stream",
     "text": [
      "2022-09-01 13:17:30.267051: I tensorflow/core/grappler/optimizers/custom_graph_optimizer_registry.cc:113] Plugin optimizer for device_type GPU is enabled.\n"
     ]
    },
    {
     "name": "stdout",
     "output_type": "stream",
     "text": [
      "32/32 [==============================] - 0s 7ms/step - loss: 3.2090 - accuracy: 0.0010\n",
      "Epoch 2/250\n",
      "32/32 [==============================] - 0s 5ms/step - loss: 2.6774 - accuracy: 0.0050\n",
      "Epoch 3/250\n",
      "32/32 [==============================] - 0s 6ms/step - loss: 2.5260 - accuracy: 0.0100\n",
      "Epoch 4/250\n",
      "32/32 [==============================] - 0s 6ms/step - loss: 2.4545 - accuracy: 0.0220\n",
      "Epoch 5/250\n",
      "32/32 [==============================] - 0s 5ms/step - loss: 2.3271 - accuracy: 0.0420\n",
      "Epoch 6/250\n",
      "32/32 [==============================] - 0s 5ms/step - loss: 1.9320 - accuracy: 0.0790\n",
      "Epoch 7/250\n",
      "32/32 [==============================] - 0s 5ms/step - loss: 1.6532 - accuracy: 0.1220\n",
      "Epoch 8/250\n",
      "32/32 [==============================] - 0s 5ms/step - loss: 1.5984 - accuracy: 0.1320\n",
      "Epoch 9/250\n",
      "32/32 [==============================] - 0s 5ms/step - loss: 1.5334 - accuracy: 0.1440\n",
      "Epoch 10/250\n",
      "32/32 [==============================] - 0s 5ms/step - loss: 1.4115 - accuracy: 0.1490\n",
      "Epoch 11/250\n",
      "32/32 [==============================] - 0s 5ms/step - loss: 1.1693 - accuracy: 0.1470\n",
      "Epoch 12/250\n",
      "32/32 [==============================] - 0s 5ms/step - loss: 0.9169 - accuracy: 0.1200\n",
      "Epoch 13/250\n",
      "32/32 [==============================] - 0s 5ms/step - loss: 0.8940 - accuracy: 0.1270\n",
      "Epoch 14/250\n",
      "32/32 [==============================] - 0s 5ms/step - loss: 0.8787 - accuracy: 0.1360\n",
      "Epoch 15/250\n",
      "32/32 [==============================] - 0s 5ms/step - loss: 0.8655 - accuracy: 0.1490\n",
      "Epoch 16/250\n",
      "32/32 [==============================] - 0s 5ms/step - loss: 0.8540 - accuracy: 0.1640\n",
      "Epoch 17/250\n",
      "32/32 [==============================] - 0s 5ms/step - loss: 0.8435 - accuracy: 0.1840\n",
      "Epoch 18/250\n",
      "32/32 [==============================] - 0s 5ms/step - loss: 0.8338 - accuracy: 0.2030\n",
      "Epoch 19/250\n",
      "32/32 [==============================] - 0s 6ms/step - loss: 0.8250 - accuracy: 0.2110\n",
      "Epoch 20/250\n",
      "32/32 [==============================] - 0s 5ms/step - loss: 0.8165 - accuracy: 0.2170\n",
      "Epoch 21/250\n",
      "32/32 [==============================] - 0s 5ms/step - loss: 0.8087 - accuracy: 0.2220\n",
      "Epoch 22/250\n",
      "32/32 [==============================] - 0s 5ms/step - loss: 0.8010 - accuracy: 0.2210\n",
      "Epoch 23/250\n",
      "32/32 [==============================] - 0s 6ms/step - loss: 0.7939 - accuracy: 0.2240\n",
      "Epoch 24/250\n",
      "32/32 [==============================] - 0s 5ms/step - loss: 0.7873 - accuracy: 0.2300\n",
      "Epoch 25/250\n",
      "32/32 [==============================] - 0s 6ms/step - loss: 0.7810 - accuracy: 0.2340\n",
      "Epoch 26/250\n",
      "32/32 [==============================] - 0s 5ms/step - loss: 0.7747 - accuracy: 0.2330\n",
      "Epoch 27/250\n",
      "32/32 [==============================] - 0s 5ms/step - loss: 0.7686 - accuracy: 0.2370\n",
      "Epoch 28/250\n",
      "32/32 [==============================] - 0s 5ms/step - loss: 0.7625 - accuracy: 0.2410\n",
      "Epoch 29/250\n",
      "32/32 [==============================] - 0s 5ms/step - loss: 0.7571 - accuracy: 0.2420\n",
      "Epoch 30/250\n",
      "32/32 [==============================] - 0s 6ms/step - loss: 0.7514 - accuracy: 0.2470\n",
      "Epoch 31/250\n",
      "32/32 [==============================] - 0s 5ms/step - loss: 0.7456 - accuracy: 0.2460\n",
      "Epoch 32/250\n",
      "32/32 [==============================] - 0s 6ms/step - loss: 0.7389 - accuracy: 0.2410\n",
      "Epoch 33/250\n",
      "32/32 [==============================] - 0s 5ms/step - loss: 0.7310 - accuracy: 0.2350\n",
      "Epoch 34/250\n",
      "32/32 [==============================] - 0s 5ms/step - loss: 0.7245 - accuracy: 0.2270\n",
      "Epoch 35/250\n",
      "32/32 [==============================] - 0s 6ms/step - loss: 0.7195 - accuracy: 0.2180\n",
      "Epoch 36/250\n",
      "32/32 [==============================] - 0s 6ms/step - loss: 0.7158 - accuracy: 0.2220\n",
      "Epoch 37/250\n",
      "32/32 [==============================] - 0s 5ms/step - loss: 0.7130 - accuracy: 0.2260\n",
      "Epoch 38/250\n",
      "32/32 [==============================] - 0s 5ms/step - loss: 0.7105 - accuracy: 0.2260\n",
      "Epoch 39/250\n",
      "32/32 [==============================] - 0s 5ms/step - loss: 0.7079 - accuracy: 0.2340\n",
      "Epoch 40/250\n",
      "32/32 [==============================] - 0s 5ms/step - loss: 0.7058 - accuracy: 0.2440\n",
      "Epoch 41/250\n",
      "32/32 [==============================] - 0s 5ms/step - loss: 0.7037 - accuracy: 0.2470\n",
      "Epoch 42/250\n",
      "32/32 [==============================] - 0s 5ms/step - loss: 0.7017 - accuracy: 0.2550\n",
      "Epoch 43/250\n",
      "32/32 [==============================] - 0s 6ms/step - loss: 0.6998 - accuracy: 0.2490\n",
      "Epoch 44/250\n",
      "32/32 [==============================] - 0s 5ms/step - loss: 0.6983 - accuracy: 0.2520\n",
      "Epoch 45/250\n",
      "32/32 [==============================] - 0s 5ms/step - loss: 0.6964 - accuracy: 0.2560\n",
      "Epoch 46/250\n",
      "32/32 [==============================] - 0s 6ms/step - loss: 0.6949 - accuracy: 0.2550\n",
      "Epoch 47/250\n",
      "32/32 [==============================] - 0s 5ms/step - loss: 0.6937 - accuracy: 0.2520\n",
      "Epoch 48/250\n",
      "32/32 [==============================] - 0s 5ms/step - loss: 0.6922 - accuracy: 0.2540\n",
      "Epoch 49/250\n",
      "32/32 [==============================] - 0s 5ms/step - loss: 0.6909 - accuracy: 0.2610\n",
      "Epoch 50/250\n",
      "32/32 [==============================] - 0s 6ms/step - loss: 0.6897 - accuracy: 0.2610\n",
      "Epoch 51/250\n",
      "32/32 [==============================] - 0s 5ms/step - loss: 0.6887 - accuracy: 0.2580\n",
      "Epoch 52/250\n",
      "32/32 [==============================] - 0s 5ms/step - loss: 0.6877 - accuracy: 0.2520\n",
      "Epoch 53/250\n",
      "32/32 [==============================] - 0s 5ms/step - loss: 0.6869 - accuracy: 0.2530\n",
      "Epoch 54/250\n",
      "32/32 [==============================] - 0s 5ms/step - loss: 0.6857 - accuracy: 0.2500\n",
      "Epoch 55/250\n",
      "32/32 [==============================] - 0s 6ms/step - loss: 0.6851 - accuracy: 0.2500\n",
      "Epoch 56/250\n",
      "32/32 [==============================] - 0s 5ms/step - loss: 0.6842 - accuracy: 0.2650\n",
      "Epoch 57/250\n",
      "32/32 [==============================] - 0s 5ms/step - loss: 0.6834 - accuracy: 0.2960\n",
      "Epoch 58/250\n",
      "32/32 [==============================] - 0s 5ms/step - loss: 0.6828 - accuracy: 0.2970\n",
      "Epoch 59/250\n",
      "32/32 [==============================] - 0s 5ms/step - loss: 0.6823 - accuracy: 0.2880\n",
      "Epoch 60/250\n",
      "32/32 [==============================] - 0s 5ms/step - loss: 0.6814 - accuracy: 0.2570\n",
      "Epoch 61/250\n",
      "32/32 [==============================] - 0s 5ms/step - loss: 0.6808 - accuracy: 0.2750\n",
      "Epoch 62/250\n",
      "32/32 [==============================] - 0s 5ms/step - loss: 0.6802 - accuracy: 0.2720\n",
      "Epoch 63/250\n",
      "32/32 [==============================] - 0s 5ms/step - loss: 0.6796 - accuracy: 0.2680\n",
      "Epoch 64/250\n",
      "32/32 [==============================] - 0s 5ms/step - loss: 0.6791 - accuracy: 0.2800\n",
      "Epoch 65/250\n",
      "32/32 [==============================] - 0s 5ms/step - loss: 0.6787 - accuracy: 0.2870\n",
      "Epoch 66/250\n",
      "32/32 [==============================] - 0s 6ms/step - loss: 0.6782 - accuracy: 0.2940\n",
      "Epoch 67/250\n",
      "32/32 [==============================] - 0s 5ms/step - loss: 0.6777 - accuracy: 0.2990\n",
      "Epoch 68/250\n",
      "32/32 [==============================] - 0s 5ms/step - loss: 0.6772 - accuracy: 0.2960\n",
      "Epoch 69/250\n",
      "32/32 [==============================] - 0s 5ms/step - loss: 0.6768 - accuracy: 0.2990\n",
      "Epoch 70/250\n",
      "32/32 [==============================] - 0s 5ms/step - loss: 0.6764 - accuracy: 0.3060\n",
      "Epoch 71/250\n",
      "32/32 [==============================] - 0s 5ms/step - loss: 0.6761 - accuracy: 0.3120\n",
      "Epoch 72/250\n",
      "32/32 [==============================] - 0s 6ms/step - loss: 0.6756 - accuracy: 0.3140\n",
      "Epoch 73/250\n",
      "32/32 [==============================] - 0s 5ms/step - loss: 0.6754 - accuracy: 0.3130\n",
      "Epoch 74/250\n",
      "32/32 [==============================] - 0s 5ms/step - loss: 0.6748 - accuracy: 0.3180\n",
      "Epoch 75/250\n",
      "32/32 [==============================] - 0s 5ms/step - loss: 0.6747 - accuracy: 0.3170\n",
      "Epoch 76/250\n",
      "32/32 [==============================] - 0s 5ms/step - loss: 0.6743 - accuracy: 0.3220\n",
      "Epoch 77/250\n",
      "32/32 [==============================] - 0s 5ms/step - loss: 0.6739 - accuracy: 0.3260\n",
      "Epoch 78/250\n",
      "32/32 [==============================] - 0s 5ms/step - loss: 0.6735 - accuracy: 0.3290\n",
      "Epoch 79/250\n",
      "32/32 [==============================] - 0s 5ms/step - loss: 0.6732 - accuracy: 0.3290\n",
      "Epoch 80/250\n",
      "32/32 [==============================] - 0s 5ms/step - loss: 0.6727 - accuracy: 0.3280\n",
      "Epoch 81/250\n",
      "32/32 [==============================] - 0s 5ms/step - loss: 0.6727 - accuracy: 0.3330\n",
      "Epoch 82/250\n",
      "32/32 [==============================] - 0s 5ms/step - loss: 0.6723 - accuracy: 0.3460\n",
      "Epoch 83/250\n",
      "32/32 [==============================] - 0s 5ms/step - loss: 0.6719 - accuracy: 0.3490\n",
      "Epoch 84/250\n",
      "32/32 [==============================] - 0s 6ms/step - loss: 0.6712 - accuracy: 0.3480\n",
      "Epoch 85/250\n",
      "32/32 [==============================] - 0s 5ms/step - loss: 0.6710 - accuracy: 0.3470\n",
      "Epoch 86/250\n",
      "32/32 [==============================] - 0s 5ms/step - loss: 0.6711 - accuracy: 0.3480\n",
      "Epoch 87/250\n",
      "32/32 [==============================] - 0s 5ms/step - loss: 0.6702 - accuracy: 0.3530\n",
      "Epoch 88/250\n",
      "32/32 [==============================] - 0s 5ms/step - loss: 0.6698 - accuracy: 0.3540\n",
      "Epoch 89/250\n",
      "32/32 [==============================] - 0s 5ms/step - loss: 0.6697 - accuracy: 0.3460\n",
      "Epoch 90/250\n",
      "32/32 [==============================] - 0s 5ms/step - loss: 0.6695 - accuracy: 0.3600\n",
      "Epoch 91/250\n",
      "32/32 [==============================] - 0s 5ms/step - loss: 0.6686 - accuracy: 0.3490\n",
      "Epoch 92/250\n",
      "32/32 [==============================] - 0s 5ms/step - loss: 0.6685 - accuracy: 0.3530\n",
      "Epoch 93/250\n",
      "32/32 [==============================] - 0s 5ms/step - loss: 0.6685 - accuracy: 0.3520\n",
      "Epoch 94/250\n",
      "32/32 [==============================] - 0s 5ms/step - loss: 0.6677 - accuracy: 0.3560\n",
      "Epoch 95/250\n",
      "32/32 [==============================] - 0s 5ms/step - loss: 0.6672 - accuracy: 0.3500\n",
      "Epoch 96/250\n",
      "32/32 [==============================] - 0s 5ms/step - loss: 0.6669 - accuracy: 0.3620\n",
      "Epoch 97/250\n",
      "32/32 [==============================] - 0s 5ms/step - loss: 0.6664 - accuracy: 0.3600\n",
      "Epoch 98/250\n",
      "32/32 [==============================] - 0s 5ms/step - loss: 0.6659 - accuracy: 0.3650\n",
      "Epoch 99/250\n",
      "32/32 [==============================] - 0s 5ms/step - loss: 0.6658 - accuracy: 0.3630\n",
      "Epoch 100/250\n",
      "32/32 [==============================] - 0s 5ms/step - loss: 0.6656 - accuracy: 0.3760\n",
      "Epoch 101/250\n",
      "32/32 [==============================] - 0s 5ms/step - loss: 0.6646 - accuracy: 0.3690\n",
      "Epoch 102/250\n",
      "32/32 [==============================] - 0s 5ms/step - loss: 0.6637 - accuracy: 0.3650\n",
      "Epoch 103/250\n",
      "32/32 [==============================] - 0s 5ms/step - loss: 0.6631 - accuracy: 0.3620\n",
      "Epoch 104/250\n",
      "32/32 [==============================] - 0s 6ms/step - loss: 0.6626 - accuracy: 0.3630\n",
      "Epoch 105/250\n",
      "32/32 [==============================] - 0s 6ms/step - loss: 0.6623 - accuracy: 0.3670\n",
      "Epoch 106/250\n",
      "32/32 [==============================] - 0s 5ms/step - loss: 0.6612 - accuracy: 0.3620\n",
      "Epoch 107/250\n",
      "32/32 [==============================] - 0s 6ms/step - loss: 0.6607 - accuracy: 0.3560\n",
      "Epoch 108/250\n",
      "32/32 [==============================] - 0s 6ms/step - loss: 0.6598 - accuracy: 0.3610\n",
      "Epoch 109/250\n",
      "32/32 [==============================] - 0s 6ms/step - loss: 0.6590 - accuracy: 0.3880\n",
      "Epoch 110/250\n",
      "32/32 [==============================] - 0s 5ms/step - loss: 0.6584 - accuracy: 0.4050\n",
      "Epoch 111/250\n",
      "32/32 [==============================] - 0s 5ms/step - loss: 0.6577 - accuracy: 0.4150\n",
      "Epoch 112/250\n",
      "32/32 [==============================] - 0s 5ms/step - loss: 0.6570 - accuracy: 0.3900\n",
      "Epoch 113/250\n",
      "32/32 [==============================] - 0s 6ms/step - loss: 0.6558 - accuracy: 0.4080\n",
      "Epoch 114/250\n",
      "32/32 [==============================] - 0s 5ms/step - loss: 0.6551 - accuracy: 0.4210\n",
      "Epoch 115/250\n",
      "32/32 [==============================] - 0s 6ms/step - loss: 0.6541 - accuracy: 0.4140\n",
      "Epoch 116/250\n",
      "32/32 [==============================] - 0s 5ms/step - loss: 0.6531 - accuracy: 0.4210\n",
      "Epoch 117/250\n",
      "32/32 [==============================] - 0s 5ms/step - loss: 0.6527 - accuracy: 0.4200\n",
      "Epoch 118/250\n",
      "32/32 [==============================] - 0s 6ms/step - loss: 0.6514 - accuracy: 0.4200\n",
      "Epoch 119/250\n",
      "32/32 [==============================] - 0s 5ms/step - loss: 0.6499 - accuracy: 0.4140\n",
      "Epoch 120/250\n",
      "32/32 [==============================] - 0s 5ms/step - loss: 0.6490 - accuracy: 0.4130\n",
      "Epoch 121/250\n",
      "32/32 [==============================] - 0s 5ms/step - loss: 0.6475 - accuracy: 0.4060\n",
      "Epoch 122/250\n",
      "32/32 [==============================] - 0s 5ms/step - loss: 0.6464 - accuracy: 0.4090\n",
      "Epoch 123/250\n",
      "32/32 [==============================] - 0s 5ms/step - loss: 0.6449 - accuracy: 0.4040\n",
      "Epoch 124/250\n",
      "32/32 [==============================] - 0s 5ms/step - loss: 0.6435 - accuracy: 0.4030\n",
      "Epoch 125/250\n",
      "32/32 [==============================] - 0s 5ms/step - loss: 0.6424 - accuracy: 0.4040\n",
      "Epoch 126/250\n",
      "32/32 [==============================] - 0s 5ms/step - loss: 0.6408 - accuracy: 0.4010\n",
      "Epoch 127/250\n",
      "32/32 [==============================] - 0s 6ms/step - loss: 0.6393 - accuracy: 0.3990\n",
      "Epoch 128/250\n",
      "32/32 [==============================] - 0s 6ms/step - loss: 0.6383 - accuracy: 0.3970\n",
      "Epoch 129/250\n",
      "32/32 [==============================] - 0s 5ms/step - loss: 0.6363 - accuracy: 0.3990\n",
      "Epoch 130/250\n",
      "32/32 [==============================] - 0s 5ms/step - loss: 0.6353 - accuracy: 0.3970\n",
      "Epoch 131/250\n",
      "32/32 [==============================] - 0s 5ms/step - loss: 0.6332 - accuracy: 0.3900\n",
      "Epoch 132/250\n",
      "32/32 [==============================] - 0s 5ms/step - loss: 0.6317 - accuracy: 0.3930\n",
      "Epoch 133/250\n",
      "32/32 [==============================] - 0s 5ms/step - loss: 0.6299 - accuracy: 0.3920\n",
      "Epoch 134/250\n",
      "32/32 [==============================] - 0s 5ms/step - loss: 0.6281 - accuracy: 0.3930\n",
      "Epoch 135/250\n",
      "32/32 [==============================] - 0s 5ms/step - loss: 0.6262 - accuracy: 0.3900\n",
      "Epoch 136/250\n",
      "32/32 [==============================] - 0s 5ms/step - loss: 0.6245 - accuracy: 0.3900\n",
      "Epoch 137/250\n",
      "32/32 [==============================] - 0s 5ms/step - loss: 0.6228 - accuracy: 0.3830\n",
      "Epoch 138/250\n",
      "32/32 [==============================] - 0s 5ms/step - loss: 0.6214 - accuracy: 0.3820\n",
      "Epoch 139/250\n",
      "32/32 [==============================] - 0s 5ms/step - loss: 0.6186 - accuracy: 0.3840\n",
      "Epoch 140/250\n",
      "32/32 [==============================] - 0s 5ms/step - loss: 0.6177 - accuracy: 0.3840\n",
      "Epoch 141/250\n",
      "32/32 [==============================] - 0s 5ms/step - loss: 0.6150 - accuracy: 0.3800\n",
      "Epoch 142/250\n",
      "32/32 [==============================] - 0s 5ms/step - loss: 0.6131 - accuracy: 0.3780\n",
      "Epoch 143/250\n",
      "32/32 [==============================] - 0s 5ms/step - loss: 0.6118 - accuracy: 0.3790\n",
      "Epoch 144/250\n",
      "32/32 [==============================] - 0s 5ms/step - loss: 0.6092 - accuracy: 0.3770\n",
      "Epoch 145/250\n",
      "32/32 [==============================] - 0s 5ms/step - loss: 0.6074 - accuracy: 0.3770\n",
      "Epoch 146/250\n",
      "32/32 [==============================] - 0s 6ms/step - loss: 0.6051 - accuracy: 0.3810\n",
      "Epoch 147/250\n",
      "32/32 [==============================] - 0s 6ms/step - loss: 0.6041 - accuracy: 0.3730\n",
      "Epoch 148/250\n",
      "32/32 [==============================] - 0s 5ms/step - loss: 0.6012 - accuracy: 0.3800\n",
      "Epoch 149/250\n",
      "32/32 [==============================] - 0s 5ms/step - loss: 0.5991 - accuracy: 0.3820\n",
      "Epoch 150/250\n",
      "32/32 [==============================] - 0s 5ms/step - loss: 0.5981 - accuracy: 0.3780\n",
      "Epoch 151/250\n",
      "32/32 [==============================] - 0s 5ms/step - loss: 0.5954 - accuracy: 0.3850\n",
      "Epoch 152/250\n",
      "32/32 [==============================] - 0s 5ms/step - loss: 0.5936 - accuracy: 0.3760\n",
      "Epoch 153/250\n",
      "32/32 [==============================] - 0s 5ms/step - loss: 0.5915 - accuracy: 0.3850\n",
      "Epoch 154/250\n",
      "32/32 [==============================] - 0s 6ms/step - loss: 0.5900 - accuracy: 0.4080\n",
      "Epoch 155/250\n",
      "32/32 [==============================] - 0s 5ms/step - loss: 0.5866 - accuracy: 0.3930\n",
      "Epoch 156/250\n",
      "32/32 [==============================] - 0s 5ms/step - loss: 0.5847 - accuracy: 0.4020\n",
      "Epoch 157/250\n",
      "32/32 [==============================] - 0s 5ms/step - loss: 0.5824 - accuracy: 0.4000\n",
      "Epoch 158/250\n",
      "32/32 [==============================] - 0s 6ms/step - loss: 0.5808 - accuracy: 0.4180\n",
      "Epoch 159/250\n",
      "32/32 [==============================] - 0s 5ms/step - loss: 0.5783 - accuracy: 0.4150\n",
      "Epoch 160/250\n",
      "32/32 [==============================] - 0s 5ms/step - loss: 0.5767 - accuracy: 0.4150\n",
      "Epoch 161/250\n",
      "32/32 [==============================] - 0s 5ms/step - loss: 0.5737 - accuracy: 0.4240\n",
      "Epoch 162/250\n",
      "32/32 [==============================] - 0s 5ms/step - loss: 0.5716 - accuracy: 0.4240\n",
      "Epoch 163/250\n",
      "32/32 [==============================] - 0s 5ms/step - loss: 0.5692 - accuracy: 0.4350\n",
      "Epoch 164/250\n",
      "32/32 [==============================] - 0s 5ms/step - loss: 0.5670 - accuracy: 0.4310\n",
      "Epoch 165/250\n",
      "32/32 [==============================] - 0s 5ms/step - loss: 0.5651 - accuracy: 0.4260\n",
      "Epoch 166/250\n",
      "32/32 [==============================] - 0s 5ms/step - loss: 0.5624 - accuracy: 0.4300\n",
      "Epoch 167/250\n",
      "32/32 [==============================] - 0s 5ms/step - loss: 0.5605 - accuracy: 0.4200\n",
      "Epoch 168/250\n",
      "32/32 [==============================] - 0s 5ms/step - loss: 0.5579 - accuracy: 0.4340\n",
      "Epoch 169/250\n",
      "32/32 [==============================] - 0s 5ms/step - loss: 0.5554 - accuracy: 0.4410\n",
      "Epoch 170/250\n",
      "32/32 [==============================] - 0s 6ms/step - loss: 0.5529 - accuracy: 0.4370\n",
      "Epoch 171/250\n",
      "32/32 [==============================] - 0s 5ms/step - loss: 0.5505 - accuracy: 0.4380\n",
      "Epoch 172/250\n",
      "32/32 [==============================] - 0s 5ms/step - loss: 0.5489 - accuracy: 0.4410\n",
      "Epoch 173/250\n",
      "32/32 [==============================] - 0s 5ms/step - loss: 0.5464 - accuracy: 0.4330\n",
      "Epoch 174/250\n",
      "32/32 [==============================] - 0s 5ms/step - loss: 0.5435 - accuracy: 0.4390\n",
      "Epoch 175/250\n",
      "32/32 [==============================] - 0s 6ms/step - loss: 0.5407 - accuracy: 0.4280\n",
      "Epoch 176/250\n",
      "32/32 [==============================] - 0s 6ms/step - loss: 0.5389 - accuracy: 0.4290\n",
      "Epoch 177/250\n",
      "32/32 [==============================] - 0s 5ms/step - loss: 0.5355 - accuracy: 0.4560\n",
      "Epoch 178/250\n",
      "32/32 [==============================] - 0s 5ms/step - loss: 0.5334 - accuracy: 0.4510\n",
      "Epoch 179/250\n",
      "32/32 [==============================] - 0s 5ms/step - loss: 0.5304 - accuracy: 0.4510\n",
      "Epoch 180/250\n",
      "32/32 [==============================] - 0s 5ms/step - loss: 0.5280 - accuracy: 0.4450\n",
      "Epoch 181/250\n",
      "32/32 [==============================] - 0s 5ms/step - loss: 0.5254 - accuracy: 0.4640\n",
      "Epoch 182/250\n",
      "32/32 [==============================] - 0s 6ms/step - loss: 0.5233 - accuracy: 0.4710\n",
      "Epoch 183/250\n",
      "32/32 [==============================] - 0s 5ms/step - loss: 0.5204 - accuracy: 0.4560\n",
      "Epoch 184/250\n",
      "32/32 [==============================] - 0s 6ms/step - loss: 0.5177 - accuracy: 0.4640\n",
      "Epoch 185/250\n",
      "32/32 [==============================] - 0s 6ms/step - loss: 0.5151 - accuracy: 0.4800\n",
      "Epoch 186/250\n",
      "32/32 [==============================] - 0s 6ms/step - loss: 0.5121 - accuracy: 0.4750\n",
      "Epoch 187/250\n",
      "32/32 [==============================] - 0s 5ms/step - loss: 0.5092 - accuracy: 0.4740\n",
      "Epoch 188/250\n",
      "32/32 [==============================] - 0s 5ms/step - loss: 0.5063 - accuracy: 0.4790\n",
      "Epoch 189/250\n",
      "32/32 [==============================] - 0s 5ms/step - loss: 0.5037 - accuracy: 0.4760\n",
      "Epoch 190/250\n",
      "32/32 [==============================] - 0s 5ms/step - loss: 0.5016 - accuracy: 0.5200\n",
      "Epoch 191/250\n",
      "32/32 [==============================] - 0s 6ms/step - loss: 0.4983 - accuracy: 0.4820\n",
      "Epoch 192/250\n",
      "32/32 [==============================] - 0s 6ms/step - loss: 0.4960 - accuracy: 0.4920\n",
      "Epoch 193/250\n",
      "32/32 [==============================] - 0s 6ms/step - loss: 0.4928 - accuracy: 0.5120\n",
      "Epoch 194/250\n",
      "32/32 [==============================] - 0s 6ms/step - loss: 0.4904 - accuracy: 0.5040\n",
      "Epoch 195/250\n",
      "32/32 [==============================] - 0s 5ms/step - loss: 0.4871 - accuracy: 0.5020\n",
      "Epoch 196/250\n",
      "32/32 [==============================] - 0s 6ms/step - loss: 0.4844 - accuracy: 0.5200\n",
      "Epoch 197/250\n",
      "32/32 [==============================] - 0s 5ms/step - loss: 0.4820 - accuracy: 0.5090\n",
      "Epoch 198/250\n",
      "32/32 [==============================] - 0s 6ms/step - loss: 0.4799 - accuracy: 0.5320\n",
      "Epoch 199/250\n",
      "32/32 [==============================] - 0s 6ms/step - loss: 0.4777 - accuracy: 0.4850\n",
      "Epoch 200/250\n",
      "32/32 [==============================] - 0s 6ms/step - loss: 0.4731 - accuracy: 0.5190\n",
      "Epoch 201/250\n",
      "32/32 [==============================] - 0s 6ms/step - loss: 0.4706 - accuracy: 0.5360\n",
      "Epoch 202/250\n",
      "32/32 [==============================] - 0s 6ms/step - loss: 0.4675 - accuracy: 0.5230\n",
      "Epoch 203/250\n",
      "32/32 [==============================] - 0s 5ms/step - loss: 0.4648 - accuracy: 0.5190\n",
      "Epoch 204/250\n",
      "32/32 [==============================] - 0s 6ms/step - loss: 0.4622 - accuracy: 0.5220\n",
      "Epoch 205/250\n",
      "32/32 [==============================] - 0s 6ms/step - loss: 0.4590 - accuracy: 0.5300\n",
      "Epoch 206/250\n",
      "32/32 [==============================] - 0s 6ms/step - loss: 0.4566 - accuracy: 0.5220\n",
      "Epoch 207/250\n",
      "32/32 [==============================] - 0s 6ms/step - loss: 0.4535 - accuracy: 0.5250\n",
      "Epoch 208/250\n",
      "32/32 [==============================] - 0s 5ms/step - loss: 0.4503 - accuracy: 0.5290\n",
      "Epoch 209/250\n",
      "32/32 [==============================] - 0s 5ms/step - loss: 0.4479 - accuracy: 0.5250\n",
      "Epoch 210/250\n",
      "32/32 [==============================] - 0s 5ms/step - loss: 0.4448 - accuracy: 0.5180\n",
      "Epoch 211/250\n",
      "32/32 [==============================] - 0s 6ms/step - loss: 0.4431 - accuracy: 0.5420\n",
      "Epoch 212/250\n",
      "32/32 [==============================] - 0s 6ms/step - loss: 0.4392 - accuracy: 0.5190\n",
      "Epoch 213/250\n",
      "32/32 [==============================] - 0s 6ms/step - loss: 0.4361 - accuracy: 0.5270\n",
      "Epoch 214/250\n",
      "32/32 [==============================] - 0s 6ms/step - loss: 0.4333 - accuracy: 0.5160\n",
      "Epoch 215/250\n",
      "32/32 [==============================] - 0s 6ms/step - loss: 0.4304 - accuracy: 0.5300\n",
      "Epoch 216/250\n",
      "32/32 [==============================] - 0s 6ms/step - loss: 0.4282 - accuracy: 0.5220\n",
      "Epoch 217/250\n",
      "32/32 [==============================] - 0s 6ms/step - loss: 0.4249 - accuracy: 0.5170\n",
      "Epoch 218/250\n",
      "32/32 [==============================] - 0s 6ms/step - loss: 0.4228 - accuracy: 0.5040\n",
      "Epoch 219/250\n",
      "32/32 [==============================] - 0s 6ms/step - loss: 0.4195 - accuracy: 0.5410\n",
      "Epoch 220/250\n",
      "32/32 [==============================] - 0s 6ms/step - loss: 0.4166 - accuracy: 0.5220\n",
      "Epoch 221/250\n",
      "32/32 [==============================] - 0s 6ms/step - loss: 0.4140 - accuracy: 0.5180\n",
      "Epoch 222/250\n",
      "32/32 [==============================] - 0s 6ms/step - loss: 0.4108 - accuracy: 0.5040\n",
      "Epoch 223/250\n",
      "32/32 [==============================] - 0s 6ms/step - loss: 0.4081 - accuracy: 0.5230\n",
      "Epoch 224/250\n",
      "32/32 [==============================] - 0s 6ms/step - loss: 0.4049 - accuracy: 0.5170\n",
      "Epoch 225/250\n",
      "32/32 [==============================] - 0s 6ms/step - loss: 0.4033 - accuracy: 0.4930\n",
      "Epoch 226/250\n",
      "32/32 [==============================] - 0s 6ms/step - loss: 0.3991 - accuracy: 0.5230\n",
      "Epoch 227/250\n",
      "32/32 [==============================] - 0s 6ms/step - loss: 0.3965 - accuracy: 0.5210\n",
      "Epoch 228/250\n",
      "32/32 [==============================] - 0s 6ms/step - loss: 0.3935 - accuracy: 0.5120\n",
      "Epoch 229/250\n",
      "32/32 [==============================] - 0s 6ms/step - loss: 0.3906 - accuracy: 0.4930\n",
      "Epoch 230/250\n",
      "32/32 [==============================] - 0s 6ms/step - loss: 0.3876 - accuracy: 0.5280\n",
      "Epoch 231/250\n",
      "32/32 [==============================] - 0s 5ms/step - loss: 0.3847 - accuracy: 0.5090\n",
      "Epoch 232/250\n",
      "32/32 [==============================] - 0s 5ms/step - loss: 0.3820 - accuracy: 0.5180\n",
      "Epoch 233/250\n",
      "32/32 [==============================] - 0s 5ms/step - loss: 0.3793 - accuracy: 0.5180\n",
      "Epoch 234/250\n",
      "32/32 [==============================] - 0s 5ms/step - loss: 0.3763 - accuracy: 0.5020\n",
      "Epoch 235/250\n",
      "32/32 [==============================] - 0s 5ms/step - loss: 0.3736 - accuracy: 0.5100\n",
      "Epoch 236/250\n",
      "32/32 [==============================] - 0s 5ms/step - loss: 0.3706 - accuracy: 0.5100\n",
      "Epoch 237/250\n",
      "32/32 [==============================] - 0s 6ms/step - loss: 0.3680 - accuracy: 0.5060\n",
      "Epoch 238/250\n",
      "32/32 [==============================] - 0s 5ms/step - loss: 0.3660 - accuracy: 0.5030\n",
      "Epoch 239/250\n",
      "32/32 [==============================] - 0s 5ms/step - loss: 0.3635 - accuracy: 0.4960\n",
      "Epoch 240/250\n",
      "32/32 [==============================] - 0s 5ms/step - loss: 0.3603 - accuracy: 0.5220\n",
      "Epoch 241/250\n",
      "32/32 [==============================] - 0s 5ms/step - loss: 0.3576 - accuracy: 0.4920\n",
      "Epoch 242/250\n",
      "32/32 [==============================] - 0s 5ms/step - loss: 0.3555 - accuracy: 0.4940\n",
      "Epoch 243/250\n",
      "32/32 [==============================] - 0s 6ms/step - loss: 0.3526 - accuracy: 0.5070\n",
      "Epoch 244/250\n",
      "32/32 [==============================] - 0s 6ms/step - loss: 0.3503 - accuracy: 0.5200\n",
      "Epoch 245/250\n",
      "32/32 [==============================] - 0s 6ms/step - loss: 0.3475 - accuracy: 0.4780\n",
      "Epoch 246/250\n",
      "32/32 [==============================] - 0s 6ms/step - loss: 0.3452 - accuracy: 0.4880\n",
      "Epoch 247/250\n",
      "32/32 [==============================] - 0s 5ms/step - loss: 0.3431 - accuracy: 0.4790\n",
      "Epoch 248/250\n",
      "32/32 [==============================] - 0s 5ms/step - loss: 0.3403 - accuracy: 0.4860\n",
      "Epoch 249/250\n",
      "32/32 [==============================] - 0s 6ms/step - loss: 0.3377 - accuracy: 0.4850\n",
      "Epoch 250/250\n",
      "32/32 [==============================] - 0s 6ms/step - loss: 0.3354 - accuracy: 0.4840\n"
     ]
    }
   ],
   "source": [
    "# Time to replicate the multi-layer neural network from TensorFlow playground in code...\n",
    "\n",
    "# Set random seed\n",
    "tf.random.set_seed(42)\n",
    "\n",
    "# 1. Create the model\n",
    "model_6 = tf.keras.Sequential(\n",
    "    [\n",
    "        tf.keras.layers.Dense(4, activation='relu'),\n",
    "        tf.keras.layers.Dense(4, activation='relu')\n",
    "    ]\n",
    ")\n",
    "\n",
    "# 2. Compile the model\n",
    "model_6.compile(\n",
    "    loss=tf.keras.losses.BinaryCrossentropy(),\n",
    "    optimizer=tf.keras.optimizers.Adam(learning_rate=0.001),\n",
    "    metrics=['accuracy']\n",
    ")\n",
    "\n",
    "# 3. Fit the model\n",
    "history = model_6.fit(X, y, epochs=250)"
   ],
   "metadata": {
    "collapsed": false,
    "pycharm": {
     "name": "#%%\n"
    }
   }
  },
  {
   "cell_type": "code",
   "execution_count": 27,
   "outputs": [
    {
     "name": "stdout",
     "output_type": "stream",
     "text": [
      "24/32 [=====================>........] - ETA: 0s - loss: 0.3311 - accuracy: 0.4792"
     ]
    },
    {
     "name": "stderr",
     "output_type": "stream",
     "text": [
      "2022-09-01 13:18:14.566659: I tensorflow/core/grappler/optimizers/custom_graph_optimizer_registry.cc:113] Plugin optimizer for device_type GPU is enabled.\n"
     ]
    },
    {
     "name": "stdout",
     "output_type": "stream",
     "text": [
      "32/32 [==============================] - 0s 5ms/step - loss: 0.3332 - accuracy: 0.4770\n"
     ]
    },
    {
     "data": {
      "text/plain": "[0.33320391178131104, 0.47700002789497375]"
     },
     "execution_count": 27,
     "metadata": {},
     "output_type": "execute_result"
    }
   ],
   "source": [
    "# Evaluate the model\n",
    "model_6.evaluate(X, y)"
   ],
   "metadata": {
    "collapsed": false,
    "pycharm": {
     "name": "#%%\n"
    }
   }
  },
  {
   "cell_type": "code",
   "execution_count": 28,
   "outputs": [
    {
     "name": "stdout",
     "output_type": "stream",
     "text": [
      " 92/313 [=======>......................] - ETA: 0s"
     ]
    },
    {
     "name": "stderr",
     "output_type": "stream",
     "text": [
      "2022-09-01 13:18:14.807999: I tensorflow/core/grappler/optimizers/custom_graph_optimizer_registry.cc:113] Plugin optimizer for device_type GPU is enabled.\n"
     ]
    },
    {
     "name": "stdout",
     "output_type": "stream",
     "text": [
      "313/313 [==============================] - 1s 2ms/step\n",
      "Doing multi-class classification\n"
     ]
    },
    {
     "data": {
      "text/plain": "<Figure size 432x288 with 1 Axes>",
      "image/png": "[encoded data removed]"
     },
     "metadata": {
      "needs_background": "light"
     },
     "output_type": "display_data"
    }
   ],
   "source": [
    "plot_decision_boundary(model_6, X, y)"
   ],
   "metadata": {
    "collapsed": false,
    "pycharm": {
     "name": "#%%\n"
    }
   }
  },
  {
   "cell_type": "code",
   "execution_count": 29,
   "outputs": [
    {
     "name": "stdout",
     "output_type": "stream",
     "text": [
      "Epoch 1/100\n",
      " 9/32 [=======>......................] - ETA: 0s - loss: 0.6938 - accuracy: 0.4931"
     ]
    },
    {
     "name": "stderr",
     "output_type": "stream",
     "text": [
      "2022-09-01 13:18:15.659257: I tensorflow/core/grappler/optimizers/custom_graph_optimizer_registry.cc:113] Plugin optimizer for device_type GPU is enabled.\n"
     ]
    },
    {
     "name": "stdout",
     "output_type": "stream",
     "text": [
      "32/32 [==============================] - 1s 7ms/step - loss: 0.6891 - accuracy: 0.5020\n",
      "Epoch 2/100\n",
      "32/32 [==============================] - 0s 6ms/step - loss: 0.6848 - accuracy: 0.5170\n",
      "Epoch 3/100\n",
      "32/32 [==============================] - 0s 6ms/step - loss: 0.6824 - accuracy: 0.5160\n",
      "Epoch 4/100\n",
      "32/32 [==============================] - 0s 6ms/step - loss: 0.6813 - accuracy: 0.5300\n",
      "Epoch 5/100\n",
      "32/32 [==============================] - 0s 6ms/step - loss: 0.6802 - accuracy: 0.5390\n",
      "Epoch 6/100\n",
      "32/32 [==============================] - 0s 6ms/step - loss: 0.6794 - accuracy: 0.5380\n",
      "Epoch 7/100\n",
      "32/32 [==============================] - 0s 5ms/step - loss: 0.6785 - accuracy: 0.5500\n",
      "Epoch 8/100\n",
      "32/32 [==============================] - 0s 7ms/step - loss: 0.6778 - accuracy: 0.5480\n",
      "Epoch 9/100\n",
      "32/32 [==============================] - 0s 5ms/step - loss: 0.6772 - accuracy: 0.5530\n",
      "Epoch 10/100\n",
      "32/32 [==============================] - 0s 5ms/step - loss: 0.6766 - accuracy: 0.5510\n",
      "Epoch 11/100\n",
      "32/32 [==============================] - 0s 5ms/step - loss: 0.6760 - accuracy: 0.5500\n",
      "Epoch 12/100\n",
      "32/32 [==============================] - 0s 6ms/step - loss: 0.6754 - accuracy: 0.5550\n",
      "Epoch 13/100\n",
      "32/32 [==============================] - 0s 6ms/step - loss: 0.6747 - accuracy: 0.5560\n",
      "Epoch 14/100\n",
      "32/32 [==============================] - 0s 5ms/step - loss: 0.6741 - accuracy: 0.5540\n",
      "Epoch 15/100\n",
      "32/32 [==============================] - 0s 5ms/step - loss: 0.6734 - accuracy: 0.5580\n",
      "Epoch 16/100\n",
      "32/32 [==============================] - 0s 6ms/step - loss: 0.6727 - accuracy: 0.5550\n",
      "Epoch 17/100\n",
      "32/32 [==============================] - 0s 6ms/step - loss: 0.6722 - accuracy: 0.5550\n",
      "Epoch 18/100\n",
      "32/32 [==============================] - 0s 5ms/step - loss: 0.6716 - accuracy: 0.5550\n",
      "Epoch 19/100\n",
      "32/32 [==============================] - 0s 5ms/step - loss: 0.6710 - accuracy: 0.5590\n",
      "Epoch 20/100\n",
      "32/32 [==============================] - 0s 5ms/step - loss: 0.6702 - accuracy: 0.5600\n",
      "Epoch 21/100\n",
      "32/32 [==============================] - 0s 5ms/step - loss: 0.6696 - accuracy: 0.5640\n",
      "Epoch 22/100\n",
      "32/32 [==============================] - 0s 6ms/step - loss: 0.6688 - accuracy: 0.5600\n",
      "Epoch 23/100\n",
      "32/32 [==============================] - 0s 5ms/step - loss: 0.6682 - accuracy: 0.5700\n",
      "Epoch 24/100\n",
      "32/32 [==============================] - 0s 5ms/step - loss: 0.6679 - accuracy: 0.5570\n",
      "Epoch 25/100\n",
      "32/32 [==============================] - 0s 5ms/step - loss: 0.6671 - accuracy: 0.5670\n",
      "Epoch 26/100\n",
      "32/32 [==============================] - 0s 5ms/step - loss: 0.6662 - accuracy: 0.5750\n",
      "Epoch 27/100\n",
      "32/32 [==============================] - 0s 5ms/step - loss: 0.6657 - accuracy: 0.5810\n",
      "Epoch 28/100\n",
      "32/32 [==============================] - 0s 5ms/step - loss: 0.6645 - accuracy: 0.5700\n",
      "Epoch 29/100\n",
      "32/32 [==============================] - 0s 5ms/step - loss: 0.6642 - accuracy: 0.5700\n",
      "Epoch 30/100\n",
      "32/32 [==============================] - 0s 5ms/step - loss: 0.6634 - accuracy: 0.5790\n",
      "Epoch 31/100\n",
      "32/32 [==============================] - 0s 6ms/step - loss: 0.6627 - accuracy: 0.5760\n",
      "Epoch 32/100\n",
      "32/32 [==============================] - 0s 5ms/step - loss: 0.6619 - accuracy: 0.5760\n",
      "Epoch 33/100\n",
      "32/32 [==============================] - 0s 5ms/step - loss: 0.6610 - accuracy: 0.5760\n",
      "Epoch 34/100\n",
      "32/32 [==============================] - 0s 6ms/step - loss: 0.6606 - accuracy: 0.5760\n",
      "Epoch 35/100\n",
      "32/32 [==============================] - 0s 6ms/step - loss: 0.6597 - accuracy: 0.5790\n",
      "Epoch 36/100\n",
      "32/32 [==============================] - 0s 5ms/step - loss: 0.6586 - accuracy: 0.5780\n",
      "Epoch 37/100\n",
      "32/32 [==============================] - 0s 6ms/step - loss: 0.6579 - accuracy: 0.5780\n",
      "Epoch 38/100\n",
      "32/32 [==============================] - 0s 6ms/step - loss: 0.6573 - accuracy: 0.5790\n",
      "Epoch 39/100\n",
      "32/32 [==============================] - 0s 5ms/step - loss: 0.6564 - accuracy: 0.5790\n",
      "Epoch 40/100\n",
      "32/32 [==============================] - 0s 6ms/step - loss: 0.6556 - accuracy: 0.5760\n",
      "Epoch 41/100\n",
      "32/32 [==============================] - 0s 6ms/step - loss: 0.6548 - accuracy: 0.5780\n",
      "Epoch 42/100\n",
      "32/32 [==============================] - 0s 7ms/step - loss: 0.6540 - accuracy: 0.5750\n",
      "Epoch 43/100\n",
      "32/32 [==============================] - 0s 6ms/step - loss: 0.6530 - accuracy: 0.5780\n",
      "Epoch 44/100\n",
      "32/32 [==============================] - 0s 6ms/step - loss: 0.6521 - accuracy: 0.5810\n",
      "Epoch 45/100\n",
      "32/32 [==============================] - 0s 6ms/step - loss: 0.6496 - accuracy: 0.5810\n",
      "Epoch 46/100\n",
      "32/32 [==============================] - 0s 6ms/step - loss: 0.6481 - accuracy: 0.5830\n",
      "Epoch 47/100\n",
      "32/32 [==============================] - 0s 6ms/step - loss: 0.6472 - accuracy: 0.5850\n",
      "Epoch 48/100\n",
      "32/32 [==============================] - 0s 6ms/step - loss: 0.6451 - accuracy: 0.5880\n",
      "Epoch 49/100\n",
      "32/32 [==============================] - 0s 6ms/step - loss: 0.6426 - accuracy: 0.5880\n",
      "Epoch 50/100\n",
      "32/32 [==============================] - 0s 5ms/step - loss: 0.6404 - accuracy: 0.5940\n",
      "Epoch 51/100\n",
      "32/32 [==============================] - 0s 6ms/step - loss: 0.6384 - accuracy: 0.6010\n",
      "Epoch 52/100\n",
      "32/32 [==============================] - 0s 6ms/step - loss: 0.6364 - accuracy: 0.6130\n",
      "Epoch 53/100\n",
      "32/32 [==============================] - 0s 6ms/step - loss: 0.6344 - accuracy: 0.6110\n",
      "Epoch 54/100\n",
      "32/32 [==============================] - 0s 6ms/step - loss: 0.6312 - accuracy: 0.6280\n",
      "Epoch 55/100\n",
      "32/32 [==============================] - 0s 6ms/step - loss: 0.6287 - accuracy: 0.6380\n",
      "Epoch 56/100\n",
      "32/32 [==============================] - 0s 6ms/step - loss: 0.6259 - accuracy: 0.6840\n",
      "Epoch 57/100\n",
      "32/32 [==============================] - 0s 6ms/step - loss: 0.6227 - accuracy: 0.6950\n",
      "Epoch 58/100\n",
      "32/32 [==============================] - 0s 5ms/step - loss: 0.6200 - accuracy: 0.6990\n",
      "Epoch 59/100\n",
      "32/32 [==============================] - 0s 5ms/step - loss: 0.6168 - accuracy: 0.6950\n",
      "Epoch 60/100\n",
      "32/32 [==============================] - 0s 6ms/step - loss: 0.6133 - accuracy: 0.7240\n",
      "Epoch 61/100\n",
      "32/32 [==============================] - 0s 5ms/step - loss: 0.6101 - accuracy: 0.7200\n",
      "Epoch 62/100\n",
      "32/32 [==============================] - 0s 6ms/step - loss: 0.6059 - accuracy: 0.7330\n",
      "Epoch 63/100\n",
      "32/32 [==============================] - 0s 6ms/step - loss: 0.6014 - accuracy: 0.7400\n",
      "Epoch 64/100\n",
      "32/32 [==============================] - 0s 6ms/step - loss: 0.5966 - accuracy: 0.7460\n",
      "Epoch 65/100\n",
      "32/32 [==============================] - 0s 6ms/step - loss: 0.5905 - accuracy: 0.7440\n",
      "Epoch 66/100\n",
      "32/32 [==============================] - 0s 6ms/step - loss: 0.5831 - accuracy: 0.7450\n",
      "Epoch 67/100\n",
      "32/32 [==============================] - 0s 6ms/step - loss: 0.5758 - accuracy: 0.7450\n",
      "Epoch 68/100\n",
      "32/32 [==============================] - 0s 6ms/step - loss: 0.5684 - accuracy: 0.7790\n",
      "Epoch 69/100\n",
      "32/32 [==============================] - 0s 6ms/step - loss: 0.5615 - accuracy: 0.8010\n",
      "Epoch 70/100\n",
      "32/32 [==============================] - 0s 5ms/step - loss: 0.5548 - accuracy: 0.8020\n",
      "Epoch 71/100\n",
      "32/32 [==============================] - 0s 6ms/step - loss: 0.5475 - accuracy: 0.8230\n",
      "Epoch 72/100\n",
      "32/32 [==============================] - 0s 6ms/step - loss: 0.5406 - accuracy: 0.8460\n",
      "Epoch 73/100\n",
      "32/32 [==============================] - 0s 6ms/step - loss: 0.5328 - accuracy: 0.8470\n",
      "Epoch 74/100\n",
      "32/32 [==============================] - 0s 6ms/step - loss: 0.5243 - accuracy: 0.8620\n",
      "Epoch 75/100\n",
      "32/32 [==============================] - 0s 6ms/step - loss: 0.5149 - accuracy: 0.8870\n",
      "Epoch 76/100\n",
      "32/32 [==============================] - 0s 6ms/step - loss: 0.5042 - accuracy: 0.8820\n",
      "Epoch 77/100\n",
      "32/32 [==============================] - 0s 6ms/step - loss: 0.4927 - accuracy: 0.9300\n",
      "Epoch 78/100\n",
      "32/32 [==============================] - 0s 6ms/step - loss: 0.4824 - accuracy: 0.9090\n",
      "Epoch 79/100\n",
      "32/32 [==============================] - 0s 6ms/step - loss: 0.4734 - accuracy: 0.9450\n",
      "Epoch 80/100\n",
      "32/32 [==============================] - 0s 6ms/step - loss: 0.4632 - accuracy: 0.9600\n",
      "Epoch 81/100\n",
      "32/32 [==============================] - 0s 5ms/step - loss: 0.4546 - accuracy: 0.9600\n",
      "Epoch 82/100\n",
      "32/32 [==============================] - 0s 6ms/step - loss: 0.4456 - accuracy: 0.9580\n",
      "Epoch 83/100\n",
      "32/32 [==============================] - 0s 6ms/step - loss: 0.4361 - accuracy: 0.9630\n",
      "Epoch 84/100\n",
      "32/32 [==============================] - 0s 5ms/step - loss: 0.4261 - accuracy: 0.9690\n",
      "Epoch 85/100\n",
      "32/32 [==============================] - 0s 5ms/step - loss: 0.4146 - accuracy: 0.9700\n",
      "Epoch 86/100\n",
      "32/32 [==============================] - 0s 5ms/step - loss: 0.4059 - accuracy: 0.9760\n",
      "Epoch 87/100\n",
      "32/32 [==============================] - 0s 5ms/step - loss: 0.3963 - accuracy: 0.9750\n",
      "Epoch 88/100\n",
      "32/32 [==============================] - 0s 5ms/step - loss: 0.3873 - accuracy: 0.9720\n",
      "Epoch 89/100\n",
      "32/32 [==============================] - 0s 6ms/step - loss: 0.3796 - accuracy: 0.9750\n",
      "Epoch 90/100\n",
      "32/32 [==============================] - 0s 6ms/step - loss: 0.3717 - accuracy: 0.9750\n",
      "Epoch 91/100\n",
      "32/32 [==============================] - 0s 6ms/step - loss: 0.3636 - accuracy: 0.9840\n",
      "Epoch 92/100\n",
      "32/32 [==============================] - 0s 6ms/step - loss: 0.3554 - accuracy: 0.9830\n",
      "Epoch 93/100\n",
      "32/32 [==============================] - 0s 6ms/step - loss: 0.3482 - accuracy: 0.9800\n",
      "Epoch 94/100\n",
      "32/32 [==============================] - 0s 6ms/step - loss: 0.3405 - accuracy: 0.9820\n",
      "Epoch 95/100\n",
      "32/32 [==============================] - 0s 5ms/step - loss: 0.3330 - accuracy: 0.9880\n",
      "Epoch 96/100\n",
      "32/32 [==============================] - 0s 5ms/step - loss: 0.3269 - accuracy: 0.9870\n",
      "Epoch 97/100\n",
      "32/32 [==============================] - 0s 5ms/step - loss: 0.3190 - accuracy: 0.9870\n",
      "Epoch 98/100\n",
      "32/32 [==============================] - 0s 5ms/step - loss: 0.3123 - accuracy: 0.9890\n",
      "Epoch 99/100\n",
      "32/32 [==============================] - 0s 5ms/step - loss: 0.3059 - accuracy: 0.9880\n",
      "Epoch 100/100\n",
      "32/32 [==============================] - 0s 5ms/step - loss: 0.2993 - accuracy: 0.9890\n"
     ]
    },
    {
     "data": {
      "text/plain": "<keras.callbacks.History at 0x177c10550>"
     },
     "execution_count": 29,
     "metadata": {},
     "output_type": "execute_result"
    }
   ],
   "source": [
    "# Set random seed\n",
    "tf.random.set_seed(42)\n",
    "\n",
    "# 1. Create the model\n",
    "model_7 = tf.keras.Sequential(\n",
    "    [\n",
    "        tf.keras.layers.Dense(4, activation='relu'),\n",
    "        tf.keras.layers.Dense(4, activation='relu'),\n",
    "        tf.keras.layers.Dense(1, activation='sigmoid')\n",
    "    ]\n",
    ")\n",
    "\n",
    "# 2. Compile the model\n",
    "model_7.compile(\n",
    "    loss=tf.keras.losses.BinaryCrossentropy(),\n",
    "    optimizer=tf.keras.optimizers.Adam(learning_rate=0.001),\n",
    "    metrics=['accuracy']\n",
    ")\n",
    "\n",
    "# 3. Fit the model\n",
    "model_7.fit(\n",
    "    X, y,\n",
    "    epochs=100\n",
    ")"
   ],
   "metadata": {
    "collapsed": false,
    "pycharm": {
     "name": "#%%\n"
    }
   }
  },
  {
   "cell_type": "code",
   "execution_count": 32,
   "outputs": [
    {
     "name": "stdout",
     "output_type": "stream",
     "text": [
      "32/32 [==============================] - 0s 5ms/step - loss: 0.2949 - accuracy: 0.9910\n"
     ]
    },
    {
     "data": {
      "text/plain": "[0.29486289620399475, 0.9910000562667847]"
     },
     "execution_count": 32,
     "metadata": {},
     "output_type": "execute_result"
    }
   ],
   "source": [
    "# Evaluate the model\n",
    "model_7.evaluate(X, y)"
   ],
   "metadata": {
    "collapsed": false,
    "pycharm": {
     "name": "#%%\n"
    }
   }
  },
  {
   "cell_type": "code",
   "execution_count": 33,
   "outputs": [
    {
     "name": "stdout",
     "output_type": "stream",
     "text": [
      "313/313 [==============================] - 0s 2ms/step\n",
      "Doing binary classification\n"
     ]
    },
    {
     "data": {
      "text/plain": "<Figure size 432x288 with 1 Axes>",
      "image/png": "[encoded data removed]"
     },
     "metadata": {
      "needs_background": "light"
     },
     "output_type": "display_data"
    }
   ],
   "source": [
    "# Let's visualize our incredible metrics\n",
    "plot_decision_boundary(model_7, X, y)"
   ],
   "metadata": {
    "collapsed": false,
    "pycharm": {
     "name": "#%%\n"
    }
   }
  },
  {
   "cell_type": "markdown",
   "source": [
    "**Question:** What is wrong with the predictions we have made? Are we really evaluating our model correctly? Hint: What data did we learn on and what data did we predict on?\n",
    "\n",
    "**Answer:** The predictions we made are using the same X data we used to train. Ideally, we would have three sets, a training, testing and validation set. We use the training to build the model, and the validation set to test each experiment and when we have made the best model we can, we test against the test set. This means our test set never touches the model until we are ready to test completely.\n",
    "\n",
    "Now we've discussed the concept of linear and non-linear functions (or lines), let's see them in action."
   ],
   "metadata": {
    "collapsed": false,
    "pycharm": {
     "name": "#%% md\n"
    }
   }
  },
  {
   "cell_type": "code",
   "execution_count": 34,
   "outputs": [],
   "source": [
    "# Create a toy tensor (similar to the data we pass into our models)\n",
    "\n",
    "A = tf.cast(tf.range(-10, 10), tf.float32)"
   ],
   "metadata": {
    "collapsed": false,
    "pycharm": {
     "name": "#%%\n"
    }
   }
  },
  {
   "cell_type": "code",
   "execution_count": 35,
   "outputs": [
    {
     "data": {
      "text/plain": "[<matplotlib.lines.Line2D at 0x16c8886d0>]"
     },
     "execution_count": 35,
     "metadata": {},
     "output_type": "execute_result"
    },
    {
     "data": {
      "text/plain": "<Figure size 432x288 with 1 Axes>",
      "image/png": "[encoded data removed]"
     },
     "metadata": {
      "needs_background": "light"
     },
     "output_type": "display_data"
    }
   ],
   "source": [
    "# Visualise our toy tensor\n",
    "plt.plot(A)"
   ],
   "metadata": {
    "collapsed": false,
    "pycharm": {
     "name": "#%%\n"
    }
   }
  },
  {
   "cell_type": "code",
   "execution_count": 36,
   "outputs": [
    {
     "data": {
      "text/plain": "[<matplotlib.lines.Line2D at 0x15e51dbe0>]"
     },
     "execution_count": 36,
     "metadata": {},
     "output_type": "execute_result"
    },
    {
     "data": {
      "text/plain": "<Figure size 432x288 with 1 Axes>",
      "image/png": "[encoded data removed]"
     },
     "metadata": {
      "needs_background": "light"
     },
     "output_type": "display_data"
    }
   ],
   "source": [
    "plt.plot(tf.keras.activations.sigmoid(A))"
   ],
   "metadata": {
    "collapsed": false,
    "pycharm": {
     "name": "#%%\n"
    }
   }
  },
  {
   "cell_type": "code",
   "execution_count": 37,
   "outputs": [
    {
     "data": {
      "text/plain": "<tf.Tensor: shape=(20,), dtype=float32, numpy=\narray([0., 0., 0., 0., 0., 0., 0., 0., 0., 0., 0., 1., 2., 3., 4., 5., 6.,\n       7., 8., 9.], dtype=float32)>"
     },
     "execution_count": 37,
     "metadata": {},
     "output_type": "execute_result"
    }
   ],
   "source": [
    "# Let's recreate the relu function\n",
    "def relu(x):\n",
    "    return tf.maximum(0, x)\n",
    "\n",
    "# Pass our toy tensor to our custom relu funciton\n",
    "relu(A)"
   ],
   "metadata": {
    "collapsed": false,
    "pycharm": {
     "name": "#%%\n"
    }
   }
  },
  {
   "cell_type": "code",
   "execution_count": 38,
   "outputs": [
    {
     "data": {
      "text/plain": "[<matplotlib.lines.Line2D at 0x16c835eb0>]"
     },
     "execution_count": 38,
     "metadata": {},
     "output_type": "execute_result"
    },
    {
     "data": {
      "text/plain": "<Figure size 432x288 with 1 Axes>",
      "image/png": "[encoded data removed]"
     },
     "metadata": {
      "needs_background": "light"
     },
     "output_type": "display_data"
    }
   ],
   "source": [
    "plt.plot(relu(A))"
   ],
   "metadata": {
    "collapsed": false,
    "pycharm": {
     "name": "#%%\n"
    }
   }
  },
  {
   "cell_type": "code",
   "execution_count": 39,
   "outputs": [
    {
     "data": {
      "text/plain": "[<matplotlib.lines.Line2D at 0x177c390d0>]"
     },
     "execution_count": 39,
     "metadata": {},
     "output_type": "execute_result"
    },
    {
     "data": {
      "text/plain": "<Figure size 432x288 with 1 Axes>",
      "image/png": "[encoded data removed]"
     },
     "metadata": {
      "needs_background": "light"
     },
     "output_type": "display_data"
    }
   ],
   "source": [
    "# Alternatively you can just use the tf activation function\n",
    "plt.plot(tf.keras.activations.relu(A))"
   ],
   "metadata": {
    "collapsed": false,
    "pycharm": {
     "name": "#%%\n"
    }
   }
  },
  {
   "cell_type": "markdown",
   "source": [
    "## Evaluating and improving our classification model\n",
    "\n",
    "So far we've been training and testing on the same dataset...\n",
    "\n",
    "However, in machine learning this is basically a sin.\n",
    "\n",
    "So let's create a training and test set."
   ],
   "metadata": {
    "collapsed": false,
    "pycharm": {
     "name": "#%% md\n"
    }
   }
  },
  {
   "cell_type": "code",
   "execution_count": 40,
   "outputs": [
    {
     "data": {
      "text/plain": "1000"
     },
     "execution_count": 40,
     "metadata": {},
     "output_type": "execute_result"
    }
   ],
   "source": [
    "# Check how many examples we have\n",
    "len(X)"
   ],
   "metadata": {
    "collapsed": false,
    "pycharm": {
     "name": "#%%\n"
    }
   }
  },
  {
   "cell_type": "code",
   "execution_count": 41,
   "outputs": [
    {
     "data": {
      "text/plain": "((800, 2), (200, 2), (800,), (200,))"
     },
     "execution_count": 41,
     "metadata": {},
     "output_type": "execute_result"
    }
   ],
   "source": [
    "# Split into train and test sets\n",
    "X_train, y_train = X[:800], y[:800]\n",
    "X_test, y_test = X[800:], y[800:]\n",
    "\n",
    "X_train.shape, X_test.shape, y_train.shape, y_test.shape"
   ],
   "metadata": {
    "collapsed": false,
    "pycharm": {
     "name": "#%%\n"
    }
   }
  },
  {
   "cell_type": "code",
   "execution_count": 42,
   "outputs": [
    {
     "name": "stdout",
     "output_type": "stream",
     "text": [
      "Epoch 1/25\n"
     ]
    },
    {
     "name": "stderr",
     "output_type": "stream",
     "text": [
      "/Users/georgeharris/opt/miniconda3/envs/tensorflow/lib/python3.9/site-packages/keras/optimizers/optimizer_v2/adam.py:110: UserWarning: The `lr` argument is deprecated, use `learning_rate` instead.\n",
      "  super(Adam, self).__init__(name, **kwargs)\n",
      "2022-09-01 13:18:54.470369: I tensorflow/core/grappler/optimizers/custom_graph_optimizer_registry.cc:113] Plugin optimizer for device_type GPU is enabled.\n"
     ]
    },
    {
     "name": "stdout",
     "output_type": "stream",
     "text": [
      "25/25 [==============================] - 0s 5ms/step - loss: 0.6847 - accuracy: 0.5425\n",
      "Epoch 2/25\n",
      "25/25 [==============================] - 0s 5ms/step - loss: 0.6777 - accuracy: 0.5525\n",
      "Epoch 3/25\n",
      "25/25 [==============================] - 0s 5ms/step - loss: 0.6736 - accuracy: 0.5512\n",
      "Epoch 4/25\n",
      "25/25 [==============================] - 0s 5ms/step - loss: 0.6681 - accuracy: 0.5775\n",
      "Epoch 5/25\n",
      "25/25 [==============================] - 0s 5ms/step - loss: 0.6633 - accuracy: 0.5850\n",
      "Epoch 6/25\n",
      "25/25 [==============================] - 0s 4ms/step - loss: 0.6546 - accuracy: 0.5838\n",
      "Epoch 7/25\n",
      "25/25 [==============================] - 0s 4ms/step - loss: 0.6413 - accuracy: 0.6750\n",
      "Epoch 8/25\n",
      "25/25 [==============================] - 0s 5ms/step - loss: 0.6264 - accuracy: 0.7012\n",
      "Epoch 9/25\n",
      "25/25 [==============================] - 0s 5ms/step - loss: 0.6038 - accuracy: 0.7487\n",
      "Epoch 10/25\n",
      "25/25 [==============================] - 0s 5ms/step - loss: 0.5714 - accuracy: 0.7738\n",
      "Epoch 11/25\n",
      "25/25 [==============================] - 0s 5ms/step - loss: 0.5404 - accuracy: 0.7650\n",
      "Epoch 12/25\n",
      "25/25 [==============================] - 0s 5ms/step - loss: 0.5015 - accuracy: 0.7837\n",
      "Epoch 13/25\n",
      "25/25 [==============================] - 0s 5ms/step - loss: 0.4683 - accuracy: 0.7975\n",
      "Epoch 14/25\n",
      "25/25 [==============================] - 0s 4ms/step - loss: 0.4113 - accuracy: 0.8450\n",
      "Epoch 15/25\n",
      "25/25 [==============================] - 0s 5ms/step - loss: 0.3625 - accuracy: 0.9125\n",
      "Epoch 16/25\n",
      "25/25 [==============================] - 0s 5ms/step - loss: 0.3209 - accuracy: 0.9312\n",
      "Epoch 17/25\n",
      "25/25 [==============================] - 0s 5ms/step - loss: 0.2847 - accuracy: 0.9487\n",
      "Epoch 18/25\n",
      "25/25 [==============================] - 0s 5ms/step - loss: 0.2597 - accuracy: 0.9525\n",
      "Epoch 19/25\n",
      "25/25 [==============================] - 0s 5ms/step - loss: 0.2375 - accuracy: 0.9562\n",
      "Epoch 20/25\n",
      "25/25 [==============================] - 0s 5ms/step - loss: 0.2135 - accuracy: 0.9663\n",
      "Epoch 21/25\n",
      "25/25 [==============================] - 0s 4ms/step - loss: 0.1938 - accuracy: 0.9775\n",
      "Epoch 22/25\n",
      "25/25 [==============================] - 0s 4ms/step - loss: 0.1752 - accuracy: 0.9737\n",
      "Epoch 23/25\n",
      "25/25 [==============================] - 0s 4ms/step - loss: 0.1619 - accuracy: 0.9787\n",
      "Epoch 24/25\n",
      "25/25 [==============================] - 0s 5ms/step - loss: 0.1550 - accuracy: 0.9775\n",
      "Epoch 25/25\n",
      "25/25 [==============================] - 0s 5ms/step - loss: 0.1490 - accuracy: 0.9762\n"
     ]
    }
   ],
   "source": [
    "# Let's recreate a model to fit on the training data and evaluate on the testing data\n",
    "\n",
    "# Set the random set\n",
    "tf.random.set_seed(42)\n",
    "\n",
    "# 1. Create the model (same as model_7)\n",
    "model_8 = tf.keras.Sequential(\n",
    "    [\n",
    "        tf.keras.layers.Dense(4, activation='relu'),\n",
    "        tf.keras.layers.Dense(4, activation='relu'),\n",
    "        tf.keras.layers.Dense(1, activation='sigmoid')\n",
    "    ]\n",
    ")\n",
    "\n",
    "# 2. Compile the model\n",
    "model_8.compile(\n",
    "    loss='binary_crossentropy',\n",
    "    optimizer=tf.keras.optimizers.Adam(lr=0.01),\n",
    "    metrics=['accuracy']\n",
    ")\n",
    "\n",
    "# 3. Fit the model\n",
    "history = model_8.fit(\n",
    "    X_train, y_train,\n",
    "    epochs=25\n",
    ")\n"
   ],
   "metadata": {
    "collapsed": false,
    "pycharm": {
     "name": "#%%\n"
    }
   }
  },
  {
   "cell_type": "code",
   "execution_count": 43,
   "outputs": [
    {
     "name": "stdout",
     "output_type": "stream",
     "text": [
      "7/7 [==============================] - 0s 8ms/step - loss: 0.1247 - accuracy: 1.0000\n"
     ]
    },
    {
     "name": "stderr",
     "output_type": "stream",
     "text": [
      "2022-09-01 13:18:59.511770: I tensorflow/core/grappler/optimizers/custom_graph_optimizer_registry.cc:113] Plugin optimizer for device_type GPU is enabled.\n"
     ]
    },
    {
     "data": {
      "text/plain": "[0.12468879669904709, 1.0]"
     },
     "execution_count": 43,
     "metadata": {},
     "output_type": "execute_result"
    }
   ],
   "source": [
    "# 4. Evaluate the model on the test dataset\n",
    "model_8.evaluate(X_test, y_test)"
   ],
   "metadata": {
    "collapsed": false,
    "pycharm": {
     "name": "#%%\n"
    }
   }
  },
  {
   "cell_type": "code",
   "execution_count": 44,
   "outputs": [
    {
     "name": "stdout",
     "output_type": "stream",
     "text": [
      " 89/313 [=======>......................] - ETA: 0s"
     ]
    },
    {
     "name": "stderr",
     "output_type": "stream",
     "text": [
      "2022-09-01 13:19:00.038031: I tensorflow/core/grappler/optimizers/custom_graph_optimizer_registry.cc:113] Plugin optimizer for device_type GPU is enabled.\n"
     ]
    },
    {
     "name": "stdout",
     "output_type": "stream",
     "text": [
      "313/313 [==============================] - 1s 2ms/step\n",
      "Doing binary classification\n",
      "313/313 [==============================] - 1s 2ms/step\n",
      "Doing binary classification\n"
     ]
    },
    {
     "data": {
      "text/plain": "<Figure size 864x432 with 2 Axes>",
      "image/png": "[encoded data removed]"
     },
     "metadata": {
      "needs_background": "light"
     },
     "output_type": "display_data"
    }
   ],
   "source": [
    "# Plot the decision boundaries for the training and test sets\n",
    "plt.figure(figsize=(12, 6))\n",
    "\n",
    "plt.subplot(1, 2, 1)\n",
    "plt.title('Train')\n",
    "plot_decision_boundary(model_8, X=X_train, y=y_train)\n",
    "\n",
    "plt.subplot(1, 2, 2)\n",
    "plt.title('Test')\n",
    "plot_decision_boundary(model_8, X_test, y_test)\n",
    "\n",
    "plt.show()"
   ],
   "metadata": {
    "collapsed": false,
    "pycharm": {
     "name": "#%%\n"
    }
   }
  },
  {
   "cell_type": "markdown",
   "source": [
    "## Plot the loss (or training) curves"
   ],
   "metadata": {
    "collapsed": false,
    "pycharm": {
     "name": "#%% md\n"
    }
   }
  },
  {
   "cell_type": "code",
   "execution_count": 45,
   "outputs": [
    {
     "data": {
      "text/plain": "        loss  accuracy\n0   0.684651   0.54250\n1   0.677721   0.55250\n2   0.673594   0.55125\n3   0.668148   0.57750\n4   0.663269   0.58500\n5   0.654567   0.58375\n6   0.641258   0.67500\n7   0.626428   0.70125\n8   0.603831   0.74875\n9   0.571404   0.77375\n10  0.540443   0.76500\n11  0.501504   0.78375\n12  0.468332   0.79750\n13  0.411302   0.84500\n14  0.362507   0.91250\n15  0.320905   0.93125\n16  0.284709   0.94875\n17  0.259721   0.95250\n18  0.237470   0.95625\n19  0.213520   0.96625\n20  0.193821   0.97750\n21  0.175244   0.97375\n22  0.161894   0.97875\n23  0.154990   0.97750\n24  0.148973   0.97625",
      "text/html": "<div>\n<style scoped>\n    .dataframe tbody tr th:only-of-type {\n        vertical-align: middle;\n    }\n\n    .dataframe tbody tr th {\n        vertical-align: top;\n    }\n\n    .dataframe thead th {\n        text-align: right;\n    }\n</style>\n<table border=\"1\" class=\"dataframe\">\n  <thead>\n    <tr style=\"text-align: right;\">\n      <th></th>\n      <th>loss</th>\n      <th>accuracy</th>\n    </tr>\n  </thead>\n  <tbody>\n    <tr>\n      <th>0</th>\n      <td>0.684651</td>\n      <td>0.54250</td>\n    </tr>\n    <tr>\n      <th>1</th>\n      <td>0.677721</td>\n      <td>0.55250</td>\n    </tr>\n    <tr>\n      <th>2</th>\n      <td>0.673594</td>\n      <td>0.55125</td>\n    </tr>\n    <tr>\n      <th>3</th>\n      <td>0.668148</td>\n      <td>0.57750</td>\n    </tr>\n    <tr>\n      <th>4</th>\n      <td>0.663269</td>\n      <td>0.58500</td>\n    </tr>\n    <tr>\n      <th>5</th>\n      <td>0.654567</td>\n      <td>0.58375</td>\n    </tr>\n    <tr>\n      <th>6</th>\n      <td>0.641258</td>\n      <td>0.67500</td>\n    </tr>\n    <tr>\n      <th>7</th>\n      <td>0.626428</td>\n      <td>0.70125</td>\n    </tr>\n    <tr>\n      <th>8</th>\n      <td>0.603831</td>\n      <td>0.74875</td>\n    </tr>\n    <tr>\n      <th>9</th>\n      <td>0.571404</td>\n      <td>0.77375</td>\n    </tr>\n    <tr>\n      <th>10</th>\n      <td>0.540443</td>\n      <td>0.76500</td>\n    </tr>\n    <tr>\n      <th>11</th>\n      <td>0.501504</td>\n      <td>0.78375</td>\n    </tr>\n    <tr>\n      <th>12</th>\n      <td>0.468332</td>\n      <td>0.79750</td>\n    </tr>\n    <tr>\n      <th>13</th>\n      <td>0.411302</td>\n      <td>0.84500</td>\n    </tr>\n    <tr>\n      <th>14</th>\n      <td>0.362507</td>\n      <td>0.91250</td>\n    </tr>\n    <tr>\n      <th>15</th>\n      <td>0.320905</td>\n      <td>0.93125</td>\n    </tr>\n    <tr>\n      <th>16</th>\n      <td>0.284709</td>\n      <td>0.94875</td>\n    </tr>\n    <tr>\n      <th>17</th>\n      <td>0.259721</td>\n      <td>0.95250</td>\n    </tr>\n    <tr>\n      <th>18</th>\n      <td>0.237470</td>\n      <td>0.95625</td>\n    </tr>\n    <tr>\n      <th>19</th>\n      <td>0.213520</td>\n      <td>0.96625</td>\n    </tr>\n    <tr>\n      <th>20</th>\n      <td>0.193821</td>\n      <td>0.97750</td>\n    </tr>\n    <tr>\n      <th>21</th>\n      <td>0.175244</td>\n      <td>0.97375</td>\n    </tr>\n    <tr>\n      <th>22</th>\n      <td>0.161894</td>\n      <td>0.97875</td>\n    </tr>\n    <tr>\n      <th>23</th>\n      <td>0.154990</td>\n      <td>0.97750</td>\n    </tr>\n    <tr>\n      <th>24</th>\n      <td>0.148973</td>\n      <td>0.97625</td>\n    </tr>\n  </tbody>\n</table>\n</div>"
     },
     "execution_count": 45,
     "metadata": {},
     "output_type": "execute_result"
    }
   ],
   "source": [
    "# Convert the history object into a dataframe\n",
    "pd.DataFrame(history.history)"
   ],
   "metadata": {
    "collapsed": false,
    "pycharm": {
     "name": "#%%\n"
    }
   }
  },
  {
   "cell_type": "code",
   "execution_count": 46,
   "outputs": [
    {
     "data": {
      "text/plain": "<AxesSubplot:>"
     },
     "execution_count": 46,
     "metadata": {},
     "output_type": "execute_result"
    },
    {
     "data": {
      "text/plain": "<Figure size 432x288 with 1 Axes>",
      "image/png": "[encoded data removed]"
     },
     "metadata": {
      "needs_background": "light"
     },
     "output_type": "display_data"
    }
   ],
   "source": [
    "# Plot the loss curves\n",
    "pd.DataFrame(history.history).plot()"
   ],
   "metadata": {
    "collapsed": false,
    "pycharm": {
     "name": "#%%\n"
    }
   }
  },
  {
   "cell_type": "markdown",
   "source": [
    "**Note:** For many problems, the loss function going down means the model is improving (the predictions it's making are getting closer to the ground truth labels).\n",
    "\n",
    "## Finding the best learning rate\n",
    "\n",
    "To find the ideal learning rate (the learning rate where the loss decreases the most during training) we're going to use the following steps:\n",
    "* A learning rate *callback* - you can think of a call back as an extra piece of functionality, you can add to your model while it's training.\n",
    "* Another model (we could use the same one as above, but we're practicing building models here).\n",
    "* A modified loss curves plot"
   ],
   "metadata": {
    "collapsed": false,
    "pycharm": {
     "name": "#%% md\n"
    }
   }
  },
  {
   "cell_type": "code",
   "execution_count": 47,
   "outputs": [
    {
     "name": "stdout",
     "output_type": "stream",
     "text": [
      "Epoch 1/100\n",
      "22/25 [=========================>....] - ETA: 0s - loss: 0.6958 - accuracy: 0.4957"
     ]
    },
    {
     "name": "stderr",
     "output_type": "stream",
     "text": [
      "2022-09-01 13:19:02.378447: I tensorflow/core/grappler/optimizers/custom_graph_optimizer_registry.cc:113] Plugin optimizer for device_type GPU is enabled.\n"
     ]
    },
    {
     "name": "stdout",
     "output_type": "stream",
     "text": [
      "25/25 [==============================] - 0s 5ms/step - loss: 0.6945 - accuracy: 0.4988 - lr: 1.0000e-04\n",
      "Epoch 2/100\n",
      "25/25 [==============================] - 0s 5ms/step - loss: 0.6938 - accuracy: 0.4975 - lr: 1.1220e-04\n",
      "Epoch 3/100\n",
      "25/25 [==============================] - 0s 5ms/step - loss: 0.6930 - accuracy: 0.4963 - lr: 1.2589e-04\n",
      "Epoch 4/100\n",
      "25/25 [==============================] - 0s 5ms/step - loss: 0.6922 - accuracy: 0.4975 - lr: 1.4125e-04\n",
      "Epoch 5/100\n",
      "25/25 [==============================] - 0s 5ms/step - loss: 0.6914 - accuracy: 0.5062 - lr: 1.5849e-04\n",
      "Epoch 6/100\n",
      "25/25 [==============================] - 0s 5ms/step - loss: 0.6906 - accuracy: 0.5012 - lr: 1.7783e-04\n",
      "Epoch 7/100\n",
      "25/25 [==============================] - 0s 5ms/step - loss: 0.6898 - accuracy: 0.4950 - lr: 1.9953e-04\n",
      "Epoch 8/100\n",
      "25/25 [==============================] - 0s 4ms/step - loss: 0.6889 - accuracy: 0.5037 - lr: 2.2387e-04\n",
      "Epoch 9/100\n",
      "25/25 [==============================] - 0s 5ms/step - loss: 0.6880 - accuracy: 0.5012 - lr: 2.5119e-04\n",
      "Epoch 10/100\n",
      "25/25 [==============================] - 0s 5ms/step - loss: 0.6871 - accuracy: 0.5050 - lr: 2.8184e-04\n",
      "Epoch 11/100\n",
      "25/25 [==============================] - 0s 4ms/step - loss: 0.6863 - accuracy: 0.5200 - lr: 3.1623e-04\n",
      "Epoch 12/100\n",
      "25/25 [==============================] - 0s 4ms/step - loss: 0.6856 - accuracy: 0.5163 - lr: 3.5481e-04\n",
      "Epoch 13/100\n",
      "25/25 [==============================] - 0s 5ms/step - loss: 0.6847 - accuracy: 0.5175 - lr: 3.9811e-04\n",
      "Epoch 14/100\n",
      "25/25 [==============================] - 0s 4ms/step - loss: 0.6842 - accuracy: 0.5200 - lr: 4.4668e-04\n",
      "Epoch 15/100\n",
      "25/25 [==============================] - 0s 5ms/step - loss: 0.6835 - accuracy: 0.5213 - lr: 5.0119e-04\n",
      "Epoch 16/100\n",
      "25/25 [==============================] - 0s 4ms/step - loss: 0.6829 - accuracy: 0.5213 - lr: 5.6234e-04\n",
      "Epoch 17/100\n",
      "25/25 [==============================] - 0s 5ms/step - loss: 0.6826 - accuracy: 0.5225 - lr: 6.3096e-04\n",
      "Epoch 18/100\n",
      "25/25 [==============================] - 0s 6ms/step - loss: 0.6819 - accuracy: 0.5300 - lr: 7.0795e-04\n",
      "Epoch 19/100\n",
      "25/25 [==============================] - 0s 4ms/step - loss: 0.6816 - accuracy: 0.5312 - lr: 7.9433e-04\n",
      "Epoch 20/100\n",
      "25/25 [==============================] - 0s 4ms/step - loss: 0.6811 - accuracy: 0.5387 - lr: 8.9125e-04\n",
      "Epoch 21/100\n",
      "25/25 [==============================] - 0s 5ms/step - loss: 0.6806 - accuracy: 0.5400 - lr: 0.0010\n",
      "Epoch 22/100\n",
      "25/25 [==============================] - 0s 5ms/step - loss: 0.6801 - accuracy: 0.5412 - lr: 0.0011\n",
      "Epoch 23/100\n",
      "25/25 [==============================] - 0s 5ms/step - loss: 0.6796 - accuracy: 0.5400 - lr: 0.0013\n",
      "Epoch 24/100\n",
      "25/25 [==============================] - 0s 5ms/step - loss: 0.6790 - accuracy: 0.5425 - lr: 0.0014\n",
      "Epoch 25/100\n",
      "25/25 [==============================] - 0s 5ms/step - loss: 0.6784 - accuracy: 0.5450 - lr: 0.0016\n",
      "Epoch 26/100\n",
      "25/25 [==============================] - 0s 4ms/step - loss: 0.6778 - accuracy: 0.5387 - lr: 0.0018\n",
      "Epoch 27/100\n",
      "25/25 [==============================] - 0s 4ms/step - loss: 0.6770 - accuracy: 0.5425 - lr: 0.0020\n",
      "Epoch 28/100\n",
      "25/25 [==============================] - 0s 5ms/step - loss: 0.6760 - accuracy: 0.5537 - lr: 0.0022\n",
      "Epoch 29/100\n",
      "25/25 [==============================] - 0s 4ms/step - loss: 0.6754 - accuracy: 0.5512 - lr: 0.0025\n",
      "Epoch 30/100\n",
      "25/25 [==============================] - 0s 5ms/step - loss: 0.6739 - accuracy: 0.5575 - lr: 0.0028\n",
      "Epoch 31/100\n",
      "25/25 [==============================] - 0s 5ms/step - loss: 0.6726 - accuracy: 0.5500 - lr: 0.0032\n",
      "Epoch 32/100\n",
      "25/25 [==============================] - 0s 5ms/step - loss: 0.6711 - accuracy: 0.5512 - lr: 0.0035\n",
      "Epoch 33/100\n",
      "25/25 [==============================] - 0s 4ms/step - loss: 0.6688 - accuracy: 0.5562 - lr: 0.0040\n",
      "Epoch 34/100\n",
      "25/25 [==============================] - 0s 4ms/step - loss: 0.6672 - accuracy: 0.5612 - lr: 0.0045\n",
      "Epoch 35/100\n",
      "25/25 [==============================] - 0s 5ms/step - loss: 0.6660 - accuracy: 0.5888 - lr: 0.0050\n",
      "Epoch 36/100\n",
      "25/25 [==============================] - 0s 4ms/step - loss: 0.6625 - accuracy: 0.5625 - lr: 0.0056\n",
      "Epoch 37/100\n",
      "25/25 [==============================] - 0s 4ms/step - loss: 0.6560 - accuracy: 0.5813 - lr: 0.0063\n",
      "Epoch 38/100\n",
      "25/25 [==============================] - 0s 5ms/step - loss: 0.6521 - accuracy: 0.6025 - lr: 0.0071\n",
      "Epoch 39/100\n",
      "25/25 [==============================] - 0s 4ms/step - loss: 0.6415 - accuracy: 0.7088 - lr: 0.0079\n",
      "Epoch 40/100\n",
      "25/25 [==============================] - 0s 4ms/step - loss: 0.6210 - accuracy: 0.7113 - lr: 0.0089\n",
      "Epoch 41/100\n",
      "25/25 [==============================] - 0s 4ms/step - loss: 0.5904 - accuracy: 0.7487 - lr: 0.0100\n",
      "Epoch 42/100\n",
      "25/25 [==============================] - 0s 5ms/step - loss: 0.5688 - accuracy: 0.7312 - lr: 0.0112\n",
      "Epoch 43/100\n",
      "25/25 [==============================] - 0s 4ms/step - loss: 0.5346 - accuracy: 0.7562 - lr: 0.0126\n",
      "Epoch 44/100\n",
      "25/25 [==============================] - 0s 5ms/step - loss: 0.4533 - accuracy: 0.8150 - lr: 0.0141\n",
      "Epoch 45/100\n",
      "25/25 [==============================] - 0s 5ms/step - loss: 0.3455 - accuracy: 0.9112 - lr: 0.0158\n",
      "Epoch 46/100\n",
      "25/25 [==============================] - 0s 5ms/step - loss: 0.2570 - accuracy: 0.9462 - lr: 0.0178\n",
      "Epoch 47/100\n",
      "25/25 [==============================] - 0s 5ms/step - loss: 0.1968 - accuracy: 0.9575 - lr: 0.0200\n",
      "Epoch 48/100\n",
      "25/25 [==============================] - 0s 5ms/step - loss: 0.1336 - accuracy: 0.9700 - lr: 0.0224\n",
      "Epoch 49/100\n",
      "25/25 [==============================] - 0s 5ms/step - loss: 0.1310 - accuracy: 0.9613 - lr: 0.0251\n",
      "Epoch 50/100\n",
      "25/25 [==============================] - 0s 4ms/step - loss: 0.1002 - accuracy: 0.9700 - lr: 0.0282\n",
      "Epoch 51/100\n",
      "25/25 [==============================] - 0s 5ms/step - loss: 0.1166 - accuracy: 0.9638 - lr: 0.0316\n",
      "Epoch 52/100\n",
      "25/25 [==============================] - 0s 5ms/step - loss: 0.1368 - accuracy: 0.9512 - lr: 0.0355\n",
      "Epoch 53/100\n",
      "25/25 [==============================] - 0s 5ms/step - loss: 0.0879 - accuracy: 0.9787 - lr: 0.0398\n",
      "Epoch 54/100\n",
      "25/25 [==============================] - 0s 4ms/step - loss: 0.1187 - accuracy: 0.9587 - lr: 0.0447\n",
      "Epoch 55/100\n",
      "25/25 [==============================] - 0s 4ms/step - loss: 0.0733 - accuracy: 0.9712 - lr: 0.0501\n",
      "Epoch 56/100\n",
      "25/25 [==============================] - 0s 5ms/step - loss: 0.1132 - accuracy: 0.9550 - lr: 0.0562\n",
      "Epoch 57/100\n",
      "25/25 [==============================] - 0s 4ms/step - loss: 0.1057 - accuracy: 0.9613 - lr: 0.0631\n",
      "Epoch 58/100\n",
      "25/25 [==============================] - 0s 5ms/step - loss: 0.0663 - accuracy: 0.9750 - lr: 0.0708\n",
      "Epoch 59/100\n",
      "25/25 [==============================] - 0s 4ms/step - loss: 0.1884 - accuracy: 0.9275 - lr: 0.0794\n",
      "Epoch 60/100\n",
      "25/25 [==============================] - 0s 5ms/step - loss: 0.1900 - accuracy: 0.9312 - lr: 0.0891\n",
      "Epoch 61/100\n",
      "25/25 [==============================] - 0s 4ms/step - loss: 0.4293 - accuracy: 0.8475 - lr: 0.1000\n",
      "Epoch 62/100\n",
      "25/25 [==============================] - 0s 4ms/step - loss: 0.1769 - accuracy: 0.9737 - lr: 0.1122\n",
      "Epoch 63/100\n",
      "25/25 [==============================] - 0s 4ms/step - loss: 0.0585 - accuracy: 0.9912 - lr: 0.1259\n",
      "Epoch 64/100\n",
      "25/25 [==============================] - 0s 5ms/step - loss: 0.0956 - accuracy: 0.9688 - lr: 0.1413\n",
      "Epoch 65/100\n",
      "25/25 [==============================] - 0s 5ms/step - loss: 0.1147 - accuracy: 0.9613 - lr: 0.1585\n",
      "Epoch 66/100\n",
      "25/25 [==============================] - 0s 5ms/step - loss: 0.3388 - accuracy: 0.8850 - lr: 0.1778\n",
      "Epoch 67/100\n",
      "25/25 [==============================] - 0s 5ms/step - loss: 0.5149 - accuracy: 0.8087 - lr: 0.1995\n",
      "Epoch 68/100\n",
      "25/25 [==============================] - 0s 5ms/step - loss: 0.2650 - accuracy: 0.9100 - lr: 0.2239\n",
      "Epoch 69/100\n",
      "25/25 [==============================] - 0s 5ms/step - loss: 0.0700 - accuracy: 0.9800 - lr: 0.2512\n",
      "Epoch 70/100\n",
      "25/25 [==============================] - 0s 5ms/step - loss: 0.2062 - accuracy: 0.9112 - lr: 0.2818\n",
      "Epoch 71/100\n",
      "25/25 [==============================] - 0s 5ms/step - loss: 0.6779 - accuracy: 0.7713 - lr: 0.3162\n",
      "Epoch 72/100\n",
      "25/25 [==============================] - 0s 5ms/step - loss: 0.4428 - accuracy: 0.8025 - lr: 0.3548\n",
      "Epoch 73/100\n",
      "25/25 [==============================] - 0s 5ms/step - loss: 0.4539 - accuracy: 0.7937 - lr: 0.3981\n",
      "Epoch 74/100\n",
      "25/25 [==============================] - 0s 4ms/step - loss: 0.4646 - accuracy: 0.7250 - lr: 0.4467\n",
      "Epoch 75/100\n",
      "25/25 [==============================] - 0s 5ms/step - loss: 0.4435 - accuracy: 0.7975 - lr: 0.5012\n",
      "Epoch 76/100\n",
      "25/25 [==============================] - 0s 5ms/step - loss: 0.3030 - accuracy: 0.8787 - lr: 0.5623\n",
      "Epoch 77/100\n",
      "25/25 [==============================] - 0s 5ms/step - loss: 0.2624 - accuracy: 0.8937 - lr: 0.6310\n",
      "Epoch 78/100\n",
      "25/25 [==============================] - 0s 5ms/step - loss: 0.4809 - accuracy: 0.8662 - lr: 0.7079\n",
      "Epoch 79/100\n",
      "25/25 [==============================] - 0s 5ms/step - loss: 0.7559 - accuracy: 0.5938 - lr: 0.7943\n",
      "Epoch 80/100\n",
      "25/25 [==============================] - 0s 5ms/step - loss: 0.6483 - accuracy: 0.5512 - lr: 0.8913\n",
      "Epoch 81/100\n",
      "25/25 [==============================] - 0s 5ms/step - loss: 0.7125 - accuracy: 0.5012 - lr: 1.0000\n",
      "Epoch 82/100\n",
      "25/25 [==============================] - 0s 5ms/step - loss: 0.7137 - accuracy: 0.5412 - lr: 1.1220\n",
      "Epoch 83/100\n",
      "25/25 [==============================] - 0s 5ms/step - loss: 0.7267 - accuracy: 0.4812 - lr: 1.2589\n",
      "Epoch 84/100\n",
      "25/25 [==============================] - 0s 5ms/step - loss: 0.7059 - accuracy: 0.5037 - lr: 1.4125\n",
      "Epoch 85/100\n",
      "25/25 [==============================] - 0s 5ms/step - loss: 0.7291 - accuracy: 0.5037 - lr: 1.5849\n",
      "Epoch 86/100\n",
      "25/25 [==============================] - 0s 5ms/step - loss: 0.7652 - accuracy: 0.5037 - lr: 1.7783\n",
      "Epoch 87/100\n",
      "25/25 [==============================] - 0s 4ms/step - loss: 0.7676 - accuracy: 0.5012 - lr: 1.9953\n",
      "Epoch 88/100\n",
      "25/25 [==============================] - 0s 4ms/step - loss: 0.7590 - accuracy: 0.5263 - lr: 2.2387\n",
      "Epoch 89/100\n",
      "25/25 [==============================] - 0s 4ms/step - loss: 0.7658 - accuracy: 0.5312 - lr: 2.5119\n",
      "Epoch 90/100\n",
      "25/25 [==============================] - 0s 4ms/step - loss: 0.7856 - accuracy: 0.4937 - lr: 2.8184\n",
      "Epoch 91/100\n",
      "25/25 [==============================] - 0s 5ms/step - loss: 0.8003 - accuracy: 0.5163 - lr: 3.1623\n",
      "Epoch 92/100\n",
      "25/25 [==============================] - 0s 5ms/step - loss: 0.7393 - accuracy: 0.4963 - lr: 3.5481\n",
      "Epoch 93/100\n",
      "25/25 [==============================] - 0s 5ms/step - loss: 0.7394 - accuracy: 0.4963 - lr: 3.9811\n",
      "Epoch 94/100\n",
      "25/25 [==============================] - 0s 5ms/step - loss: 0.7576 - accuracy: 0.4937 - lr: 4.4668\n",
      "Epoch 95/100\n",
      "25/25 [==============================] - 0s 5ms/step - loss: 0.8175 - accuracy: 0.4837 - lr: 5.0119\n",
      "Epoch 96/100\n",
      "25/25 [==============================] - 0s 5ms/step - loss: 0.7800 - accuracy: 0.4637 - lr: 5.6234\n",
      "Epoch 97/100\n",
      "25/25 [==============================] - 0s 4ms/step - loss: 0.8050 - accuracy: 0.5012 - lr: 6.3096\n",
      "Epoch 98/100\n",
      "25/25 [==============================] - 0s 4ms/step - loss: 0.9620 - accuracy: 0.4963 - lr: 7.0795\n",
      "Epoch 99/100\n",
      "25/25 [==============================] - 0s 4ms/step - loss: 0.9531 - accuracy: 0.4912 - lr: 7.9433\n",
      "Epoch 100/100\n",
      "25/25 [==============================] - 0s 4ms/step - loss: 0.8581 - accuracy: 0.4612 - lr: 8.9125\n"
     ]
    }
   ],
   "source": [
    "# Set random seed\n",
    "tf.random.set_seed(42)\n",
    "\n",
    "# 1. Create the model\n",
    "model_9 = tf.keras.Sequential(\n",
    "    [\n",
    "        tf.keras.layers.Dense(4, activation='relu'),\n",
    "        tf.keras.layers.Dense(4, activation='relu'),\n",
    "        tf.keras.layers.Dense(1, activation='sigmoid')\n",
    "    ]\n",
    ")\n",
    "\n",
    "# 2. Compile the model\n",
    "model_9.compile(\n",
    "    loss='binary_crossentropy',\n",
    "    optimizer=tf.keras.optimizers.Adam(),\n",
    "    metrics=['accuracy']\n",
    ")\n",
    "\n",
    "# Create a learning rate callback\n",
    "lr_scheduler = tf.keras.callbacks.LearningRateScheduler(lambda epoch: 1e-4 * 10**(epoch/20))\n",
    "\n",
    "# 3. Fit the model (passing lr_scheduler callback)\n",
    "history_9 = model_9.fit(\n",
    "    X_train, y_train,\n",
    "    epochs=100,\n",
    "    callbacks=[lr_scheduler]\n",
    ")"
   ],
   "metadata": {
    "collapsed": false,
    "pycharm": {
     "name": "#%%\n"
    }
   }
  },
  {
   "cell_type": "code",
   "execution_count": 48,
   "outputs": [
    {
     "data": {
      "text/plain": "<AxesSubplot:xlabel='Epochs'>"
     },
     "execution_count": 48,
     "metadata": {},
     "output_type": "execute_result"
    },
    {
     "data": {
      "text/plain": "<Figure size 720x504 with 1 Axes>",
      "image/png": "[encoded data removed]"
     },
     "metadata": {
      "needs_background": "light"
     },
     "output_type": "display_data"
    }
   ],
   "source": [
    "# Check out the history\n",
    "pd.DataFrame(history_9.history).plot(figsize=(10,7), xlabel='Epochs')"
   ],
   "metadata": {
    "collapsed": false,
    "pycharm": {
     "name": "#%%\n"
    }
   }
  },
  {
   "cell_type": "code",
   "execution_count": 49,
   "outputs": [
    {
     "data": {
      "text/plain": "Text(0.5, 1.0, 'Learning rate vs. Loss')"
     },
     "execution_count": 49,
     "metadata": {},
     "output_type": "execute_result"
    },
    {
     "data": {
      "text/plain": "<Figure size 720x504 with 1 Axes>",
      "image/png": "[encoded data removed]"
     },
     "metadata": {
      "needs_background": "light"
     },
     "output_type": "display_data"
    }
   ],
   "source": [
    "# Plot the learning rate vs the loss\n",
    "lrs = 1e-4 * (10** (tf.range(100)/20))\n",
    "\n",
    "plt.figure(figsize=(10,7))\n",
    "plt.semilogx(lrs, history_9.history['loss'])\n",
    "plt.xlabel('Learning Rate')\n",
    "plt.ylabel('Loss')\n",
    "plt.title('Learning rate vs. Loss')"
   ],
   "metadata": {
    "collapsed": false,
    "pycharm": {
     "name": "#%%\n"
    }
   }
  },
  {
   "cell_type": "code",
   "execution_count": 50,
   "outputs": [
    {
     "data": {
      "text/plain": "(1, 0.1, 0.01, 0.001, 0.0001)"
     },
     "execution_count": 50,
     "metadata": {},
     "output_type": "execute_result"
    }
   ],
   "source": [
    "# Example of other typical learning rates values:\n",
    "10**0, 10**-1, 10**-2, 10**-3, 1e-4"
   ],
   "metadata": {
    "collapsed": false,
    "pycharm": {
     "name": "#%%\n"
    }
   }
  },
  {
   "cell_type": "code",
   "execution_count": 51,
   "outputs": [
    {
     "name": "stdout",
     "output_type": "stream",
     "text": [
      "Epoch 1/20\n",
      "21/25 [========================>.....] - ETA: 0s - loss: 0.6858 - accuracy: 0.5595"
     ]
    },
    {
     "name": "stderr",
     "output_type": "stream",
     "text": [
      "2022-09-01 13:19:15.215079: I tensorflow/core/grappler/optimizers/custom_graph_optimizer_registry.cc:113] Plugin optimizer for device_type GPU is enabled.\n"
     ]
    },
    {
     "name": "stdout",
     "output_type": "stream",
     "text": [
      "25/25 [==============================] - 0s 5ms/step - loss: 0.6837 - accuracy: 0.5600\n",
      "Epoch 2/20\n",
      "25/25 [==============================] - 0s 5ms/step - loss: 0.6743 - accuracy: 0.5750\n",
      "Epoch 3/20\n",
      "25/25 [==============================] - 0s 5ms/step - loss: 0.6626 - accuracy: 0.5875\n",
      "Epoch 4/20\n",
      "25/25 [==============================] - 0s 5ms/step - loss: 0.6332 - accuracy: 0.6387\n",
      "Epoch 5/20\n",
      "25/25 [==============================] - 0s 5ms/step - loss: 0.5830 - accuracy: 0.7562\n",
      "Epoch 6/20\n",
      "25/25 [==============================] - 0s 5ms/step - loss: 0.4907 - accuracy: 0.8312\n",
      "Epoch 7/20\n",
      "25/25 [==============================] - 0s 5ms/step - loss: 0.4251 - accuracy: 0.8450\n",
      "Epoch 8/20\n",
      "25/25 [==============================] - 0s 5ms/step - loss: 0.3596 - accuracy: 0.8875\n",
      "Epoch 9/20\n",
      "25/25 [==============================] - 0s 4ms/step - loss: 0.3152 - accuracy: 0.9100\n",
      "Epoch 10/20\n",
      "25/25 [==============================] - 0s 5ms/step - loss: 0.2512 - accuracy: 0.9500\n",
      "Epoch 11/20\n",
      "25/25 [==============================] - 0s 5ms/step - loss: 0.2152 - accuracy: 0.9500\n",
      "Epoch 12/20\n",
      "25/25 [==============================] - 0s 4ms/step - loss: 0.1721 - accuracy: 0.9750\n",
      "Epoch 13/20\n",
      "25/25 [==============================] - 0s 4ms/step - loss: 0.1443 - accuracy: 0.9837\n",
      "Epoch 14/20\n",
      "25/25 [==============================] - 0s 5ms/step - loss: 0.1232 - accuracy: 0.9862\n",
      "Epoch 15/20\n",
      "25/25 [==============================] - 0s 5ms/step - loss: 0.1085 - accuracy: 0.9850\n",
      "Epoch 16/20\n",
      "25/25 [==============================] - 0s 5ms/step - loss: 0.0940 - accuracy: 0.9937\n",
      "Epoch 17/20\n",
      "25/25 [==============================] - 0s 5ms/step - loss: 0.0827 - accuracy: 0.9962\n",
      "Epoch 18/20\n",
      "25/25 [==============================] - 0s 5ms/step - loss: 0.0798 - accuracy: 0.9937\n",
      "Epoch 19/20\n",
      "25/25 [==============================] - 0s 5ms/step - loss: 0.0845 - accuracy: 0.9875\n",
      "Epoch 20/20\n",
      "25/25 [==============================] - 0s 4ms/step - loss: 0.0790 - accuracy: 0.9887\n"
     ]
    }
   ],
   "source": [
    "# Let's try using a higher *ideal* learning rate with the same model\n",
    "\n",
    "# Set random Seed\n",
    "tf.random.set_seed(42)\n",
    "\n",
    "# 1. Create the model\n",
    "model_10 = tf.keras.Sequential(\n",
    "    [\n",
    "        tf.keras.layers.Dense(4, activation='relu'),\n",
    "        tf.keras.layers.Dense(4, activation='relu'),\n",
    "        tf.keras.layers.Dense(1, activation='sigmoid')\n",
    "    ]\n",
    ")\n",
    "\n",
    "# 2. Compile the model with the ideal learning rate\n",
    "model_10.compile(\n",
    "    loss=tf.keras.losses.binary_crossentropy,\n",
    "    optimizer=tf.keras.optimizers.Adam(learning_rate=0.02),\n",
    "    metrics=['accuracy']\n",
    ")\n",
    "\n",
    "# 3. Fit the model for 20 epochs (5 less than before)\n",
    "history_10 = model_10.fit(\n",
    "    X_train, y_train,\n",
    "    epochs=20\n",
    ")"
   ],
   "metadata": {
    "collapsed": false,
    "pycharm": {
     "name": "#%%\n"
    }
   }
  },
  {
   "cell_type": "code",
   "execution_count": 52,
   "outputs": [
    {
     "name": "stdout",
     "output_type": "stream",
     "text": [
      "7/7 [==============================] - 0s 7ms/step - loss: 0.0574 - accuracy: 0.9900\n"
     ]
    },
    {
     "name": "stderr",
     "output_type": "stream",
     "text": [
      "2022-09-01 13:19:17.787928: I tensorflow/core/grappler/optimizers/custom_graph_optimizer_registry.cc:113] Plugin optimizer for device_type GPU is enabled.\n"
     ]
    },
    {
     "data": {
      "text/plain": "[0.057402104139328, 0.9899999499320984]"
     },
     "execution_count": 52,
     "metadata": {},
     "output_type": "execute_result"
    }
   ],
   "source": [
    "# Evaluate model_10 on the test dataset\n",
    "model_10.evaluate(X_test, y_test)"
   ],
   "metadata": {
    "collapsed": false,
    "pycharm": {
     "name": "#%%\n"
    }
   }
  },
  {
   "cell_type": "code",
   "execution_count": 53,
   "outputs": [
    {
     "name": "stdout",
     "output_type": "stream",
     "text": [
      "1/7 [===>..........................] - ETA: 0s - loss: 0.1254 - accuracy: 1.0000"
     ]
    },
    {
     "name": "stderr",
     "output_type": "stream",
     "text": [
      "2022-09-01 13:19:17.903658: I tensorflow/core/grappler/optimizers/custom_graph_optimizer_registry.cc:113] Plugin optimizer for device_type GPU is enabled.\n"
     ]
    },
    {
     "name": "stdout",
     "output_type": "stream",
     "text": [
      "7/7 [==============================] - 0s 9ms/step - loss: 0.1247 - accuracy: 1.0000\n"
     ]
    },
    {
     "data": {
      "text/plain": "[0.12468879669904709, 1.0]"
     },
     "execution_count": 53,
     "metadata": {},
     "output_type": "execute_result"
    }
   ],
   "source": [
    "# Evaluate model_8 on the test data\n",
    "model_8.evaluate(X_test, y_test)"
   ],
   "metadata": {
    "collapsed": false,
    "pycharm": {
     "name": "#%%\n"
    }
   }
  },
  {
   "cell_type": "code",
   "execution_count": 54,
   "outputs": [
    {
     "name": "stdout",
     "output_type": "stream",
     "text": [
      "  1/313 [..............................] - ETA: 9s"
     ]
    },
    {
     "name": "stderr",
     "output_type": "stream",
     "text": [
      "2022-09-01 13:19:18.048126: I tensorflow/core/grappler/optimizers/custom_graph_optimizer_registry.cc:113] Plugin optimizer for device_type GPU is enabled.\n"
     ]
    },
    {
     "name": "stdout",
     "output_type": "stream",
     "text": [
      "313/313 [==============================] - 1s 2ms/step\n",
      "Doing binary classification\n",
      "313/313 [==============================] - 1s 2ms/step\n",
      "Doing binary classification\n"
     ]
    },
    {
     "data": {
      "text/plain": "<Figure size 864x432 with 2 Axes>",
      "image/png": "[encoded data removed]"
     },
     "metadata": {
      "needs_background": "light"
     },
     "output_type": "display_data"
    }
   ],
   "source": [
    "# Plot the decision boundaries  for the training and test sets\n",
    "plt.figure(figsize=(12, 6))\n",
    "\n",
    "plt.subplot(1, 2, 1)\n",
    "plt.title('Training data')\n",
    "plot_decision_boundary(model_10, X_train, y_train)\n",
    "\n",
    "plt.subplot(1, 2, 2)\n",
    "plt.title('Test Data')\n",
    "plot_decision_boundary(model_10, X_test, y_test)\n",
    "\n",
    "plt.show()"
   ],
   "metadata": {
    "collapsed": false,
    "pycharm": {
     "name": "#%%\n"
    }
   }
  },
  {
   "cell_type": "markdown",
   "source": [
    "## More classification evaluation methods\n",
    "\n",
    "Alongside visualizing our models results as much as possible, there are a handful of other classification evaluation methods and metrics you should be familiar with:\n",
    "\n",
    "* Accuracy\n",
    "* Precision\n",
    "* Recall\n",
    "* F1-score\n",
    "* Confusion matrix\n",
    "* Classification report (from scikit-learn)"
   ],
   "metadata": {
    "collapsed": false,
    "pycharm": {
     "name": "#%% md\n"
    }
   }
  },
  {
   "cell_type": "code",
   "execution_count": 55,
   "outputs": [
    {
     "name": "stdout",
     "output_type": "stream",
     "text": [
      "7/7 [==============================] - 0s 4ms/step - loss: 0.0574 - accuracy: 0.9900\n",
      "Model loss on the test set: 0.057402104139328\n",
      "Model accuracy on the test set: 99.00%\n"
     ]
    }
   ],
   "source": [
    "# Check the accuracy of our model\n",
    "loss, accuracy = model_10.evaluate(X_test, y_test)\n",
    "print(f'Model loss on the test set: {loss}')\n",
    "print(f'Model accuracy on the test set: {(accuracy*100):.2f}%')"
   ],
   "metadata": {
    "collapsed": false,
    "pycharm": {
     "name": "#%%\n"
    }
   }
  },
  {
   "cell_type": "markdown",
   "source": [
    "## How about a confusion matrix?"
   ],
   "metadata": {
    "collapsed": false,
    "pycharm": {
     "name": "#%% md\n"
    }
   }
  },
  {
   "cell_type": "code",
   "execution_count": 56,
   "outputs": [],
   "source": [
    "from sklearn.metrics import confusion_matrix"
   ],
   "metadata": {
    "collapsed": false,
    "pycharm": {
     "name": "#%%\n"
    }
   }
  },
  {
   "cell_type": "code",
   "execution_count": 57,
   "outputs": [
    {
     "name": "stdout",
     "output_type": "stream",
     "text": [
      "7/7 [==============================] - 0s 3ms/step\n"
     ]
    },
    {
     "ename": "ValueError",
     "evalue": "Classification metrics can't handle a mix of binary and continuous targets",
     "output_type": "error",
     "traceback": [
      "\u001B[0;31m---------------------------------------------------------------------------\u001B[0m",
      "\u001B[0;31mValueError\u001B[0m                                Traceback (most recent call last)",
      "Input \u001B[0;32mIn [57]\u001B[0m, in \u001B[0;36m<cell line: 7>\u001B[0;34m()\u001B[0m\n\u001B[1;32m      4\u001B[0m y_pred \u001B[38;5;241m=\u001B[39m model_10\u001B[38;5;241m.\u001B[39mpredict(X_test)\n\u001B[1;32m      6\u001B[0m \u001B[38;5;66;03m# Create confusion matrix\u001B[39;00m\n\u001B[0;32m----> 7\u001B[0m \u001B[43mconfusion_matrix\u001B[49m\u001B[43m(\u001B[49m\u001B[43my_test\u001B[49m\u001B[43m,\u001B[49m\u001B[43m \u001B[49m\u001B[43my_pred\u001B[49m\u001B[43m)\u001B[49m\n",
      "File \u001B[0;32m~/opt/miniconda3/envs/tensorflow/lib/python3.9/site-packages/sklearn/metrics/_classification.py:307\u001B[0m, in \u001B[0;36mconfusion_matrix\u001B[0;34m(y_true, y_pred, labels, sample_weight, normalize)\u001B[0m\n\u001B[1;32m    222\u001B[0m \u001B[38;5;28;01mdef\u001B[39;00m \u001B[38;5;21mconfusion_matrix\u001B[39m(\n\u001B[1;32m    223\u001B[0m     y_true, y_pred, \u001B[38;5;241m*\u001B[39m, labels\u001B[38;5;241m=\u001B[39m\u001B[38;5;28;01mNone\u001B[39;00m, sample_weight\u001B[38;5;241m=\u001B[39m\u001B[38;5;28;01mNone\u001B[39;00m, normalize\u001B[38;5;241m=\u001B[39m\u001B[38;5;28;01mNone\u001B[39;00m\n\u001B[1;32m    224\u001B[0m ):\n\u001B[1;32m    225\u001B[0m     \u001B[38;5;124;03m\"\"\"Compute confusion matrix to evaluate the accuracy of a classification.\u001B[39;00m\n\u001B[1;32m    226\u001B[0m \n\u001B[1;32m    227\u001B[0m \u001B[38;5;124;03m    By definition a confusion matrix :math:`C` is such that :math:`C_{i, j}`\u001B[39;00m\n\u001B[0;32m   (...)\u001B[0m\n\u001B[1;32m    305\u001B[0m \u001B[38;5;124;03m    (0, 2, 1, 1)\u001B[39;00m\n\u001B[1;32m    306\u001B[0m \u001B[38;5;124;03m    \"\"\"\u001B[39;00m\n\u001B[0;32m--> 307\u001B[0m     y_type, y_true, y_pred \u001B[38;5;241m=\u001B[39m \u001B[43m_check_targets\u001B[49m\u001B[43m(\u001B[49m\u001B[43my_true\u001B[49m\u001B[43m,\u001B[49m\u001B[43m \u001B[49m\u001B[43my_pred\u001B[49m\u001B[43m)\u001B[49m\n\u001B[1;32m    308\u001B[0m     \u001B[38;5;28;01mif\u001B[39;00m y_type \u001B[38;5;129;01mnot\u001B[39;00m \u001B[38;5;129;01min\u001B[39;00m (\u001B[38;5;124m\"\u001B[39m\u001B[38;5;124mbinary\u001B[39m\u001B[38;5;124m\"\u001B[39m, \u001B[38;5;124m\"\u001B[39m\u001B[38;5;124mmulticlass\u001B[39m\u001B[38;5;124m\"\u001B[39m):\n\u001B[1;32m    309\u001B[0m         \u001B[38;5;28;01mraise\u001B[39;00m \u001B[38;5;167;01mValueError\u001B[39;00m(\u001B[38;5;124m\"\u001B[39m\u001B[38;5;132;01m%s\u001B[39;00m\u001B[38;5;124m is not supported\u001B[39m\u001B[38;5;124m\"\u001B[39m \u001B[38;5;241m%\u001B[39m y_type)\n",
      "File \u001B[0;32m~/opt/miniconda3/envs/tensorflow/lib/python3.9/site-packages/sklearn/metrics/_classification.py:93\u001B[0m, in \u001B[0;36m_check_targets\u001B[0;34m(y_true, y_pred)\u001B[0m\n\u001B[1;32m     90\u001B[0m     y_type \u001B[38;5;241m=\u001B[39m {\u001B[38;5;124m\"\u001B[39m\u001B[38;5;124mmulticlass\u001B[39m\u001B[38;5;124m\"\u001B[39m}\n\u001B[1;32m     92\u001B[0m \u001B[38;5;28;01mif\u001B[39;00m \u001B[38;5;28mlen\u001B[39m(y_type) \u001B[38;5;241m>\u001B[39m \u001B[38;5;241m1\u001B[39m:\n\u001B[0;32m---> 93\u001B[0m     \u001B[38;5;28;01mraise\u001B[39;00m \u001B[38;5;167;01mValueError\u001B[39;00m(\n\u001B[1;32m     94\u001B[0m         \u001B[38;5;124m\"\u001B[39m\u001B[38;5;124mClassification metrics can\u001B[39m\u001B[38;5;124m'\u001B[39m\u001B[38;5;124mt handle a mix of \u001B[39m\u001B[38;5;132;01m{0}\u001B[39;00m\u001B[38;5;124m and \u001B[39m\u001B[38;5;132;01m{1}\u001B[39;00m\u001B[38;5;124m targets\u001B[39m\u001B[38;5;124m\"\u001B[39m\u001B[38;5;241m.\u001B[39mformat(\n\u001B[1;32m     95\u001B[0m             type_true, type_pred\n\u001B[1;32m     96\u001B[0m         )\n\u001B[1;32m     97\u001B[0m     )\n\u001B[1;32m     99\u001B[0m \u001B[38;5;66;03m# We can't have more than one value on y_type => The set is no more needed\u001B[39;00m\n\u001B[1;32m    100\u001B[0m y_type \u001B[38;5;241m=\u001B[39m y_type\u001B[38;5;241m.\u001B[39mpop()\n",
      "\u001B[0;31mValueError\u001B[0m: Classification metrics can't handle a mix of binary and continuous targets"
     ]
    }
   ],
   "source": [
    "# Create a confusion matrix\n",
    "\n",
    "# Make some predictions\n",
    "y_pred = model_10.predict(X_test)\n",
    "\n",
    "# Create confusion matrix\n",
    "confusion_matrix(y_test, y_pred)"
   ],
   "metadata": {
    "collapsed": false,
    "pycharm": {
     "name": "#%%\n"
    }
   }
  },
  {
   "cell_type": "code",
   "execution_count": 58,
   "outputs": [
    {
     "data": {
      "text/plain": "(array([1, 1, 1, 1, 0, 0, 1, 0, 1, 0]),\n array([[9.8526531e-01],\n        [9.9923790e-01],\n        [9.9032354e-01],\n        [9.9706942e-01],\n        [3.9623305e-01],\n        [1.8127132e-02],\n        [9.6829057e-01],\n        [1.9747125e-02],\n        [9.9967170e-01],\n        [5.6460913e-04]], dtype=float32))"
     },
     "execution_count": 58,
     "metadata": {},
     "output_type": "execute_result"
    }
   ],
   "source": [
    "y_test[:10], y_pred[:10]"
   ],
   "metadata": {
    "collapsed": false,
    "pycharm": {
     "name": "#%%\n"
    }
   }
  },
  {
   "cell_type": "markdown",
   "source": [
    "Oops... looks like our predictions array has come out in **prediction probability** form... the standard output (or softmax) activation functions."
   ],
   "metadata": {
    "collapsed": false,
    "pycharm": {
     "name": "#%% md\n"
    }
   }
  },
  {
   "cell_type": "code",
   "execution_count": 59,
   "outputs": [
    {
     "data": {
      "text/plain": "<tf.Tensor: shape=(10, 1), dtype=float32, numpy=\narray([[1.],\n       [1.],\n       [1.],\n       [1.],\n       [0.],\n       [0.],\n       [1.],\n       [0.],\n       [1.],\n       [0.]], dtype=float32)>"
     },
     "execution_count": 59,
     "metadata": {},
     "output_type": "execute_result"
    }
   ],
   "source": [
    "# Convert prediction probabilities to binary format and view the first 10\n",
    "tf.round(y_pred)[:10]"
   ],
   "metadata": {
    "collapsed": false,
    "pycharm": {
     "name": "#%%\n"
    }
   }
  },
  {
   "cell_type": "code",
   "execution_count": 60,
   "outputs": [
    {
     "data": {
      "text/plain": "array([[99,  2],\n       [ 0, 99]])"
     },
     "execution_count": 60,
     "metadata": {},
     "output_type": "execute_result"
    }
   ],
   "source": [
    "# Create a confusion matrix\n",
    "confusion_matrix(y_test, tf.round(y_pred))"
   ],
   "metadata": {
    "collapsed": false,
    "pycharm": {
     "name": "#%%\n"
    }
   }
  },
  {
   "cell_type": "markdown",
   "source": [
    "## How about we prettify our confusion matrix?\n",
    "\n",
    "**Note:** The confusion matrix code we're about to write is a remix of scikit-learn's plot_confusion_matrix function."
   ],
   "metadata": {
    "collapsed": false,
    "pycharm": {
     "name": "#%% md\n"
    }
   }
  },
  {
   "cell_type": "code",
   "execution_count": 61,
   "outputs": [
    {
     "data": {
      "text/plain": "<Figure size 720x720 with 2 Axes>",
      "image/png": "[encoded data removed]"
     },
     "metadata": {
      "needs_background": "light"
     },
     "output_type": "display_data"
    }
   ],
   "source": [
    "import itertools\n",
    "\n",
    "figsize = (10, 10)\n",
    "\n",
    "# Create the confusion matrix\n",
    "cm = confusion_matrix(y_test, tf.round(y_pred))\n",
    "cm_norm = cm.astype('float') / cm.sum(axis=1)[:, np.newaxis] # Normalize our confusion matrix\n",
    "\n",
    "# Get number of classes\n",
    "n_classes = cm.shape[0]\n",
    "\n",
    "# Let's prettify it\n",
    "fig, ax = plt.subplots(figsize=figsize)\n",
    "\n",
    "# Create a matrix plot\n",
    "cax = ax.matshow(cm, cmap=plt.cm.Blues)\n",
    "fig.colorbar(cax)\n",
    "\n",
    "# Create classes\n",
    "classes = False\n",
    "\n",
    "if classes:\n",
    "    labels = classes\n",
    "else:\n",
    "    labels = np.arange(cm.shape[0])\n",
    "\n",
    "# Label the axes\n",
    "ax.set(\n",
    "    title='Confusion Matrix',\n",
    "    xlabel='Predicted Label',\n",
    "    ylabel='True Label',\n",
    "    xticks=np.arange(n_classes),\n",
    "    yticks=np.arange(n_classes),\n",
    "    xticklabels=labels,\n",
    "    yticklabels=labels\n",
    ")\n",
    "\n",
    "# Set x-axis labels to bottom\n",
    "ax.xaxis.set_label_position('bottom')\n",
    "ax.xaxis.tick_bottom()\n",
    "\n",
    "# Adjust label size\n",
    "ax.yaxis.label.set_size(20)\n",
    "ax.xaxis.label.set_size(20)\n",
    "ax.title.set_size(20)\n",
    "\n",
    "# Set threshold for different colors\n",
    "threshold = (cm.max() + cm.min()) / 2\n",
    "\n",
    "# Plot teh text on each cell\n",
    "for i, j in itertools.product(range(cm.shape[0]), range(cm.shape[1])):\n",
    "    plt.text(\n",
    "        j, i, f'{cm[i, j]} ({cm_norm[i,j]*100:.1f}%)',\n",
    "        horizontalalignment='center',\n",
    "        color='white' if cm[i,j ] > threshold else 'black',\n",
    "        size=15\n",
    "    )"
   ],
   "metadata": {
    "collapsed": false,
    "pycharm": {
     "name": "#%%\n"
    }
   }
  },
  {
   "cell_type": "markdown",
   "source": [
    "# Working with a larger example (mulitclass classification)\n",
    "\n",
    "When you have more than two classes as an option, it's known as **multi-class classification**.\n",
    "* This means if you have three different classes, it's multi-class classification.\n",
    "* It also means if you have 100 different classes, its multi-class classification\n",
    "\n",
    "To practice multi-class classification, we're going to build a neural network to classify images of different items of clothing."
   ],
   "metadata": {
    "collapsed": false,
    "pycharm": {
     "name": "#%% md\n"
    }
   }
  },
  {
   "cell_type": "code",
   "execution_count": 23,
   "outputs": [],
   "source": [
    "import tensorflow as tf\n",
    "from tensorflow.keras.datasets import fashion_mnist\n",
    "import pandas as pd\n",
    "import matplotlib.pyplot as plt"
   ],
   "metadata": {
    "collapsed": false,
    "pycharm": {
     "name": "#%%\n"
    }
   }
  },
  {
   "cell_type": "code",
   "execution_count": 1,
   "outputs": [],
   "source": [
    "# The data has already been sorted into training and test sets for us\n",
    "(train_data, train_labels), (test_data, test_labels) = fashion_mnist.load_data()"
   ],
   "metadata": {
    "collapsed": false,
    "pycharm": {
     "name": "#%%\n"
    }
   }
  },
  {
   "cell_type": "code",
   "execution_count": 2,
   "outputs": [
    {
     "name": "stdout",
     "output_type": "stream",
     "text": [
      "Training sample:\n",
      "[[  0   0   0   0   0   0   0   0   0   0   0   0   0   0   0   0   0   0\n",
      "    0   0   0   0   0   0   0   0   0   0]\n",
      " [  0   0   0   0   0   0   0   0   0   0   0   0   0   0   0   0   0   0\n",
      "    0   0   0   0   0   0   0   0   0   0]\n",
      " [  0   0   0   0   0   0   0   0   0   0   0   0   0   0   0   0   0   0\n",
      "    0   0   0   0   0   0   0   0   0   0]\n",
      " [  0   0   0   0   0   0   0   0   0   0   0   0   1   0   0  13  73   0\n",
      "    0   1   4   0   0   0   0   1   1   0]\n",
      " [  0   0   0   0   0   0   0   0   0   0   0   0   3   0  36 136 127  62\n",
      "   54   0   0   0   1   3   4   0   0   3]\n",
      " [  0   0   0   0   0   0   0   0   0   0   0   0   6   0 102 204 176 134\n",
      "  144 123  23   0   0   0   0  12  10   0]\n",
      " [  0   0   0   0   0   0   0   0   0   0   0   0   0   0 155 236 207 178\n",
      "  107 156 161 109  64  23  77 130  72  15]\n",
      " [  0   0   0   0   0   0   0   0   0   0   0   1   0  69 207 223 218 216\n",
      "  216 163 127 121 122 146 141  88 172  66]\n",
      " [  0   0   0   0   0   0   0   0   0   1   1   1   0 200 232 232 233 229\n",
      "  223 223 215 213 164 127 123 196 229   0]\n",
      " [  0   0   0   0   0   0   0   0   0   0   0   0   0 183 225 216 223 228\n",
      "  235 227 224 222 224 221 223 245 173   0]\n",
      " [  0   0   0   0   0   0   0   0   0   0   0   0   0 193 228 218 213 198\n",
      "  180 212 210 211 213 223 220 243 202   0]\n",
      " [  0   0   0   0   0   0   0   0   0   1   3   0  12 219 220 212 218 192\n",
      "  169 227 208 218 224 212 226 197 209  52]\n",
      " [  0   0   0   0   0   0   0   0   0   0   6   0  99 244 222 220 218 203\n",
      "  198 221 215 213 222 220 245 119 167  56]\n",
      " [  0   0   0   0   0   0   0   0   0   4   0   0  55 236 228 230 228 240\n",
      "  232 213 218 223 234 217 217 209  92   0]\n",
      " [  0   0   1   4   6   7   2   0   0   0   0   0 237 226 217 223 222 219\n",
      "  222 221 216 223 229 215 218 255  77   0]\n",
      " [  0   3   0   0   0   0   0   0   0  62 145 204 228 207 213 221 218 208\n",
      "  211 218 224 223 219 215 224 244 159   0]\n",
      " [  0   0   0   0  18  44  82 107 189 228 220 222 217 226 200 205 211 230\n",
      "  224 234 176 188 250 248 233 238 215   0]\n",
      " [  0  57 187 208 224 221 224 208 204 214 208 209 200 159 245 193 206 223\n",
      "  255 255 221 234 221 211 220 232 246   0]\n",
      " [  3 202 228 224 221 211 211 214 205 205 205 220 240  80 150 255 229 221\n",
      "  188 154 191 210 204 209 222 228 225   0]\n",
      " [ 98 233 198 210 222 229 229 234 249 220 194 215 217 241  65  73 106 117\n",
      "  168 219 221 215 217 223 223 224 229  29]\n",
      " [ 75 204 212 204 193 205 211 225 216 185 197 206 198 213 240 195 227 245\n",
      "  239 223 218 212 209 222 220 221 230  67]\n",
      " [ 48 203 183 194 213 197 185 190 194 192 202 214 219 221 220 236 225 216\n",
      "  199 206 186 181 177 172 181 205 206 115]\n",
      " [  0 122 219 193 179 171 183 196 204 210 213 207 211 210 200 196 194 191\n",
      "  195 191 198 192 176 156 167 177 210  92]\n",
      " [  0   0  74 189 212 191 175 172 175 181 185 188 189 188 193 198 204 209\n",
      "  210 210 211 188 188 194 192 216 170   0]\n",
      " [  2   0   0   0  66 200 222 237 239 242 246 243 244 221 220 193 191 179\n",
      "  182 182 181 176 166 168  99  58   0   0]\n",
      " [  0   0   0   0   0   0   0  40  61  44  72  41  35   0   0   0   0   0\n",
      "    0   0   0   0   0   0   0   0   0   0]\n",
      " [  0   0   0   0   0   0   0   0   0   0   0   0   0   0   0   0   0   0\n",
      "    0   0   0   0   0   0   0   0   0   0]\n",
      " [  0   0   0   0   0   0   0   0   0   0   0   0   0   0   0   0   0   0\n",
      "    0   0   0   0   0   0   0   0   0   0]]\n",
      "\n",
      "Training label:\n",
      "9\n",
      "\n"
     ]
    }
   ],
   "source": [
    "# Show the first training example\n",
    "print(f'Training sample:\\n{train_data[0]}\\n')\n",
    "print(f'Training label:\\n{train_labels[0]}\\n')"
   ],
   "metadata": {
    "collapsed": false,
    "pycharm": {
     "name": "#%%\n"
    }
   }
  },
  {
   "cell_type": "code",
   "execution_count": 3,
   "outputs": [
    {
     "data": {
      "text/plain": "((28, 28), ())"
     },
     "execution_count": 3,
     "metadata": {},
     "output_type": "execute_result"
    }
   ],
   "source": [
    "# Check the shape of a single example\n",
    "train_data[0].shape, train_labels[0].shape"
   ],
   "metadata": {
    "collapsed": false,
    "pycharm": {
     "name": "#%%\n"
    }
   }
  },
  {
   "cell_type": "code",
   "execution_count": 4,
   "outputs": [
    {
     "data": {
      "text/plain": "<Figure size 432x288 with 1 Axes>",
      "image/png": "[encoded data removed]"
     },
     "metadata": {
      "needs_background": "light"
     },
     "output_type": "display_data"
    }
   ],
   "source": [
    "# Plot a single sample\n",
    "import matplotlib.pyplot as plt\n",
    "plt.imshow(train_data[7]);"
   ],
   "metadata": {
    "collapsed": false,
    "pycharm": {
     "name": "#%%\n"
    }
   }
  },
  {
   "cell_type": "code",
   "execution_count": 5,
   "outputs": [
    {
     "data": {
      "text/plain": "2"
     },
     "execution_count": 5,
     "metadata": {},
     "output_type": "execute_result"
    }
   ],
   "source": [
    "# Check our samples label\n",
    "train_labels[7]"
   ],
   "metadata": {
    "collapsed": false,
    "pycharm": {
     "name": "#%%\n"
    }
   }
  },
  {
   "cell_type": "code",
   "execution_count": 6,
   "outputs": [
    {
     "data": {
      "text/plain": "10"
     },
     "execution_count": 6,
     "metadata": {},
     "output_type": "execute_result"
    }
   ],
   "source": [
    "# Create a small list so we can index onto our training labels so they're human-readable\n",
    "class_names = [\n",
    "    'T-shirt/top',\n",
    "    'Trouser',\n",
    "    'Pullover',\n",
    "    'Dress',\n",
    "    'Coat',\n",
    "    'Sandal',\n",
    "    'Shirt',\n",
    "    'Sneaker',\n",
    "    'Bag',\n",
    "    'Ankle boot'\n",
    "]\n",
    "\n",
    "len(class_names)"
   ],
   "metadata": {
    "collapsed": false,
    "pycharm": {
     "name": "#%%\n"
    }
   }
  },
  {
   "cell_type": "code",
   "execution_count": 7,
   "outputs": [
    {
     "data": {
      "text/plain": "Text(0.5, 1.0, 'T-shirt/top')"
     },
     "execution_count": 7,
     "metadata": {},
     "output_type": "execute_result"
    },
    {
     "data": {
      "text/plain": "<Figure size 432x288 with 1 Axes>",
      "image/png": "[encoded data removed]"
     },
     "metadata": {
      "needs_background": "light"
     },
     "output_type": "display_data"
    }
   ],
   "source": [
    "# Plot and example image and it's label\n",
    "index_of_choice = 17\n",
    "plt.imshow(train_data[index_of_choice], cmap=plt.cm.binary)\n",
    "plt.title(class_names[train_labels[index_of_choice]])"
   ],
   "metadata": {
    "collapsed": false,
    "pycharm": {
     "name": "#%%\n"
    }
   }
  },
  {
   "cell_type": "code",
   "execution_count": 8,
   "outputs": [
    {
     "data": {
      "text/plain": "<Figure size 504x504 with 4 Axes>",
      "image/png": "[encoded data removed]"
     },
     "metadata": {
      "needs_background": "light"
     },
     "output_type": "display_data"
    }
   ],
   "source": [
    "# Plot multiple random images of fashion MNIST\n",
    "import random\n",
    "\n",
    "plt.figure(figsize=(7,7))\n",
    "\n",
    "for i in range(4):\n",
    "    ax = plt.subplot(2,2, i+1)\n",
    "    rand_index = random.choice(range(len(train_data)))\n",
    "    plt.imshow(train_data[rand_index], cmap=plt.cm.binary)\n",
    "    plt.title(class_names[train_labels[rand_index]])\n",
    "    plt.axis(False)\n"
   ],
   "metadata": {
    "collapsed": false,
    "pycharm": {
     "name": "#%%\n"
    }
   }
  },
  {
   "cell_type": "markdown",
   "source": [
    "## Building a multi-class classification model\n",
    "\n",
    "For our multi-class classification model, we can use a similar architecture to your binary classfiiers, however we're going to have to tweak a few things:\n",
    "* Input shape = 28 x 28 (the shape of one image)\n",
    "* Output shape = 10 (one per class of clothing)\n",
    "* Loss fuction = tf.keras.losses.CategoricalCrossentropy()\n",
    "    * If your labels are one-hot encoded use CategoricalCrossentropy()\n",
    "    * If your labels are integerger form use SparseCategoricalCrossentropy()\n",
    "* Output layer activation = Softmax (not sigmoid)"
   ],
   "metadata": {
    "collapsed": false,
    "pycharm": {
     "name": "#%% md\n"
    }
   }
  },
  {
   "cell_type": "code",
   "execution_count": 12,
   "outputs": [
    {
     "name": "stdout",
     "output_type": "stream",
     "text": [
      "Epoch 1/10\n",
      "  17/1875 [..............................] - ETA: 12s - loss: 11.1779 - accuracy: 0.1360"
     ]
    },
    {
     "name": "stderr",
     "output_type": "stream",
     "text": [
      "2022-09-03 08:13:11.114324: I tensorflow/core/grappler/optimizers/custom_graph_optimizer_registry.cc:113] Plugin optimizer for device_type GPU is enabled.\n"
     ]
    },
    {
     "name": "stdout",
     "output_type": "stream",
     "text": [
      "1873/1875 [============================>.] - ETA: 0s - loss: 2.1773 - accuracy: 0.1625"
     ]
    },
    {
     "name": "stderr",
     "output_type": "stream",
     "text": [
      "2022-09-03 08:13:22.668489: I tensorflow/core/grappler/optimizers/custom_graph_optimizer_registry.cc:113] Plugin optimizer for device_type GPU is enabled.\n"
     ]
    },
    {
     "name": "stdout",
     "output_type": "stream",
     "text": [
      "1875/1875 [==============================] - 13s 7ms/step - loss: 2.1769 - accuracy: 0.1626 - val_loss: 1.8039 - val_accuracy: 0.2066\n",
      "Epoch 2/10\n",
      "1875/1875 [==============================] - 13s 7ms/step - loss: 1.7187 - accuracy: 0.2407 - val_loss: 1.6656 - val_accuracy: 0.2878\n",
      "Epoch 3/10\n",
      "1875/1875 [==============================] - 13s 7ms/step - loss: 1.6392 - accuracy: 0.2819 - val_loss: 1.6069 - val_accuracy: 0.2839\n",
      "Epoch 4/10\n",
      "1875/1875 [==============================] - 13s 7ms/step - loss: 1.6041 - accuracy: 0.2910 - val_loss: 1.5991 - val_accuracy: 0.2972\n",
      "Epoch 5/10\n",
      "1875/1875 [==============================] - 13s 7ms/step - loss: 1.5955 - accuracy: 0.2979 - val_loss: 1.5903 - val_accuracy: 0.3190\n",
      "Epoch 6/10\n",
      "1875/1875 [==============================] - 13s 7ms/step - loss: 1.5816 - accuracy: 0.3088 - val_loss: 1.5638 - val_accuracy: 0.3024\n",
      "Epoch 7/10\n",
      "1875/1875 [==============================] - 13s 7ms/step - loss: 1.5681 - accuracy: 0.3200 - val_loss: 1.5638 - val_accuracy: 0.3248\n",
      "Epoch 8/10\n",
      "1875/1875 [==============================] - 13s 7ms/step - loss: 1.5688 - accuracy: 0.3178 - val_loss: 1.5611 - val_accuracy: 0.3255\n",
      "Epoch 9/10\n",
      "1875/1875 [==============================] - 13s 7ms/step - loss: 1.5356 - accuracy: 0.3408 - val_loss: 1.5266 - val_accuracy: 0.3493\n",
      "Epoch 10/10\n",
      "1875/1875 [==============================] - 13s 7ms/step - loss: 1.5204 - accuracy: 0.3566 - val_loss: 1.4968 - val_accuracy: 0.3777\n"
     ]
    }
   ],
   "source": [
    "# Set random seed\n",
    "tf.random.set_seed(42)\n",
    "\n",
    "# 1. Create the model\n",
    "model_11 = tf.keras.Sequential(\n",
    "    [\n",
    "        tf.keras.layers.Flatten(input_shape=(28,28)),\n",
    "        tf.keras.layers.Dense(4, activation='relu'),\n",
    "        tf.keras.layers.Dense(4, activation='relu'),\n",
    "        tf.keras.layers.Dense(10, activation='softmax')  # Could also do tf.keras.tf.keras.activations.Softmax\n",
    "    ]\n",
    ")\n",
    "\n",
    "# 2. Compile the model\n",
    "model_11.compile(\n",
    "    loss=tf.keras.losses.CategoricalCrossentropy(),\n",
    "    optimizer=tf.keras.optimizers.Adam(),\n",
    "    metrics=['accuracy']\n",
    ")\n",
    "\n",
    "# 3. Fit the model\n",
    "non_norm_history = model_11.fit(\n",
    "    train_data,\n",
    "    tf.one_hot(train_labels, depth=10),\n",
    "    epochs=10,\n",
    "    validation_data=(test_data, tf.one_hot(test_labels, depth=10))\n",
    ")"
   ],
   "metadata": {
    "collapsed": false,
    "pycharm": {
     "name": "#%%\n"
    }
   }
  },
  {
   "cell_type": "code",
   "execution_count": 13,
   "outputs": [
    {
     "name": "stdout",
     "output_type": "stream",
     "text": [
      "Model: \"sequential_2\"\n",
      "_________________________________________________________________\n",
      " Layer (type)                Output Shape              Param #   \n",
      "=================================================================\n",
      " flatten_2 (Flatten)         (None, 784)               0         \n",
      "                                                                 \n",
      " dense_6 (Dense)             (None, 4)                 3140      \n",
      "                                                                 \n",
      " dense_7 (Dense)             (None, 4)                 20        \n",
      "                                                                 \n",
      " dense_8 (Dense)             (None, 10)                50        \n",
      "                                                                 \n",
      "=================================================================\n",
      "Total params: 3,210\n",
      "Trainable params: 3,210\n",
      "Non-trainable params: 0\n",
      "_________________________________________________________________\n"
     ]
    }
   ],
   "source": [
    "# Check the model summary\n",
    "model_11.summary()"
   ],
   "metadata": {
    "collapsed": false,
    "pycharm": {
     "name": "#%%\n"
    }
   }
  },
  {
   "cell_type": "code",
   "execution_count": 14,
   "outputs": [
    {
     "data": {
      "text/plain": "(0, 255)"
     },
     "execution_count": 14,
     "metadata": {},
     "output_type": "execute_result"
    }
   ],
   "source": [
    "# Check the min and max values of the training data\n",
    "train_data.min(), train_data.max()"
   ],
   "metadata": {
    "collapsed": false,
    "pycharm": {
     "name": "#%%\n"
    }
   }
  },
  {
   "cell_type": "markdown",
   "source": [
    "Neural networks prefer data to be scaled (or normalized), this means they like to have numbers in the tensors they try to find patterns in between 0 and 1."
   ],
   "metadata": {
    "collapsed": false,
    "pycharm": {
     "name": "#%% md\n"
    }
   }
  },
  {
   "cell_type": "code",
   "execution_count": 16,
   "outputs": [
    {
     "data": {
      "text/plain": "(0.0, 1.0)"
     },
     "execution_count": 16,
     "metadata": {},
     "output_type": "execute_result"
    }
   ],
   "source": [
    "# We can get our training and testing data between 0 and 1 by dividing by the maximum\n",
    "train_data_norm = train_data / 255.0\n",
    "test_data_norm = test_data / 255.0\n",
    "\n",
    "# Check the min and max values of the scaled training data\n",
    "train_data_norm.min(), train_data_norm.max()"
   ],
   "metadata": {
    "collapsed": false,
    "pycharm": {
     "name": "#%%\n"
    }
   }
  },
  {
   "cell_type": "code",
   "execution_count": 18,
   "outputs": [
    {
     "name": "stdout",
     "output_type": "stream",
     "text": [
      "Epoch 1/10\n",
      "  18/1875 [..............................] - ETA: 11s - loss: 2.3020 - accuracy: 0.1406"
     ]
    },
    {
     "name": "stderr",
     "output_type": "stream",
     "text": [
      "2022-09-03 12:36:24.275813: I tensorflow/core/grappler/optimizers/custom_graph_optimizer_registry.cc:113] Plugin optimizer for device_type GPU is enabled.\n"
     ]
    },
    {
     "name": "stdout",
     "output_type": "stream",
     "text": [
      "1871/1875 [============================>.] - ETA: 0s - loss: 1.0356 - accuracy: 0.6472"
     ]
    },
    {
     "name": "stderr",
     "output_type": "stream",
     "text": [
      "2022-09-03 12:36:35.680608: I tensorflow/core/grappler/optimizers/custom_graph_optimizer_registry.cc:113] Plugin optimizer for device_type GPU is enabled.\n"
     ]
    },
    {
     "name": "stdout",
     "output_type": "stream",
     "text": [
      "1875/1875 [==============================] - 13s 7ms/step - loss: 1.0348 - accuracy: 0.6474 - val_loss: 0.6937 - val_accuracy: 0.7617\n",
      "Epoch 2/10\n",
      "1875/1875 [==============================] - 13s 7ms/step - loss: 0.6376 - accuracy: 0.7757 - val_loss: 0.6400 - val_accuracy: 0.7820\n",
      "Epoch 3/10\n",
      "1875/1875 [==============================] - 13s 7ms/step - loss: 0.5942 - accuracy: 0.7914 - val_loss: 0.6247 - val_accuracy: 0.7783\n",
      "Epoch 4/10\n",
      "1875/1875 [==============================] - 13s 7ms/step - loss: 0.5750 - accuracy: 0.7979 - val_loss: 0.6078 - val_accuracy: 0.7881\n",
      "Epoch 5/10\n",
      "1875/1875 [==============================] - 13s 7ms/step - loss: 0.5641 - accuracy: 0.8006 - val_loss: 0.6169 - val_accuracy: 0.7881\n",
      "Epoch 6/10\n",
      "1875/1875 [==============================] - 13s 7ms/step - loss: 0.5544 - accuracy: 0.8043 - val_loss: 0.5855 - val_accuracy: 0.7951\n",
      "Epoch 7/10\n",
      "1875/1875 [==============================] - 13s 7ms/step - loss: 0.5488 - accuracy: 0.8063 - val_loss: 0.6097 - val_accuracy: 0.7836\n",
      "Epoch 8/10\n",
      "1875/1875 [==============================] - 13s 7ms/step - loss: 0.5428 - accuracy: 0.8077 - val_loss: 0.5787 - val_accuracy: 0.7971\n",
      "Epoch 9/10\n",
      "1875/1875 [==============================] - 13s 7ms/step - loss: 0.5373 - accuracy: 0.8097 - val_loss: 0.5698 - val_accuracy: 0.7977\n",
      "Epoch 10/10\n",
      "1875/1875 [==============================] - 13s 7ms/step - loss: 0.5360 - accuracy: 0.8124 - val_loss: 0.5658 - val_accuracy: 0.8014\n"
     ]
    }
   ],
   "source": [
    "# Now our data is normalized, let's build a model to find patterns in it\n",
    "# Set random seed\n",
    "tf.random.set_seed(42)\n",
    "\n",
    "# 1. Create the model\n",
    "model_12 = tf.keras.Sequential(\n",
    "    [\n",
    "        tf.keras.layers.Flatten(input_shape=(28, 28)),\n",
    "        tf.keras.layers.Dense(4, activation='relu'),\n",
    "        tf.keras.layers.Dense(4, activation='relu'),\n",
    "        tf.keras.layers.Dense(10, activation=tf.keras.activations.softmax)\n",
    "    ]\n",
    ")\n",
    "\n",
    "# 2. Compile the model\n",
    "model_12.compile(\n",
    "    loss=tf.keras.losses.CategoricalCrossentropy(),\n",
    "    optimizer=tf.keras.optimizers.Adam(),\n",
    "    metrics=['accuracy']\n",
    ")\n",
    "\n",
    "# 3. Fit the model\n",
    "norm_history = model_12.fit(\n",
    "    train_data_norm,\n",
    "    tf.one_hot(train_labels, depth=10),\n",
    "    epochs=10,\n",
    "    validation_data=(test_data_norm, tf.one_hot(test_labels, depth=10))\n",
    ")"
   ],
   "metadata": {
    "collapsed": false,
    "pycharm": {
     "name": "#%%\n"
    }
   }
  },
  {
   "cell_type": "code",
   "execution_count": 31,
   "outputs": [
    {
     "data": {
      "text/plain": "<Figure size 1440x504 with 2 Axes>",
      "image/png": "[encoded data removed]"
     },
     "metadata": {
      "needs_background": "light"
     },
     "output_type": "display_data"
    }
   ],
   "source": [
    "# Put histories into dataframes\n",
    "non_norm_history_df = pd.DataFrame(non_norm_history.history)\n",
    "norm_history_df = pd.DataFrame(norm_history.history)\n",
    "\n",
    "plt.figure(figsize=(20,7))\n",
    "plt.subplot(1, 2, 1)\n",
    "plt.plot(non_norm_history_df.loss, label='Not Normalized')\n",
    "plt.plot(norm_history_df.loss, label='Normalized')\n",
    "\n",
    "plt.title('Loss Curves')\n",
    "plt.legend()\n",
    "\n",
    "plt.subplot(1, 2, 2)\n",
    "plt.plot(non_norm_history_df.accuracy, label='Not Normalized')\n",
    "plt.plot(norm_history_df.accuracy, label='Normalized')\n",
    "\n",
    "plt.title('Accuracy Curves')\n",
    "plt.legend()\n",
    "\n",
    "plt.show()"
   ],
   "metadata": {
    "collapsed": false,
    "pycharm": {
     "name": "#%%\n"
    }
   }
  },
  {
   "cell_type": "code",
   "execution_count": null,
   "outputs": [],
   "source": [],
   "metadata": {
    "collapsed": false,
    "pycharm": {
     "name": "#%%\n"
    }
   }
  }
 ],
 "metadata": {
  "kernelspec": {
   "display_name": "Python 3",
   "language": "python",
   "name": "python3"
  },
  "language_info": {
   "codemirror_mode": {
    "name": "ipython",
    "version": 2
   },
   "file_extension": ".py",
   "mimetype": "text/x-python",
   "name": "python",
   "nbconvert_exporter": "python",
   "pygments_lexer": "ipython2",
   "version": "2.7.6"
  }
 },
 "nbformat": 4,
 "nbformat_minor": 0
}