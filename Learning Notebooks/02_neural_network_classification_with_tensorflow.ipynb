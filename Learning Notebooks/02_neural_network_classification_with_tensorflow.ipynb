{
 "cells": [
  {
   "cell_type": "markdown",
   "source": [
    "# Introduction to neural network calssification with TensorFlow\n",
    "\n",
    "In this notebook we're going to learn how to write neural networks for classification problems.\n",
    "\n",
    "A classification is where you try to classify something as one thing or another.\n",
    "\n",
    "A few types of classification problems:\n",
    "* Binary classification\n",
    "* Multiclass classification\n",
    "* Multilabel classification\n",
    "\n",
    "## Creating data to view and fit"
   ],
   "metadata": {
    "collapsed": false,
    "pycharm": {
     "name": "#%% md\n"
    }
   }
  },
  {
   "cell_type": "code",
   "execution_count": 1,
   "metadata": {
    "collapsed": true,
    "pycharm": {
     "name": "#%%\n"
    }
   },
   "outputs": [],
   "source": [
    "from sklearn.datasets import make_circles\n",
    "\n",
    "# Make 1000 examples\n",
    "n_samples = 1000\n",
    "\n",
    "# Create circles\n",
    "X, y = make_circles(\n",
    "    n_samples,\n",
    "    noise=0.03,\n",
    "    random_state=42\n",
    ")"
   ]
  },
  {
   "cell_type": "code",
   "execution_count": 2,
   "outputs": [
    {
     "data": {
      "text/plain": "array([[ 0.75424625,  0.23148074],\n       [-0.75615888,  0.15325888],\n       [-0.81539193,  0.17328203],\n       ...,\n       [-0.13690036, -0.81001183],\n       [ 0.67036156, -0.76750154],\n       [ 0.28105665,  0.96382443]])"
     },
     "execution_count": 2,
     "metadata": {},
     "output_type": "execute_result"
    }
   ],
   "source": [
    "# Check out the features\n",
    "X"
   ],
   "metadata": {
    "collapsed": false,
    "pycharm": {
     "name": "#%%\n"
    }
   }
  },
  {
   "cell_type": "code",
   "execution_count": 3,
   "outputs": [
    {
     "data": {
      "text/plain": "array([1, 1, 1, 1, 0, 1, 1, 1, 1, 0, 1, 0, 1, 1, 1, 1, 0, 1, 1, 0, 1, 0,\n       0, 1, 0, 0, 0, 1, 1, 1, 0, 0, 1, 0, 0, 0, 1, 1, 1, 0, 0, 0, 0, 1,\n       0, 0, 1, 1, 0, 1, 1, 1, 0, 1, 0, 0, 1, 0, 0, 1, 0, 0, 1, 0, 1, 1,\n       1, 1, 0, 1, 0, 0, 1, 1, 0, 0, 1, 0, 1, 0, 1, 0, 0, 0, 0, 1, 1, 1,\n       1, 0, 0, 0, 1, 0, 1, 0, 1, 0, 0, 1, 1, 0, 1, 0, 1, 1, 1, 1, 0, 1,\n       1, 1, 1, 1, 0, 0, 0, 1, 1, 0, 1, 0, 1, 0, 0, 1, 1, 0, 1, 1, 1, 1,\n       0, 1, 1, 0, 0, 0, 0, 0, 0, 0, 1, 0, 1, 1, 1, 0, 1, 0, 1, 0, 1, 0,\n       1, 0, 0, 1, 0, 1, 1, 1, 1, 1, 1, 1, 0, 1, 0, 0, 0, 0, 0, 1, 0, 0,\n       0, 0, 1, 1, 0, 1, 0, 1, 1, 0, 0, 0, 1, 1, 1, 1, 1, 0, 0, 0, 0, 0,\n       1, 0, 0, 1, 1, 1, 1, 1, 0, 1, 0, 1, 0, 0, 1, 1, 1, 0, 1, 0, 1, 1,\n       0, 1, 1, 0, 1, 0, 1, 0, 1, 1, 0, 1, 0, 1, 0, 0, 0, 1, 0, 0, 0, 0,\n       1, 1, 0, 0, 0, 0, 0, 0, 0, 1, 1, 1, 0, 0, 1, 1, 1, 0, 1, 0, 0, 0,\n       0, 1, 1, 0, 1, 0, 0, 0, 1, 0, 1, 0, 0, 1, 0, 1, 1, 1, 0, 0, 0, 1,\n       0, 0, 0, 1, 1, 1, 1, 0, 0, 0, 1, 0, 0, 0, 1, 0, 0, 0, 1, 1, 0, 1,\n       1, 1, 1, 1, 1, 1, 0, 0, 0, 0, 1, 0, 0, 0, 0, 1, 1, 1, 0, 0, 1, 0,\n       1, 0, 1, 1, 0, 0, 1, 1, 1, 1, 0, 0, 0, 0, 0, 0, 1, 1, 0, 1, 0, 0,\n       1, 0, 0, 0, 0, 0, 0, 0, 0, 1, 0, 0, 0, 0, 1, 0, 0, 1, 0, 1, 0, 0,\n       0, 1, 0, 0, 1, 1, 0, 0, 1, 0, 0, 1, 1, 0, 1, 1, 0, 0, 1, 0, 1, 0,\n       0, 0, 1, 1, 0, 0, 1, 1, 1, 1, 1, 0, 0, 1, 1, 1, 1, 0, 1, 1, 1, 1,\n       1, 0, 0, 1, 0, 1, 0, 0, 0, 0, 1, 0, 0, 0, 0, 0, 0, 0, 0, 0, 1, 1,\n       0, 1, 1, 1, 1, 1, 1, 0, 1, 1, 1, 1, 0, 0, 0, 1, 1, 1, 0, 0, 0, 0,\n       1, 1, 0, 0, 0, 0, 1, 0, 0, 0, 1, 0, 0, 1, 1, 1, 1, 1, 1, 0, 0, 0,\n       1, 0, 0, 0, 0, 0, 1, 1, 1, 0, 0, 0, 0, 0, 1, 1, 1, 0, 0, 1, 1, 1,\n       1, 0, 1, 1, 0, 1, 0, 0, 0, 1, 0, 0, 1, 0, 0, 1, 1, 0, 0, 1, 1, 0,\n       1, 0, 1, 0, 1, 0, 1, 0, 0, 0, 1, 0, 0, 0, 0, 0, 0, 1, 1, 1, 1, 0,\n       0, 0, 1, 0, 1, 1, 0, 0, 0, 0, 0, 1, 1, 1, 0, 0, 1, 0, 0, 1, 0, 0,\n       1, 0, 0, 1, 0, 0, 0, 1, 0, 0, 1, 1, 1, 0, 1, 1, 0, 0, 0, 1, 1, 1,\n       1, 0, 0, 1, 1, 1, 0, 0, 0, 0, 1, 1, 0, 0, 1, 1, 0, 0, 1, 1, 1, 1,\n       1, 1, 1, 0, 1, 0, 1, 0, 0, 1, 0, 1, 1, 1, 1, 0, 0, 1, 1, 0, 0, 1,\n       0, 1, 0, 0, 0, 1, 0, 0, 1, 1, 1, 1, 0, 1, 1, 1, 1, 1, 1, 1, 0, 1,\n       0, 1, 1, 1, 0, 0, 1, 0, 0, 0, 1, 1, 1, 1, 0, 0, 0, 0, 1, 0, 1, 1,\n       1, 0, 1, 0, 0, 1, 0, 0, 1, 1, 1, 1, 1, 0, 1, 0, 0, 0, 1, 1, 1, 1,\n       1, 0, 0, 0, 1, 1, 1, 1, 0, 0, 0, 0, 0, 1, 1, 0, 1, 0, 1, 0, 0, 0,\n       0, 0, 0, 0, 0, 0, 1, 1, 1, 1, 1, 0, 1, 0, 1, 1, 1, 1, 0, 1, 1, 1,\n       1, 1, 1, 1, 1, 0, 1, 1, 0, 1, 0, 0, 0, 1, 0, 1, 1, 1, 0, 1, 1, 0,\n       1, 1, 0, 1, 0, 1, 1, 0, 0, 1, 1, 1, 0, 0, 0, 0, 1, 1, 0, 0, 1, 1,\n       1, 1, 1, 1, 1, 1, 1, 1, 1, 1, 1, 1, 0, 0, 1, 0, 1, 0, 1, 0, 1, 1,\n       1, 1, 1, 1, 0, 1, 0, 1, 1, 1, 0, 1, 1, 0, 0, 1, 0, 1, 1, 0, 0, 1,\n       1, 1, 1, 1, 1, 1, 1, 0, 1, 1, 1, 0, 1, 0, 0, 1, 1, 0, 0, 0, 1, 0,\n       0, 1, 0, 0, 0, 1, 0, 1, 0, 0, 0, 0, 1, 0, 1, 1, 1, 1, 0, 1, 0, 0,\n       0, 0, 0, 0, 1, 0, 1, 0, 1, 0, 1, 1, 1, 0, 1, 0, 1, 0, 0, 1, 1, 1,\n       0, 0, 0, 1, 1, 0, 1, 0, 1, 1, 0, 1, 0, 0, 1, 1, 1, 0, 0, 0, 1, 1,\n       0, 0, 0, 0, 0, 1, 1, 0, 1, 0, 0, 0, 1, 0, 0, 0, 1, 1, 1, 1, 0, 1,\n       1, 1, 0, 1, 1, 1, 1, 0, 1, 1, 0, 1, 1, 0, 0, 1, 1, 1, 0, 0, 0, 0,\n       0, 0, 1, 0, 0, 1, 0, 0, 0, 1, 0, 1, 0, 1, 1, 0, 0, 0, 0, 0, 0, 0,\n       0, 1, 0, 1, 0, 0, 0, 1, 0, 0])"
     },
     "execution_count": 3,
     "metadata": {},
     "output_type": "execute_result"
    }
   ],
   "source": [
    "# Check the labels\n",
    "y"
   ],
   "metadata": {
    "collapsed": false,
    "pycharm": {
     "name": "#%%\n"
    }
   }
  },
  {
   "cell_type": "markdown",
   "source": [
    "Our data is a little hard to understand right now... let's visualize it!"
   ],
   "metadata": {
    "collapsed": false,
    "pycharm": {
     "name": "#%% md\n"
    }
   }
  },
  {
   "cell_type": "code",
   "execution_count": 4,
   "outputs": [
    {
     "data": {
      "text/plain": "           X0        X1  y\n0    0.754246  0.231481  1\n1   -0.756159  0.153259  1\n2   -0.815392  0.173282  1\n3   -0.393731  0.692883  1\n4    0.442208 -0.896723  0\n..        ...       ... ..\n995  0.244054  0.944125  0\n996 -0.978655 -0.272373  0\n997 -0.136900 -0.810012  1\n998  0.670362 -0.767502  0\n999  0.281057  0.963824  0\n\n[1000 rows x 3 columns]",
      "text/html": "<div>\n<style scoped>\n    .dataframe tbody tr th:only-of-type {\n        vertical-align: middle;\n    }\n\n    .dataframe tbody tr th {\n        vertical-align: top;\n    }\n\n    .dataframe thead th {\n        text-align: right;\n    }\n</style>\n<table border=\"1\" class=\"dataframe\">\n  <thead>\n    <tr style=\"text-align: right;\">\n      <th></th>\n      <th>X0</th>\n      <th>X1</th>\n      <th>y</th>\n    </tr>\n  </thead>\n  <tbody>\n    <tr>\n      <th>0</th>\n      <td>0.754246</td>\n      <td>0.231481</td>\n      <td>1</td>\n    </tr>\n    <tr>\n      <th>1</th>\n      <td>-0.756159</td>\n      <td>0.153259</td>\n      <td>1</td>\n    </tr>\n    <tr>\n      <th>2</th>\n      <td>-0.815392</td>\n      <td>0.173282</td>\n      <td>1</td>\n    </tr>\n    <tr>\n      <th>3</th>\n      <td>-0.393731</td>\n      <td>0.692883</td>\n      <td>1</td>\n    </tr>\n    <tr>\n      <th>4</th>\n      <td>0.442208</td>\n      <td>-0.896723</td>\n      <td>0</td>\n    </tr>\n    <tr>\n      <th>...</th>\n      <td>...</td>\n      <td>...</td>\n      <td>...</td>\n    </tr>\n    <tr>\n      <th>995</th>\n      <td>0.244054</td>\n      <td>0.944125</td>\n      <td>0</td>\n    </tr>\n    <tr>\n      <th>996</th>\n      <td>-0.978655</td>\n      <td>-0.272373</td>\n      <td>0</td>\n    </tr>\n    <tr>\n      <th>997</th>\n      <td>-0.136900</td>\n      <td>-0.810012</td>\n      <td>1</td>\n    </tr>\n    <tr>\n      <th>998</th>\n      <td>0.670362</td>\n      <td>-0.767502</td>\n      <td>0</td>\n    </tr>\n    <tr>\n      <th>999</th>\n      <td>0.281057</td>\n      <td>0.963824</td>\n      <td>0</td>\n    </tr>\n  </tbody>\n</table>\n<p>1000 rows × 3 columns</p>\n</div>"
     },
     "execution_count": 4,
     "metadata": {},
     "output_type": "execute_result"
    }
   ],
   "source": [
    "import pandas as pd\n",
    "\n",
    "circles = pd.DataFrame({\n",
    "    'X0': X[:, 0],\n",
    "    'X1': X[:, 1],\n",
    "    'y': y\n",
    "})\n",
    "\n",
    "circles"
   ],
   "metadata": {
    "collapsed": false,
    "pycharm": {
     "name": "#%%\n"
    }
   }
  },
  {
   "cell_type": "code",
   "execution_count": 5,
   "outputs": [
    {
     "data": {
      "text/plain": "<Figure size 432x288 with 1 Axes>",
      "image/png": "[encoded data removed]"
     },
     "metadata": {
      "needs_background": "light"
     },
     "output_type": "display_data"
    }
   ],
   "source": [
    "# Visualize with a plot\n",
    "import matplotlib.pyplot as plt\n",
    "\n",
    "plt.scatter(\n",
    "    X[:, 0],\n",
    "    X[:, 1],\n",
    "    c=y,\n",
    "    cmap=plt.cm.RdYlBu\n",
    ")\n",
    "plt.show()"
   ],
   "metadata": {
    "collapsed": false,
    "pycharm": {
     "name": "#%%\n"
    }
   }
  },
  {
   "cell_type": "markdown",
   "source": [
    "## Input and output shapes"
   ],
   "metadata": {
    "collapsed": false,
    "pycharm": {
     "name": "#%% md\n"
    }
   }
  },
  {
   "cell_type": "code",
   "execution_count": 6,
   "outputs": [
    {
     "data": {
      "text/plain": "((1000, 2), (1000,))"
     },
     "execution_count": 6,
     "metadata": {},
     "output_type": "execute_result"
    }
   ],
   "source": [
    "# Check the shapes of our features and labels\n",
    "X.shape, y.shape"
   ],
   "metadata": {
    "collapsed": false,
    "pycharm": {
     "name": "#%%\n"
    }
   }
  },
  {
   "cell_type": "code",
   "execution_count": 7,
   "outputs": [
    {
     "data": {
      "text/plain": "(1000, 1000)"
     },
     "execution_count": 7,
     "metadata": {},
     "output_type": "execute_result"
    }
   ],
   "source": [
    "# How many samples we're working with\n",
    "len(X), len(y)"
   ],
   "metadata": {
    "collapsed": false,
    "pycharm": {
     "name": "#%%\n"
    }
   }
  },
  {
   "cell_type": "code",
   "execution_count": 8,
   "outputs": [
    {
     "data": {
      "text/plain": "(array([0.75424625, 0.23148074]), 1)"
     },
     "execution_count": 8,
     "metadata": {},
     "output_type": "execute_result"
    }
   ],
   "source": [
    "# View the first example of features and labels\n",
    "X[0], y[0]"
   ],
   "metadata": {
    "collapsed": false,
    "pycharm": {
     "name": "#%%\n"
    }
   }
  },
  {
   "cell_type": "markdown",
   "source": [
    "## Steps in modelling\n",
    "\n",
    "the steps in modelling with TensorFlow are typcially:\n",
    "\n",
    "1. Create or import a model\n",
    "2. Compile the model\n",
    "3. Fit the model\n",
    "4. Evaluate the model\n",
    "5. Tweak the model\n",
    "6. Evaluate..."
   ],
   "metadata": {
    "collapsed": false,
    "pycharm": {
     "name": "#%% md\n"
    }
   }
  },
  {
   "cell_type": "code",
   "execution_count": 9,
   "outputs": [],
   "source": [
    "import tensorflow as tf"
   ],
   "metadata": {
    "collapsed": false,
    "pycharm": {
     "name": "#%%\n"
    }
   }
  },
  {
   "cell_type": "code",
   "execution_count": 10,
   "outputs": [
    {
     "name": "stdout",
     "output_type": "stream",
     "text": [
      "Metal device set to: Apple M1 Pro\n",
      "Epoch 1/5\n"
     ]
    },
    {
     "name": "stderr",
     "output_type": "stream",
     "text": [
      "2022-08-12 17:58:51.267764: I tensorflow/core/common_runtime/pluggable_device/pluggable_device_factory.cc:305] Could not identify NUMA node of platform GPU ID 0, defaulting to 0. Your kernel may not have been built with NUMA support.\n",
      "2022-08-12 17:58:51.267860: I tensorflow/core/common_runtime/pluggable_device/pluggable_device_factory.cc:271] Created TensorFlow device (/job:localhost/replica:0/task:0/device:GPU:0 with 0 MB memory) -> physical PluggableDevice (device: 0, name: METAL, pci bus id: <undefined>)\n",
      "2022-08-12 17:58:51.312516: W tensorflow/core/platform/profile_utils/cpu_utils.cc:128] Failed to get CPU frequency: 0 Hz\n",
      "2022-08-12 17:58:51.583391: I tensorflow/core/grappler/optimizers/custom_graph_optimizer_registry.cc:113] Plugin optimizer for device_type GPU is enabled.\n"
     ]
    },
    {
     "name": "stdout",
     "output_type": "stream",
     "text": [
      "32/32 [==============================] - 1s 7ms/step - loss: 2.8544 - accuracy: 0.4600\n",
      "Epoch 2/5\n",
      "32/32 [==============================] - 0s 5ms/step - loss: 0.7131 - accuracy: 0.5430\n",
      "Epoch 3/5\n",
      "32/32 [==============================] - 0s 5ms/step - loss: 0.6973 - accuracy: 0.5090\n",
      "Epoch 4/5\n",
      "32/32 [==============================] - 0s 5ms/step - loss: 0.6950 - accuracy: 0.5010\n",
      "Epoch 5/5\n",
      "32/32 [==============================] - 0s 5ms/step - loss: 0.6942 - accuracy: 0.4830\n"
     ]
    },
    {
     "data": {
      "text/plain": "<keras.callbacks.History at 0x162b35df0>"
     },
     "execution_count": 10,
     "metadata": {},
     "output_type": "execute_result"
    }
   ],
   "source": [
    "# Set the random seed\n",
    "tf.random.set_seed(42)\n",
    "\n",
    "# 1. Create the model using the sequential API\n",
    "model_1 = tf.keras.Sequential(\n",
    "    [\n",
    "        tf.keras.layers.Dense(1)\n",
    "    ]\n",
    ")\n",
    "\n",
    "model_1.compile(\n",
    "    loss=tf.keras.losses.BinaryCrossentropy(),\n",
    "    optimizer=tf.keras.optimizers.SGD(),\n",
    "    metrics=['accuracy']\n",
    ")\n",
    "\n",
    "# 3. Fit the model\n",
    "model_1.fit(X, y, epochs=5)"
   ],
   "metadata": {
    "collapsed": false,
    "pycharm": {
     "name": "#%%\n"
    }
   }
  },
  {
   "cell_type": "code",
   "execution_count": 11,
   "outputs": [
    {
     "name": "stdout",
     "output_type": "stream",
     "text": [
      "32/32 [==============================] - 0s 4ms/step - loss: 0.6935 - accuracy: 0.5000\n"
     ]
    },
    {
     "name": "stderr",
     "output_type": "stream",
     "text": [
      "2022-08-12 17:59:15.719348: I tensorflow/core/grappler/optimizers/custom_graph_optimizer_registry.cc:113] Plugin optimizer for device_type GPU is enabled.\n"
     ]
    },
    {
     "data": {
      "text/plain": "[0.6934829950332642, 0.5]"
     },
     "execution_count": 11,
     "metadata": {},
     "output_type": "execute_result"
    }
   ],
   "source": [
    "# Let's try and improve our model by training for longer...\n",
    "model_1.fit(X, y, epochs=200, verbose=0)\n",
    "model_1.evaluate(X, y)"
   ],
   "metadata": {
    "collapsed": false,
    "pycharm": {
     "name": "#%%\n"
    }
   }
  },
  {
   "cell_type": "markdown",
   "source": [
    "Since we are working on a binary classification problem and our model is sgetting around ~50% accruacy.. it's performing like its guessing.\n",
    "\n",
    "So let's step things up a notch and add an extra layer."
   ],
   "metadata": {
    "collapsed": false,
    "pycharm": {
     "name": "#%% md\n"
    }
   }
  },
  {
   "cell_type": "code",
   "execution_count": 12,
   "outputs": [
    {
     "name": "stderr",
     "output_type": "stream",
     "text": [
      "2022-08-12 17:59:16.079180: I tensorflow/core/grappler/optimizers/custom_graph_optimizer_registry.cc:113] Plugin optimizer for device_type GPU is enabled.\n"
     ]
    },
    {
     "data": {
      "text/plain": "<keras.callbacks.History at 0x163db1550>"
     },
     "execution_count": 12,
     "metadata": {},
     "output_type": "execute_result"
    }
   ],
   "source": [
    "# Set random seed\n",
    "tf.random.set_seed(42)\n",
    "\n",
    "# 1. Create a model, this time with 2 layers\n",
    "model_2 = tf.keras.Sequential(\n",
    "    [\n",
    "        tf.keras.layers.Dense(1),\n",
    "        tf.keras.layers.Dense(1)\n",
    "    ]\n",
    ")\n",
    "\n",
    "# 2. Compile a model\n",
    "model_2.compile(\n",
    "    loss=tf.keras.losses.BinaryCrossentropy(),\n",
    "    optimizer=tf.keras.optimizers.SGD(),\n",
    "    metrics=['accuracy']\n",
    ")\n",
    "\n",
    "# 3. Fit the model\n",
    "model_2.fit(X, y, epochs=100, verbose=0)"
   ],
   "metadata": {
    "collapsed": false,
    "pycharm": {
     "name": "#%%\n"
    }
   }
  },
  {
   "cell_type": "code",
   "execution_count": 13,
   "outputs": [
    {
     "name": "stdout",
     "output_type": "stream",
     "text": [
      "32/32 [==============================] - 0s 4ms/step - loss: 0.6933 - accuracy: 0.5000\n"
     ]
    },
    {
     "name": "stderr",
     "output_type": "stream",
     "text": [
      "2022-08-12 17:59:28.932201: I tensorflow/core/grappler/optimizers/custom_graph_optimizer_registry.cc:113] Plugin optimizer for device_type GPU is enabled.\n"
     ]
    },
    {
     "data": {
      "text/plain": "[0.6933314204216003, 0.5]"
     },
     "execution_count": 13,
     "metadata": {},
     "output_type": "execute_result"
    }
   ],
   "source": [
    "# 4. Evaluate the model\n",
    "model_2.evaluate(X, y)\n"
   ],
   "metadata": {
    "collapsed": false,
    "pycharm": {
     "name": "#%%\n"
    }
   }
  },
  {
   "cell_type": "markdown",
   "source": [
    "## Improving our model\n",
    "\n",
    "Let's look into our bag of tricks to see how we can improve our model.\n",
    "\n",
    "1. Create a model - we might want to add more layers or increase the number of hidden units\n",
    "2. Compile a model - Here we might want to choose a different optimization function such as Adam instead of SGD.\n",
    "3. Fitting a model - Perhaps we might fit our model for more epochs (leave it training for longer)"
   ],
   "metadata": {
    "collapsed": false,
    "pycharm": {
     "name": "#%% md\n"
    }
   }
  },
  {
   "cell_type": "code",
   "execution_count": 15,
   "outputs": [
    {
     "name": "stderr",
     "output_type": "stream",
     "text": [
      "2022-08-12 19:14:06.631898: I tensorflow/core/grappler/optimizers/custom_graph_optimizer_registry.cc:113] Plugin optimizer for device_type GPU is enabled.\n"
     ]
    },
    {
     "data": {
      "text/plain": "<keras.callbacks.History at 0x16ba10cd0>"
     },
     "execution_count": 15,
     "metadata": {},
     "output_type": "execute_result"
    }
   ],
   "source": [
    "# Set the random seed\n",
    "tf.random.set_seed(42)\n",
    "\n",
    "# 1. Create a model (this time 3 layers)\n",
    "model_3 = tf.keras.Sequential(\n",
    "    [\n",
    "        tf.keras.layers.Dense(100),  # add 100 dense neurons\n",
    "        tf.keras.layers.Dense(10), # add another layer with 10 neurons\n",
    "        tf.keras.layers.Dense(1)\n",
    "    ]\n",
    ")\n",
    "\n",
    "# 2. Compile the mode\n",
    "model_3.compile(\n",
    "    loss=tf.keras.losses.BinaryCrossentropy(),\n",
    "    optimizer=tf.keras.optimizers.Adam(),\n",
    "    metrics=['accuracy']\n",
    ")\n",
    "\n",
    "# 3. Fit the model\n",
    "model_3.fit(X, y, epochs=100, verbose=0)"
   ],
   "metadata": {
    "collapsed": false,
    "pycharm": {
     "name": "#%%\n"
    }
   }
  },
  {
   "cell_type": "code",
   "execution_count": 16,
   "outputs": [
    {
     "name": "stdout",
     "output_type": "stream",
     "text": [
      "32/32 [==============================] - 0s 4ms/step - loss: 0.6980 - accuracy: 0.5090\n"
     ]
    },
    {
     "name": "stderr",
     "output_type": "stream",
     "text": [
      "2022-08-12 19:14:22.145340: I tensorflow/core/grappler/optimizers/custom_graph_optimizer_registry.cc:113] Plugin optimizer for device_type GPU is enabled.\n"
     ]
    },
    {
     "data": {
      "text/plain": "[0.6980188488960266, 0.5090000033378601]"
     },
     "execution_count": 16,
     "metadata": {},
     "output_type": "execute_result"
    }
   ],
   "source": [
    "# Evaluate the model\n",
    "model_3.evaluate(X, y)"
   ],
   "metadata": {
    "collapsed": false,
    "pycharm": {
     "name": "#%%\n"
    }
   }
  },
  {
   "cell_type": "markdown",
   "source": [
    "To visualize our model's predictions, let's create a function `plot_decision_boundary()`, this function will:\n",
    "\n",
    "* Take in a trained model, features and labels\n",
    "* Create a meshgrid of the different X values\n",
    "* Make predictions across the meshgrid\n",
    "* Plot the predictions as well as a line between the zones (where each unique class falls)"
   ],
   "metadata": {
    "collapsed": false,
    "pycharm": {
     "name": "#%% md\n"
    }
   }
  },
  {
   "cell_type": "code",
   "execution_count": 21,
   "outputs": [],
   "source": [
    "import numpy as np"
   ],
   "metadata": {
    "collapsed": false,
    "pycharm": {
     "name": "#%%\n"
    }
   }
  },
  {
   "cell_type": "code",
   "execution_count": 26,
   "outputs": [],
   "source": [
    "def plot_decision_boundary(model, X, y):\n",
    "    \"\"\"\n",
    "    Plots the decision boundary created by a model prediction on X\n",
    "    \"\"\"\n",
    "    # Define the axis boundaries of the plot and create a mesh grid\n",
    "    x_min, x_max = X[:, 0].min() - 0.1, X[:, 0].max() + 0.1\n",
    "    y_min, y_max  = X[:, 1].min() - 0.1, X[:, 1].max() + 0.1\n",
    "    xx, yy = np.meshgrid(\n",
    "        np.linspace(x_min, x_max, 100),\n",
    "        np.linspace(y_min, y_max, 100)\n",
    "    )\n",
    "\n",
    "    # Create X value (we're going to make predictions on these)\n",
    "    x_in = np.c_[xx.ravel(), yy.ravel()]  # Stack 2d arrays together\n",
    "\n",
    "    # Make predictions\n",
    "    y_pred = model.predict(x_in)\n",
    "\n",
    "    # Check for multiclass\n",
    "    if model.output_shape[-1] > 1:\n",
    "        print('Doing multi-class classification')\n",
    "        # We have to reshape our prediction to get them ready for plotting\n",
    "        y_pred = np.argmax(y_pred, axis=1).reshape(xx.shape)\n",
    "\n",
    "    else:\n",
    "        print('Doing binary classification')\n",
    "        y_pred = np.round(y_pred).reshape(xx.shape)\n",
    "\n",
    "    # Plot the decision boundary\n",
    "    plt.contourf(xx, yy, y_pred, cmap=plt.cm.RdYlBu, alpha=0.7)\n",
    "    plt.scatter(X[:, 0], X[:, 1], c=y, s=40, cmap=plt.cm.RdYlBu)\n",
    "    plt.xlim(xx.min(), xx.max())\n",
    "    plt.ylim(yy.min(), yy.max())\n",
    "\n"
   ],
   "metadata": {
    "collapsed": false,
    "pycharm": {
     "name": "#%%\n"
    }
   }
  },
  {
   "cell_type": "code",
   "execution_count": 27,
   "outputs": [
    {
     "name": "stdout",
     "output_type": "stream",
     "text": [
      "313/313 [==============================] - 0s 1ms/step\n",
      "Doing binary classification\n"
     ]
    },
    {
     "data": {
      "text/plain": "<Figure size 432x288 with 1 Axes>",
      "image/png": "[encoded data removed]"
     },
     "metadata": {
      "needs_background": "light"
     },
     "output_type": "display_data"
    }
   ],
   "source": [
    "plot_decision_boundary(model_3, X, y)"
   ],
   "metadata": {
    "collapsed": false,
    "pycharm": {
     "name": "#%%\n"
    }
   }
  },
  {
   "cell_type": "code",
   "execution_count": 29,
   "outputs": [
    {
     "name": "stdout",
     "output_type": "stream",
     "text": [
      "Epoch 1/100\n",
      "WARNING:tensorflow:Model was constructed with shape (None, 2) for input KerasTensor(type_spec=TensorSpec(shape=(None, 2), dtype=tf.float32, name='dense_6_input'), name='dense_6_input', description=\"created by layer 'dense_6_input'\"), but it was called on an input with incompatible shape (None,).\n"
     ]
    },
    {
     "ename": "ValueError",
     "evalue": "in user code:\n\n    File \"/Users/georgeharris/opt/miniconda3/envs/tensorflow/lib/python3.9/site-packages/keras/engine/training.py\", line 1051, in train_function  *\n        return step_function(self, iterator)\n    File \"/Users/georgeharris/opt/miniconda3/envs/tensorflow/lib/python3.9/site-packages/keras/engine/training.py\", line 1040, in step_function  **\n        outputs = model.distribute_strategy.run(run_step, args=(data,))\n    File \"/Users/georgeharris/opt/miniconda3/envs/tensorflow/lib/python3.9/site-packages/keras/engine/training.py\", line 1030, in run_step  **\n        outputs = model.train_step(data)\n    File \"/Users/georgeharris/opt/miniconda3/envs/tensorflow/lib/python3.9/site-packages/keras/engine/training.py\", line 889, in train_step\n        y_pred = self(x, training=True)\n    File \"/Users/georgeharris/opt/miniconda3/envs/tensorflow/lib/python3.9/site-packages/keras/utils/traceback_utils.py\", line 67, in error_handler\n        raise e.with_traceback(filtered_tb) from None\n    File \"/Users/georgeharris/opt/miniconda3/envs/tensorflow/lib/python3.9/site-packages/keras/engine/input_spec.py\", line 228, in assert_input_compatibility\n        raise ValueError(f'Input {input_index} of layer \"{layer_name}\" '\n\n    ValueError: Exception encountered when calling layer \"sequential_3\" (type Sequential).\n    \n    Input 0 of layer \"dense_6\" is incompatible with the layer: expected min_ndim=2, found ndim=1. Full shape received: (None,)\n    \n    Call arguments received by layer \"sequential_3\" (type Sequential):\n      • inputs=tf.Tensor(shape=(None,), dtype=int32)\n      • training=True\n      • mask=None\n",
     "output_type": "error",
     "traceback": [
      "\u001B[0;31m---------------------------------------------------------------------------\u001B[0m",
      "\u001B[0;31mValueError\u001B[0m                                Traceback (most recent call last)",
      "Input \u001B[0;32mIn [29]\u001B[0m, in \u001B[0;36m<cell line: 16>\u001B[0;34m()\u001B[0m\n\u001B[1;32m     13\u001B[0m y_reg_test \u001B[38;5;241m=\u001B[39m y_regression[\u001B[38;5;241m150\u001B[39m:]\n\u001B[1;32m     15\u001B[0m \u001B[38;5;66;03m# Fit our model to the regression data\u001B[39;00m\n\u001B[0;32m---> 16\u001B[0m \u001B[43mmodel_3\u001B[49m\u001B[38;5;241;43m.\u001B[39;49m\u001B[43mfit\u001B[49m\u001B[43m(\u001B[49m\u001B[43mX_reg_train\u001B[49m\u001B[43m,\u001B[49m\u001B[43m \u001B[49m\u001B[43my_reg_train\u001B[49m\u001B[43m,\u001B[49m\u001B[43m \u001B[49m\u001B[43mepochs\u001B[49m\u001B[38;5;241;43m=\u001B[39;49m\u001B[38;5;241;43m100\u001B[39;49m\u001B[43m)\u001B[49m\n",
      "File \u001B[0;32m~/opt/miniconda3/envs/tensorflow/lib/python3.9/site-packages/keras/utils/traceback_utils.py:67\u001B[0m, in \u001B[0;36mfilter_traceback.<locals>.error_handler\u001B[0;34m(*args, **kwargs)\u001B[0m\n\u001B[1;32m     65\u001B[0m \u001B[38;5;28;01mexcept\u001B[39;00m \u001B[38;5;167;01mException\u001B[39;00m \u001B[38;5;28;01mas\u001B[39;00m e:  \u001B[38;5;66;03m# pylint: disable=broad-except\u001B[39;00m\n\u001B[1;32m     66\u001B[0m   filtered_tb \u001B[38;5;241m=\u001B[39m _process_traceback_frames(e\u001B[38;5;241m.\u001B[39m__traceback__)\n\u001B[0;32m---> 67\u001B[0m   \u001B[38;5;28;01mraise\u001B[39;00m e\u001B[38;5;241m.\u001B[39mwith_traceback(filtered_tb) \u001B[38;5;28;01mfrom\u001B[39;00m \u001B[38;5;28mNone\u001B[39m\n\u001B[1;32m     68\u001B[0m \u001B[38;5;28;01mfinally\u001B[39;00m:\n\u001B[1;32m     69\u001B[0m   \u001B[38;5;28;01mdel\u001B[39;00m filtered_tb\n",
      "File \u001B[0;32m/var/folders/fg/j3gkmfs95pqd7k7mhpjt2r800000gn/T/__autograph_generated_filewludnovl.py:15\u001B[0m, in \u001B[0;36mouter_factory.<locals>.inner_factory.<locals>.tf__train_function\u001B[0;34m(iterator)\u001B[0m\n\u001B[1;32m     13\u001B[0m \u001B[38;5;28;01mtry\u001B[39;00m:\n\u001B[1;32m     14\u001B[0m     do_return \u001B[38;5;241m=\u001B[39m \u001B[38;5;28;01mTrue\u001B[39;00m\n\u001B[0;32m---> 15\u001B[0m     retval_ \u001B[38;5;241m=\u001B[39m ag__\u001B[38;5;241m.\u001B[39mconverted_call(ag__\u001B[38;5;241m.\u001B[39mld(step_function), (ag__\u001B[38;5;241m.\u001B[39mld(\u001B[38;5;28mself\u001B[39m), ag__\u001B[38;5;241m.\u001B[39mld(iterator)), \u001B[38;5;28;01mNone\u001B[39;00m, fscope)\n\u001B[1;32m     16\u001B[0m \u001B[38;5;28;01mexcept\u001B[39;00m:\n\u001B[1;32m     17\u001B[0m     do_return \u001B[38;5;241m=\u001B[39m \u001B[38;5;28;01mFalse\u001B[39;00m\n",
      "\u001B[0;31mValueError\u001B[0m: in user code:\n\n    File \"/Users/georgeharris/opt/miniconda3/envs/tensorflow/lib/python3.9/site-packages/keras/engine/training.py\", line 1051, in train_function  *\n        return step_function(self, iterator)\n    File \"/Users/georgeharris/opt/miniconda3/envs/tensorflow/lib/python3.9/site-packages/keras/engine/training.py\", line 1040, in step_function  **\n        outputs = model.distribute_strategy.run(run_step, args=(data,))\n    File \"/Users/georgeharris/opt/miniconda3/envs/tensorflow/lib/python3.9/site-packages/keras/engine/training.py\", line 1030, in run_step  **\n        outputs = model.train_step(data)\n    File \"/Users/georgeharris/opt/miniconda3/envs/tensorflow/lib/python3.9/site-packages/keras/engine/training.py\", line 889, in train_step\n        y_pred = self(x, training=True)\n    File \"/Users/georgeharris/opt/miniconda3/envs/tensorflow/lib/python3.9/site-packages/keras/utils/traceback_utils.py\", line 67, in error_handler\n        raise e.with_traceback(filtered_tb) from None\n    File \"/Users/georgeharris/opt/miniconda3/envs/tensorflow/lib/python3.9/site-packages/keras/engine/input_spec.py\", line 228, in assert_input_compatibility\n        raise ValueError(f'Input {input_index} of layer \"{layer_name}\" '\n\n    ValueError: Exception encountered when calling layer \"sequential_3\" (type Sequential).\n    \n    Input 0 of layer \"dense_6\" is incompatible with the layer: expected min_ndim=2, found ndim=1. Full shape received: (None,)\n    \n    Call arguments received by layer \"sequential_3\" (type Sequential):\n      • inputs=tf.Tensor(shape=(None,), dtype=int32)\n      • training=True\n      • mask=None\n"
     ]
    }
   ],
   "source": [
    "# Let's see if our model can be used for a regression problem...\n",
    "tf.random.set_seed(42)\n",
    "\n",
    "# Create some regression data\n",
    "X_regression = tf.range(0, 1000, 5)\n",
    "y_regression = tf.range(100, 1100, 5)\n",
    "\n",
    "# Split our regression data into training and test sets\n",
    "X_reg_train = X_regression[:150]\n",
    "x_reg_test = X_regression[150:]\n",
    "\n",
    "y_reg_train = y_regression[:150]\n",
    "y_reg_test = y_regression[150:]\n",
    "\n",
    "# Fit our model to the regression data\n",
    "model_3.fit(X_reg_train, y_reg_train, epochs=100)"
   ],
   "metadata": {
    "collapsed": false,
    "pycharm": {
     "name": "#%%\n"
    }
   }
  },
  {
   "cell_type": "markdown",
   "source": [
    "Oh wait... we compiled our model for a binary classification problem.\n",
    "\n",
    "But.. we're now working on a regression problem, let's change the model to suit our data."
   ],
   "metadata": {
    "collapsed": false,
    "pycharm": {
     "name": "#%% md\n"
    }
   }
  },
  {
   "cell_type": "code",
   "execution_count": 34,
   "outputs": [
    {
     "name": "stdout",
     "output_type": "stream",
     "text": [
      "Epoch 1/100\n",
      "5/5 [==============================] - 0s 21ms/step - loss: 248.2148 - mae: 248.2148\n",
      "Epoch 2/100\n",
      "5/5 [==============================] - 0s 5ms/step - loss: 138.8990 - mae: 138.8990\n",
      "Epoch 3/100\n"
     ]
    },
    {
     "name": "stderr",
     "output_type": "stream",
     "text": [
      "2022-08-13 08:57:07.248985: I tensorflow/core/grappler/optimizers/custom_graph_optimizer_registry.cc:113] Plugin optimizer for device_type GPU is enabled.\n"
     ]
    },
    {
     "name": "stdout",
     "output_type": "stream",
     "text": [
      "5/5 [==============================] - 0s 5ms/step - loss: 53.1034 - mae: 53.1034\n",
      "Epoch 4/100\n",
      "5/5 [==============================] - 0s 5ms/step - loss: 73.5182 - mae: 73.5182\n",
      "Epoch 5/100\n",
      "5/5 [==============================] - 0s 5ms/step - loss: 71.2370 - mae: 71.2370\n",
      "Epoch 6/100\n",
      "5/5 [==============================] - 0s 5ms/step - loss: 47.0045 - mae: 47.0045\n",
      "Epoch 7/100\n",
      "5/5 [==============================] - 0s 5ms/step - loss: 45.9373 - mae: 45.9373\n",
      "Epoch 8/100\n",
      "5/5 [==============================] - 0s 5ms/step - loss: 42.3634 - mae: 42.3634\n",
      "Epoch 9/100\n",
      "5/5 [==============================] - 0s 5ms/step - loss: 43.6836 - mae: 43.6836\n",
      "Epoch 10/100\n",
      "5/5 [==============================] - 0s 5ms/step - loss: 42.6201 - mae: 42.6201\n",
      "Epoch 11/100\n",
      "5/5 [==============================] - 0s 5ms/step - loss: 42.4794 - mae: 42.4794\n",
      "Epoch 12/100\n",
      "5/5 [==============================] - 0s 5ms/step - loss: 41.5533 - mae: 41.5533\n",
      "Epoch 13/100\n",
      "5/5 [==============================] - 0s 5ms/step - loss: 42.0975 - mae: 42.0975\n",
      "Epoch 14/100\n",
      "5/5 [==============================] - 0s 5ms/step - loss: 41.8650 - mae: 41.8650\n",
      "Epoch 15/100\n",
      "5/5 [==============================] - 0s 5ms/step - loss: 41.5340 - mae: 41.5340\n",
      "Epoch 16/100\n",
      "5/5 [==============================] - 0s 5ms/step - loss: 41.4026 - mae: 41.4026\n",
      "Epoch 17/100\n",
      "5/5 [==============================] - 0s 5ms/step - loss: 41.6889 - mae: 41.6889\n",
      "Epoch 18/100\n",
      "5/5 [==============================] - 0s 5ms/step - loss: 41.6138 - mae: 41.6138\n",
      "Epoch 19/100\n",
      "5/5 [==============================] - 0s 5ms/step - loss: 41.2794 - mae: 41.2794\n",
      "Epoch 20/100\n",
      "5/5 [==============================] - 0s 5ms/step - loss: 41.1948 - mae: 41.1948\n",
      "Epoch 21/100\n",
      "5/5 [==============================] - 0s 5ms/step - loss: 41.2131 - mae: 41.2131\n",
      "Epoch 22/100\n",
      "5/5 [==============================] - 0s 5ms/step - loss: 41.0892 - mae: 41.0892\n",
      "Epoch 23/100\n",
      "5/5 [==============================] - 0s 5ms/step - loss: 41.2018 - mae: 41.2018\n",
      "Epoch 24/100\n",
      "5/5 [==============================] - 0s 5ms/step - loss: 40.9990 - mae: 40.9990\n",
      "Epoch 25/100\n",
      "5/5 [==============================] - 0s 5ms/step - loss: 41.0131 - mae: 41.0131\n",
      "Epoch 26/100\n",
      "5/5 [==============================] - 0s 5ms/step - loss: 41.0653 - mae: 41.0653\n",
      "Epoch 27/100\n",
      "5/5 [==============================] - 0s 5ms/step - loss: 40.8764 - mae: 40.8764\n",
      "Epoch 28/100\n",
      "5/5 [==============================] - 0s 5ms/step - loss: 41.0546 - mae: 41.0546\n",
      "Epoch 29/100\n",
      "5/5 [==============================] - 0s 6ms/step - loss: 41.0479 - mae: 41.0479\n",
      "Epoch 30/100\n",
      "5/5 [==============================] - 0s 5ms/step - loss: 40.8806 - mae: 40.8806\n",
      "Epoch 31/100\n",
      "5/5 [==============================] - 0s 5ms/step - loss: 41.2698 - mae: 41.2698\n",
      "Epoch 32/100\n",
      "5/5 [==============================] - 0s 5ms/step - loss: 40.9947 - mae: 40.9947\n",
      "Epoch 33/100\n",
      "5/5 [==============================] - 0s 5ms/step - loss: 41.0759 - mae: 41.0759\n",
      "Epoch 34/100\n",
      "5/5 [==============================] - 0s 5ms/step - loss: 41.2473 - mae: 41.2473\n",
      "Epoch 35/100\n",
      "5/5 [==============================] - 0s 5ms/step - loss: 40.6101 - mae: 40.6101\n",
      "Epoch 36/100\n",
      "5/5 [==============================] - 0s 5ms/step - loss: 41.1092 - mae: 41.1092\n",
      "Epoch 37/100\n",
      "5/5 [==============================] - 0s 5ms/step - loss: 40.8193 - mae: 40.8193\n",
      "Epoch 38/100\n",
      "5/5 [==============================] - 0s 5ms/step - loss: 40.2486 - mae: 40.2486\n",
      "Epoch 39/100\n",
      "5/5 [==============================] - 0s 5ms/step - loss: 41.0622 - mae: 41.0622\n",
      "Epoch 40/100\n",
      "5/5 [==============================] - 0s 5ms/step - loss: 40.5311 - mae: 40.5311\n",
      "Epoch 41/100\n",
      "5/5 [==============================] - 0s 5ms/step - loss: 40.5499 - mae: 40.5499\n",
      "Epoch 42/100\n",
      "5/5 [==============================] - 0s 5ms/step - loss: 40.4321 - mae: 40.4321\n",
      "Epoch 43/100\n",
      "5/5 [==============================] - 0s 5ms/step - loss: 40.5367 - mae: 40.5367\n",
      "Epoch 44/100\n",
      "5/5 [==============================] - 0s 5ms/step - loss: 40.2488 - mae: 40.2488\n",
      "Epoch 45/100\n",
      "5/5 [==============================] - 0s 5ms/step - loss: 40.5150 - mae: 40.5150\n",
      "Epoch 46/100\n",
      "5/5 [==============================] - 0s 5ms/step - loss: 40.3703 - mae: 40.3703\n",
      "Epoch 47/100\n",
      "5/5 [==============================] - 0s 5ms/step - loss: 40.4771 - mae: 40.4771\n",
      "Epoch 48/100\n",
      "5/5 [==============================] - 0s 5ms/step - loss: 40.1531 - mae: 40.1531\n",
      "Epoch 49/100\n",
      "5/5 [==============================] - 0s 5ms/step - loss: 40.7291 - mae: 40.7291\n",
      "Epoch 50/100\n",
      "5/5 [==============================] - 0s 5ms/step - loss: 40.1536 - mae: 40.1536\n",
      "Epoch 51/100\n",
      "5/5 [==============================] - 0s 5ms/step - loss: 40.2709 - mae: 40.2709\n",
      "Epoch 52/100\n",
      "5/5 [==============================] - 0s 5ms/step - loss: 40.6574 - mae: 40.6574\n",
      "Epoch 53/100\n",
      "5/5 [==============================] - 0s 5ms/step - loss: 40.6570 - mae: 40.6570\n",
      "Epoch 54/100\n",
      "5/5 [==============================] - 0s 5ms/step - loss: 40.6893 - mae: 40.6893\n",
      "Epoch 55/100\n",
      "5/5 [==============================] - 0s 5ms/step - loss: 41.2776 - mae: 41.2776\n",
      "Epoch 56/100\n",
      "5/5 [==============================] - 0s 5ms/step - loss: 41.8513 - mae: 41.8513\n",
      "Epoch 57/100\n",
      "5/5 [==============================] - 0s 5ms/step - loss: 40.7904 - mae: 40.7904\n",
      "Epoch 58/100\n",
      "5/5 [==============================] - 0s 5ms/step - loss: 40.3131 - mae: 40.3131\n",
      "Epoch 59/100\n",
      "5/5 [==============================] - 0s 5ms/step - loss: 40.7194 - mae: 40.7194\n",
      "Epoch 60/100\n",
      "5/5 [==============================] - 0s 5ms/step - loss: 40.1479 - mae: 40.1479\n",
      "Epoch 61/100\n",
      "5/5 [==============================] - 0s 5ms/step - loss: 40.1120 - mae: 40.1120\n",
      "Epoch 62/100\n",
      "5/5 [==============================] - 0s 5ms/step - loss: 40.7796 - mae: 40.7796\n",
      "Epoch 63/100\n",
      "5/5 [==============================] - 0s 5ms/step - loss: 39.7243 - mae: 39.7243\n",
      "Epoch 64/100\n",
      "5/5 [==============================] - 0s 5ms/step - loss: 40.1467 - mae: 40.1467\n",
      "Epoch 65/100\n",
      "5/5 [==============================] - 0s 5ms/step - loss: 39.6886 - mae: 39.6886\n",
      "Epoch 66/100\n",
      "5/5 [==============================] - 0s 5ms/step - loss: 40.2841 - mae: 40.2841\n",
      "Epoch 67/100\n",
      "5/5 [==============================] - 0s 5ms/step - loss: 39.5541 - mae: 39.5541\n",
      "Epoch 68/100\n",
      "5/5 [==============================] - 0s 5ms/step - loss: 39.7377 - mae: 39.7377\n",
      "Epoch 69/100\n",
      "5/5 [==============================] - 0s 5ms/step - loss: 39.9787 - mae: 39.9787\n",
      "Epoch 70/100\n",
      "5/5 [==============================] - 0s 5ms/step - loss: 40.0013 - mae: 40.0013\n",
      "Epoch 71/100\n",
      "5/5 [==============================] - 0s 5ms/step - loss: 40.0915 - mae: 40.0915\n",
      "Epoch 72/100\n",
      "5/5 [==============================] - 0s 5ms/step - loss: 39.2548 - mae: 39.2548\n",
      "Epoch 73/100\n",
      "5/5 [==============================] - 0s 5ms/step - loss: 39.6826 - mae: 39.6826\n",
      "Epoch 74/100\n",
      "5/5 [==============================] - 0s 5ms/step - loss: 39.5375 - mae: 39.5375\n",
      "Epoch 75/100\n",
      "5/5 [==============================] - 0s 5ms/step - loss: 39.6264 - mae: 39.6264\n",
      "Epoch 76/100\n",
      "5/5 [==============================] - 0s 5ms/step - loss: 39.3110 - mae: 39.3110\n",
      "Epoch 77/100\n",
      "5/5 [==============================] - 0s 5ms/step - loss: 39.1600 - mae: 39.1600\n",
      "Epoch 78/100\n",
      "5/5 [==============================] - 0s 5ms/step - loss: 39.7547 - mae: 39.7547\n",
      "Epoch 79/100\n",
      "5/5 [==============================] - 0s 5ms/step - loss: 39.2544 - mae: 39.2544\n",
      "Epoch 80/100\n",
      "5/5 [==============================] - 0s 5ms/step - loss: 38.6969 - mae: 38.6969\n",
      "Epoch 81/100\n",
      "5/5 [==============================] - 0s 5ms/step - loss: 39.5438 - mae: 39.5438\n",
      "Epoch 82/100\n",
      "5/5 [==============================] - 0s 5ms/step - loss: 39.8689 - mae: 39.8689\n",
      "Epoch 83/100\n",
      "5/5 [==============================] - 0s 5ms/step - loss: 39.1692 - mae: 39.1692\n",
      "Epoch 84/100\n",
      "5/5 [==============================] - 0s 5ms/step - loss: 38.8841 - mae: 38.8841\n",
      "Epoch 85/100\n",
      "5/5 [==============================] - 0s 5ms/step - loss: 38.8887 - mae: 38.8887\n",
      "Epoch 86/100\n",
      "5/5 [==============================] - 0s 5ms/step - loss: 38.6616 - mae: 38.6616\n",
      "Epoch 87/100\n",
      "5/5 [==============================] - 0s 5ms/step - loss: 38.8397 - mae: 38.8397\n",
      "Epoch 88/100\n",
      "5/5 [==============================] - 0s 5ms/step - loss: 38.6604 - mae: 38.6604\n",
      "Epoch 89/100\n",
      "5/5 [==============================] - 0s 5ms/step - loss: 38.7558 - mae: 38.7558\n",
      "Epoch 90/100\n",
      "5/5 [==============================] - 0s 5ms/step - loss: 38.5443 - mae: 38.5443\n",
      "Epoch 91/100\n",
      "5/5 [==============================] - 0s 5ms/step - loss: 38.3247 - mae: 38.3247\n",
      "Epoch 92/100\n",
      "5/5 [==============================] - 0s 5ms/step - loss: 38.8431 - mae: 38.8431\n",
      "Epoch 93/100\n",
      "5/5 [==============================] - 0s 5ms/step - loss: 39.1135 - mae: 39.1135\n",
      "Epoch 94/100\n",
      "5/5 [==============================] - 0s 5ms/step - loss: 38.1464 - mae: 38.1464\n",
      "Epoch 95/100\n",
      "5/5 [==============================] - 0s 5ms/step - loss: 38.3999 - mae: 38.3999\n",
      "Epoch 96/100\n",
      "5/5 [==============================] - 0s 5ms/step - loss: 38.5598 - mae: 38.5598\n",
      "Epoch 97/100\n",
      "5/5 [==============================] - 0s 5ms/step - loss: 38.1038 - mae: 38.1038\n",
      "Epoch 98/100\n",
      "5/5 [==============================] - 0s 5ms/step - loss: 39.0081 - mae: 39.0081\n",
      "Epoch 99/100\n",
      "5/5 [==============================] - 0s 5ms/step - loss: 38.3056 - mae: 38.3056\n",
      "Epoch 100/100\n",
      "5/5 [==============================] - 0s 5ms/step - loss: 37.9977 - mae: 37.9977\n"
     ]
    },
    {
     "data": {
      "text/plain": "<keras.callbacks.History at 0x15fc014c0>"
     },
     "execution_count": 34,
     "metadata": {},
     "output_type": "execute_result"
    }
   ],
   "source": [
    "# Set the random seed\n",
    "tf.random.set_seed(42)\n",
    "\n",
    "# 1. Create a model (this time 3 layers)\n",
    "model_3 = tf.keras.Sequential(\n",
    "    [\n",
    "        tf.keras.layers.Dense(100, input_shape=[1]),  # add 100 dense neurons\n",
    "        tf.keras.layers.Dense(10), # add another layer with 10 neurons\n",
    "        tf.keras.layers.Dense(1)\n",
    "    ]\n",
    ")\n",
    "\n",
    "# 2. Compile the mode - with a regression loss function\n",
    "model_3.compile(\n",
    "    loss=tf.keras.losses.mae,\n",
    "    optimizer=tf.keras.optimizers.Adam(),\n",
    "    metrics=['mae']\n",
    ")\n",
    "\n",
    "# 3. Fit the model\n",
    "model_3.fit(X_reg_train, y_reg_train, epochs=100)"
   ],
   "metadata": {
    "collapsed": false,
    "pycharm": {
     "name": "#%%\n"
    }
   }
  },
  {
   "cell_type": "code",
   "execution_count": 35,
   "outputs": [
    {
     "name": "stdout",
     "output_type": "stream",
     "text": [
      "2/2 [==============================] - 0s 10ms/step\n"
     ]
    },
    {
     "name": "stderr",
     "output_type": "stream",
     "text": [
      "2022-08-13 09:00:26.790577: I tensorflow/core/grappler/optimizers/custom_graph_optimizer_registry.cc:113] Plugin optimizer for device_type GPU is enabled.\n"
     ]
    },
    {
     "data": {
      "text/plain": "<matplotlib.legend.Legend at 0x16e161700>"
     },
     "execution_count": 35,
     "metadata": {},
     "output_type": "execute_result"
    },
    {
     "data": {
      "text/plain": "<Figure size 720x504 with 1 Axes>",
      "image/png": "[encoded data removed]"
     },
     "metadata": {
      "needs_background": "light"
     },
     "output_type": "display_data"
    }
   ],
   "source": [
    "# Make predictions with our trained model\n",
    "y_reg_pred = model_3.predict(x_reg_test)\n",
    "\n",
    "# Plot the model's predictions against regression data\n",
    "plt.figure(figsize=(10,7))\n",
    "plt.scatter(X_reg_train, y_reg_train, c='b', label='Training')\n",
    "plt.scatter(x_reg_test, y_reg_test, c='g', label='Test')\n",
    "plt.scatter(x_reg_test, y_reg_pred, c='r', label='Predictions')\n",
    "plt.legend()"
   ],
   "metadata": {
    "collapsed": false,
    "pycharm": {
     "name": "#%%\n"
    }
   }
  },
  {
   "cell_type": "markdown",
   "source": [
    "## The missing piece: Non-linearity"
   ],
   "metadata": {
    "collapsed": false,
    "pycharm": {
     "name": "#%% md\n"
    }
   }
  },
  {
   "cell_type": "code",
   "execution_count": 36,
   "outputs": [
    {
     "name": "stdout",
     "output_type": "stream",
     "text": [
      "Epoch 1/100\n",
      "22/32 [===================>..........] - ETA: 0s - loss: 4.3353 - accuracy: 0.4560"
     ]
    },
    {
     "name": "stderr",
     "output_type": "stream",
     "text": [
      "2022-08-13 10:44:19.674064: I tensorflow/core/grappler/optimizers/custom_graph_optimizer_registry.cc:113] Plugin optimizer for device_type GPU is enabled.\n"
     ]
    },
    {
     "name": "stdout",
     "output_type": "stream",
     "text": [
      "32/32 [==============================] - 0s 6ms/step - loss: 4.2979 - accuracy: 0.4670\n",
      "Epoch 2/100\n",
      "32/32 [==============================] - 0s 5ms/step - loss: 4.2317 - accuracy: 0.4400\n",
      "Epoch 3/100\n",
      "32/32 [==============================] - 0s 5ms/step - loss: 4.1610 - accuracy: 0.4310\n",
      "Epoch 4/100\n",
      "32/32 [==============================] - 0s 5ms/step - loss: 4.1183 - accuracy: 0.4270\n",
      "Epoch 5/100\n",
      "32/32 [==============================] - 0s 5ms/step - loss: 4.0784 - accuracy: 0.4240\n",
      "Epoch 6/100\n",
      "32/32 [==============================] - 0s 5ms/step - loss: 3.9582 - accuracy: 0.4170\n",
      "Epoch 7/100\n",
      "32/32 [==============================] - 0s 5ms/step - loss: 3.8602 - accuracy: 0.4090\n",
      "Epoch 8/100\n",
      "32/32 [==============================] - 0s 5ms/step - loss: 3.7907 - accuracy: 0.4090\n",
      "Epoch 9/100\n",
      "32/32 [==============================] - 0s 5ms/step - loss: 3.7608 - accuracy: 0.4130\n",
      "Epoch 10/100\n",
      "32/32 [==============================] - 0s 5ms/step - loss: 3.7168 - accuracy: 0.4180\n",
      "Epoch 11/100\n",
      "32/32 [==============================] - 0s 5ms/step - loss: 3.6994 - accuracy: 0.4180\n",
      "Epoch 12/100\n",
      "32/32 [==============================] - 0s 5ms/step - loss: 3.6939 - accuracy: 0.4190\n",
      "Epoch 13/100\n",
      "32/32 [==============================] - 0s 5ms/step - loss: 3.6901 - accuracy: 0.4190\n",
      "Epoch 14/100\n",
      "32/32 [==============================] - 0s 5ms/step - loss: 3.6867 - accuracy: 0.4220\n",
      "Epoch 15/100\n",
      "32/32 [==============================] - 0s 5ms/step - loss: 3.6747 - accuracy: 0.4210\n",
      "Epoch 16/100\n",
      "32/32 [==============================] - 0s 5ms/step - loss: 3.6708 - accuracy: 0.4210\n",
      "Epoch 17/100\n",
      "32/32 [==============================] - 0s 5ms/step - loss: 3.6675 - accuracy: 0.4210\n",
      "Epoch 18/100\n",
      "32/32 [==============================] - 0s 6ms/step - loss: 3.6644 - accuracy: 0.4210\n",
      "Epoch 19/100\n",
      "32/32 [==============================] - 0s 5ms/step - loss: 3.6622 - accuracy: 0.4230\n",
      "Epoch 20/100\n",
      "32/32 [==============================] - 0s 5ms/step - loss: 3.6601 - accuracy: 0.4260\n",
      "Epoch 21/100\n",
      "32/32 [==============================] - 0s 5ms/step - loss: 3.6495 - accuracy: 0.4290\n",
      "Epoch 22/100\n",
      "32/32 [==============================] - 0s 5ms/step - loss: 3.5976 - accuracy: 0.4330\n",
      "Epoch 23/100\n",
      "32/32 [==============================] - 0s 5ms/step - loss: 3.5851 - accuracy: 0.4340\n",
      "Epoch 24/100\n",
      "32/32 [==============================] - 0s 5ms/step - loss: 3.5513 - accuracy: 0.4390\n",
      "Epoch 25/100\n",
      "32/32 [==============================] - 0s 5ms/step - loss: 3.5328 - accuracy: 0.4430\n",
      "Epoch 26/100\n",
      "32/32 [==============================] - 0s 5ms/step - loss: 3.5182 - accuracy: 0.4440\n",
      "Epoch 27/100\n",
      "32/32 [==============================] - 0s 5ms/step - loss: 3.5029 - accuracy: 0.4430\n",
      "Epoch 28/100\n",
      "32/32 [==============================] - 0s 5ms/step - loss: 3.4779 - accuracy: 0.4480\n",
      "Epoch 29/100\n",
      "32/32 [==============================] - 0s 5ms/step - loss: 3.4528 - accuracy: 0.4520\n",
      "Epoch 30/100\n",
      "32/32 [==============================] - 0s 5ms/step - loss: 3.4210 - accuracy: 0.4570\n",
      "Epoch 31/100\n",
      "32/32 [==============================] - 0s 5ms/step - loss: 3.4039 - accuracy: 0.4590\n",
      "Epoch 32/100\n",
      "32/32 [==============================] - 0s 5ms/step - loss: 3.3725 - accuracy: 0.4580\n",
      "Epoch 33/100\n",
      "32/32 [==============================] - 0s 5ms/step - loss: 3.2708 - accuracy: 0.4590\n",
      "Epoch 34/100\n",
      "32/32 [==============================] - 0s 5ms/step - loss: 3.1932 - accuracy: 0.4590\n",
      "Epoch 35/100\n",
      "32/32 [==============================] - 0s 5ms/step - loss: 3.1801 - accuracy: 0.4580\n",
      "Epoch 36/100\n",
      "32/32 [==============================] - 0s 5ms/step - loss: 3.1745 - accuracy: 0.4590\n",
      "Epoch 37/100\n",
      "32/32 [==============================] - 0s 5ms/step - loss: 3.1235 - accuracy: 0.4600\n",
      "Epoch 38/100\n",
      "32/32 [==============================] - 0s 5ms/step - loss: 2.9942 - accuracy: 0.4550\n",
      "Epoch 39/100\n",
      "32/32 [==============================] - 0s 5ms/step - loss: 2.8695 - accuracy: 0.4540\n",
      "Epoch 40/100\n",
      "32/32 [==============================] - 0s 5ms/step - loss: 2.8434 - accuracy: 0.4550\n",
      "Epoch 41/100\n",
      "32/32 [==============================] - 0s 5ms/step - loss: 2.7939 - accuracy: 0.4570\n",
      "Epoch 42/100\n",
      "32/32 [==============================] - 0s 5ms/step - loss: 2.6646 - accuracy: 0.4550\n",
      "Epoch 43/100\n",
      "32/32 [==============================] - 0s 5ms/step - loss: 2.4867 - accuracy: 0.4570\n",
      "Epoch 44/100\n",
      "32/32 [==============================] - 0s 5ms/step - loss: 1.9793 - accuracy: 0.4570\n",
      "Epoch 45/100\n",
      "32/32 [==============================] - 0s 5ms/step - loss: 1.1883 - accuracy: 0.4570\n",
      "Epoch 46/100\n",
      "32/32 [==============================] - 0s 5ms/step - loss: 0.9835 - accuracy: 0.4560\n",
      "Epoch 47/100\n",
      "32/32 [==============================] - 0s 5ms/step - loss: 0.9583 - accuracy: 0.4570\n",
      "Epoch 48/100\n",
      "32/32 [==============================] - 0s 5ms/step - loss: 0.9410 - accuracy: 0.4570\n",
      "Epoch 49/100\n",
      "32/32 [==============================] - 0s 5ms/step - loss: 0.9279 - accuracy: 0.4560\n",
      "Epoch 50/100\n",
      "32/32 [==============================] - 0s 5ms/step - loss: 0.9166 - accuracy: 0.4570\n",
      "Epoch 51/100\n",
      "32/32 [==============================] - 0s 5ms/step - loss: 0.9068 - accuracy: 0.4570\n",
      "Epoch 52/100\n",
      "32/32 [==============================] - 0s 5ms/step - loss: 0.8984 - accuracy: 0.4570\n",
      "Epoch 53/100\n",
      "32/32 [==============================] - 0s 5ms/step - loss: 0.8905 - accuracy: 0.4570\n",
      "Epoch 54/100\n",
      "32/32 [==============================] - 0s 5ms/step - loss: 0.8835 - accuracy: 0.4580\n",
      "Epoch 55/100\n",
      "32/32 [==============================] - 0s 5ms/step - loss: 0.8769 - accuracy: 0.4580\n",
      "Epoch 56/100\n",
      "32/32 [==============================] - 0s 5ms/step - loss: 0.8706 - accuracy: 0.4590\n",
      "Epoch 57/100\n",
      "32/32 [==============================] - 0s 5ms/step - loss: 0.8647 - accuracy: 0.4590\n",
      "Epoch 58/100\n",
      "32/32 [==============================] - 0s 5ms/step - loss: 0.8593 - accuracy: 0.4590\n",
      "Epoch 59/100\n",
      "32/32 [==============================] - 0s 5ms/step - loss: 0.8541 - accuracy: 0.4590\n",
      "Epoch 60/100\n",
      "32/32 [==============================] - 0s 5ms/step - loss: 0.8492 - accuracy: 0.4590\n",
      "Epoch 61/100\n",
      "32/32 [==============================] - 0s 5ms/step - loss: 0.8447 - accuracy: 0.4590\n",
      "Epoch 62/100\n",
      "32/32 [==============================] - 0s 5ms/step - loss: 0.8403 - accuracy: 0.4600\n",
      "Epoch 63/100\n",
      "32/32 [==============================] - 0s 5ms/step - loss: 0.8360 - accuracy: 0.4590\n",
      "Epoch 64/100\n",
      "32/32 [==============================] - 0s 5ms/step - loss: 0.8320 - accuracy: 0.4580\n",
      "Epoch 65/100\n",
      "32/32 [==============================] - 0s 5ms/step - loss: 0.8281 - accuracy: 0.4570\n",
      "Epoch 66/100\n",
      "32/32 [==============================] - 0s 5ms/step - loss: 0.8243 - accuracy: 0.4560\n",
      "Epoch 67/100\n",
      "32/32 [==============================] - 0s 5ms/step - loss: 0.8206 - accuracy: 0.4560\n",
      "Epoch 68/100\n",
      "32/32 [==============================] - 0s 5ms/step - loss: 0.8172 - accuracy: 0.4560\n",
      "Epoch 69/100\n",
      "32/32 [==============================] - 0s 5ms/step - loss: 0.8137 - accuracy: 0.4560\n",
      "Epoch 70/100\n",
      "32/32 [==============================] - 0s 5ms/step - loss: 0.8104 - accuracy: 0.4560\n",
      "Epoch 71/100\n",
      "32/32 [==============================] - 0s 5ms/step - loss: 0.8071 - accuracy: 0.4560\n",
      "Epoch 72/100\n",
      "32/32 [==============================] - 0s 5ms/step - loss: 0.8040 - accuracy: 0.4560\n",
      "Epoch 73/100\n",
      "32/32 [==============================] - 0s 5ms/step - loss: 0.8010 - accuracy: 0.4560\n",
      "Epoch 74/100\n",
      "32/32 [==============================] - 0s 5ms/step - loss: 0.7980 - accuracy: 0.4570\n",
      "Epoch 75/100\n",
      "32/32 [==============================] - 0s 5ms/step - loss: 0.7952 - accuracy: 0.4570\n",
      "Epoch 76/100\n",
      "32/32 [==============================] - 0s 5ms/step - loss: 0.7925 - accuracy: 0.4560\n",
      "Epoch 77/100\n",
      "32/32 [==============================] - 0s 5ms/step - loss: 0.7898 - accuracy: 0.4560\n",
      "Epoch 78/100\n",
      "32/32 [==============================] - 0s 5ms/step - loss: 0.7872 - accuracy: 0.4580\n",
      "Epoch 79/100\n",
      "32/32 [==============================] - 0s 5ms/step - loss: 0.7846 - accuracy: 0.4590\n",
      "Epoch 80/100\n",
      "32/32 [==============================] - 0s 5ms/step - loss: 0.7822 - accuracy: 0.4580\n",
      "Epoch 81/100\n",
      "32/32 [==============================] - 0s 5ms/step - loss: 0.7797 - accuracy: 0.4580\n",
      "Epoch 82/100\n",
      "32/32 [==============================] - 0s 5ms/step - loss: 0.7774 - accuracy: 0.4600\n",
      "Epoch 83/100\n",
      "32/32 [==============================] - 0s 5ms/step - loss: 0.7751 - accuracy: 0.4610\n",
      "Epoch 84/100\n",
      "32/32 [==============================] - 0s 5ms/step - loss: 0.7729 - accuracy: 0.4620\n",
      "Epoch 85/100\n",
      "32/32 [==============================] - 0s 5ms/step - loss: 0.7707 - accuracy: 0.4620\n",
      "Epoch 86/100\n",
      "32/32 [==============================] - 0s 5ms/step - loss: 0.7687 - accuracy: 0.4610\n",
      "Epoch 87/100\n",
      "32/32 [==============================] - 0s 5ms/step - loss: 0.7667 - accuracy: 0.4630\n",
      "Epoch 88/100\n",
      "32/32 [==============================] - 0s 5ms/step - loss: 0.7646 - accuracy: 0.4660\n",
      "Epoch 89/100\n",
      "32/32 [==============================] - 0s 5ms/step - loss: 0.7627 - accuracy: 0.4660\n",
      "Epoch 90/100\n",
      "32/32 [==============================] - 0s 5ms/step - loss: 0.7608 - accuracy: 0.4650\n",
      "Epoch 91/100\n",
      "32/32 [==============================] - 0s 5ms/step - loss: 0.7589 - accuracy: 0.4660\n",
      "Epoch 92/100\n",
      "32/32 [==============================] - 0s 5ms/step - loss: 0.7571 - accuracy: 0.4650\n",
      "Epoch 93/100\n",
      "32/32 [==============================] - 0s 5ms/step - loss: 0.7553 - accuracy: 0.4650\n",
      "Epoch 94/100\n",
      "32/32 [==============================] - 0s 5ms/step - loss: 0.7536 - accuracy: 0.4660\n",
      "Epoch 95/100\n",
      "32/32 [==============================] - 0s 5ms/step - loss: 0.7519 - accuracy: 0.4660\n",
      "Epoch 96/100\n",
      "32/32 [==============================] - 0s 5ms/step - loss: 0.7502 - accuracy: 0.4650\n",
      "Epoch 97/100\n",
      "32/32 [==============================] - 0s 5ms/step - loss: 0.7487 - accuracy: 0.4650\n",
      "Epoch 98/100\n",
      "32/32 [==============================] - 0s 5ms/step - loss: 0.7471 - accuracy: 0.4650\n",
      "Epoch 99/100\n",
      "32/32 [==============================] - 0s 5ms/step - loss: 0.7454 - accuracy: 0.4650\n",
      "Epoch 100/100\n",
      "32/32 [==============================] - 0s 5ms/step - loss: 0.7438 - accuracy: 0.4650\n"
     ]
    }
   ],
   "source": [
    "# Set the random seed\n",
    "tf.random.set_seed(42)\n",
    "\n",
    "# 1. Create the model\n",
    "model_4 = tf.keras.Sequential(\n",
    "    [\n",
    "        tf.keras.layers.Dense(1, activation=tf.keras.activations.linear)\n",
    "    ]\n",
    ")\n",
    "\n",
    "# 2. Compile the model\n",
    "model_4.compile(\n",
    "    loss='binary_crossentropy',\n",
    "    optimizer=tf.keras.optimizers.Adam(learning_rate=0.001),\n",
    "    metrics=['accuracy']\n",
    ")\n",
    "\n",
    "# 3. Fit the model\n",
    "history = model_4.fit(X, y, epochs=100)"
   ],
   "metadata": {
    "collapsed": false,
    "pycharm": {
     "name": "#%%\n"
    }
   }
  },
  {
   "cell_type": "code",
   "execution_count": 37,
   "outputs": [
    {
     "data": {
      "text/plain": "<matplotlib.collections.PathCollection at 0x16e1f6e20>"
     },
     "execution_count": 37,
     "metadata": {},
     "output_type": "execute_result"
    },
    {
     "data": {
      "text/plain": "<Figure size 432x288 with 1 Axes>",
      "image/png": "[encoded data removed]"
     },
     "metadata": {
      "needs_background": "light"
     },
     "output_type": "display_data"
    }
   ],
   "source": [
    "# Check out our data\n",
    "plt.scatter(X[:, 0], X[:, 1], c=y, cmap=plt.cm.RdYlBu)"
   ],
   "metadata": {
    "collapsed": false,
    "pycharm": {
     "name": "#%%\n"
    }
   }
  },
  {
   "cell_type": "code",
   "execution_count": 38,
   "outputs": [
    {
     "name": "stdout",
     "output_type": "stream",
     "text": [
      " 93/313 [=======>......................] - ETA: 0s"
     ]
    },
    {
     "name": "stderr",
     "output_type": "stream",
     "text": [
      "2022-08-13 10:48:05.654494: I tensorflow/core/grappler/optimizers/custom_graph_optimizer_registry.cc:113] Plugin optimizer for device_type GPU is enabled.\n"
     ]
    },
    {
     "name": "stdout",
     "output_type": "stream",
     "text": [
      "313/313 [==============================] - 0s 1ms/step\n",
      "Doing binary classification\n"
     ]
    },
    {
     "data": {
      "text/plain": "<Figure size 432x288 with 1 Axes>",
      "image/png": "[encoded data removed]"
     },
     "metadata": {
      "needs_background": "light"
     },
     "output_type": "display_data"
    }
   ],
   "source": [
    "# Check th decision boundary for our latest model\n",
    "plot_decision_boundary(model_4, X, y)"
   ],
   "metadata": {
    "collapsed": false,
    "pycharm": {
     "name": "#%%\n"
    }
   }
  },
  {
   "cell_type": "markdown",
   "source": [
    "Let's try to build our first neural network with a non-linear activation function."
   ],
   "metadata": {
    "collapsed": false,
    "pycharm": {
     "name": "#%% md\n"
    }
   }
  },
  {
   "cell_type": "code",
   "execution_count": 39,
   "outputs": [
    {
     "name": "stdout",
     "output_type": "stream",
     "text": [
      "Epoch 1/100\n"
     ]
    },
    {
     "name": "stderr",
     "output_type": "stream",
     "text": [
      "/Users/georgeharris/opt/miniconda3/envs/tensorflow/lib/python3.9/site-packages/keras/optimizers/optimizer_v2/adam.py:110: UserWarning: The `lr` argument is deprecated, use `learning_rate` instead.\n",
      "  super(Adam, self).__init__(name, **kwargs)\n",
      "2022-08-13 10:54:23.080800: I tensorflow/core/grappler/optimizers/custom_graph_optimizer_registry.cc:113] Plugin optimizer for device_type GPU is enabled.\n"
     ]
    },
    {
     "name": "stdout",
     "output_type": "stream",
     "text": [
      "32/32 [==============================] - 0s 6ms/step - loss: 4.2979 - accuracy: 0.4670\n",
      "Epoch 2/100\n",
      "32/32 [==============================] - 0s 5ms/step - loss: 4.2317 - accuracy: 0.4400\n",
      "Epoch 3/100\n",
      "32/32 [==============================] - 0s 5ms/step - loss: 4.1610 - accuracy: 0.4310\n",
      "Epoch 4/100\n",
      "32/32 [==============================] - 0s 5ms/step - loss: 4.1183 - accuracy: 0.4270\n",
      "Epoch 5/100\n",
      "32/32 [==============================] - 0s 5ms/step - loss: 4.0784 - accuracy: 0.4240\n",
      "Epoch 6/100\n",
      "32/32 [==============================] - 0s 5ms/step - loss: 3.9582 - accuracy: 0.4170\n",
      "Epoch 7/100\n",
      "32/32 [==============================] - 0s 5ms/step - loss: 3.8602 - accuracy: 0.4090\n",
      "Epoch 8/100\n",
      "32/32 [==============================] - 0s 5ms/step - loss: 3.7907 - accuracy: 0.4090\n",
      "Epoch 9/100\n",
      "32/32 [==============================] - 0s 5ms/step - loss: 3.7608 - accuracy: 0.4130\n",
      "Epoch 10/100\n",
      "32/32 [==============================] - 0s 5ms/step - loss: 3.7168 - accuracy: 0.4180\n",
      "Epoch 11/100\n",
      "32/32 [==============================] - 0s 5ms/step - loss: 3.6994 - accuracy: 0.4180\n",
      "Epoch 12/100\n",
      "32/32 [==============================] - 0s 5ms/step - loss: 3.6939 - accuracy: 0.4190\n",
      "Epoch 13/100\n",
      "32/32 [==============================] - 0s 5ms/step - loss: 3.6901 - accuracy: 0.4190\n",
      "Epoch 14/100\n",
      "32/32 [==============================] - 0s 5ms/step - loss: 3.6867 - accuracy: 0.4220\n",
      "Epoch 15/100\n",
      "32/32 [==============================] - 0s 5ms/step - loss: 3.6747 - accuracy: 0.4210\n",
      "Epoch 16/100\n",
      "32/32 [==============================] - 0s 5ms/step - loss: 3.6708 - accuracy: 0.4210\n",
      "Epoch 17/100\n",
      "32/32 [==============================] - 0s 5ms/step - loss: 3.6675 - accuracy: 0.4210\n",
      "Epoch 18/100\n",
      "32/32 [==============================] - 0s 5ms/step - loss: 3.6644 - accuracy: 0.4210\n",
      "Epoch 19/100\n",
      "32/32 [==============================] - 0s 5ms/step - loss: 3.6622 - accuracy: 0.4230\n",
      "Epoch 20/100\n",
      "32/32 [==============================] - 0s 5ms/step - loss: 3.6601 - accuracy: 0.4260\n",
      "Epoch 21/100\n",
      "32/32 [==============================] - 0s 5ms/step - loss: 3.6495 - accuracy: 0.4290\n",
      "Epoch 22/100\n",
      "32/32 [==============================] - 0s 5ms/step - loss: 3.5976 - accuracy: 0.4330\n",
      "Epoch 23/100\n",
      "32/32 [==============================] - 0s 5ms/step - loss: 3.5851 - accuracy: 0.4340\n",
      "Epoch 24/100\n",
      "32/32 [==============================] - 0s 5ms/step - loss: 3.5513 - accuracy: 0.4390\n",
      "Epoch 25/100\n",
      "32/32 [==============================] - 0s 5ms/step - loss: 3.5328 - accuracy: 0.4430\n",
      "Epoch 26/100\n",
      "32/32 [==============================] - 0s 5ms/step - loss: 3.5182 - accuracy: 0.4440\n",
      "Epoch 27/100\n",
      "32/32 [==============================] - 0s 5ms/step - loss: 3.5029 - accuracy: 0.4430\n",
      "Epoch 28/100\n",
      "32/32 [==============================] - 0s 5ms/step - loss: 3.4779 - accuracy: 0.4480\n",
      "Epoch 29/100\n",
      "32/32 [==============================] - 0s 5ms/step - loss: 3.4528 - accuracy: 0.4520\n",
      "Epoch 30/100\n",
      "32/32 [==============================] - 0s 5ms/step - loss: 3.4210 - accuracy: 0.4570\n",
      "Epoch 31/100\n",
      "32/32 [==============================] - 0s 5ms/step - loss: 3.4039 - accuracy: 0.4590\n",
      "Epoch 32/100\n",
      "32/32 [==============================] - 0s 5ms/step - loss: 3.3725 - accuracy: 0.4580\n",
      "Epoch 33/100\n",
      "32/32 [==============================] - 0s 5ms/step - loss: 3.2708 - accuracy: 0.4590\n",
      "Epoch 34/100\n",
      "32/32 [==============================] - 0s 5ms/step - loss: 3.1932 - accuracy: 0.4590\n",
      "Epoch 35/100\n",
      "32/32 [==============================] - 0s 5ms/step - loss: 3.1801 - accuracy: 0.4580\n",
      "Epoch 36/100\n",
      "32/32 [==============================] - 0s 5ms/step - loss: 3.1745 - accuracy: 0.4590\n",
      "Epoch 37/100\n",
      "32/32 [==============================] - 0s 5ms/step - loss: 3.1235 - accuracy: 0.4600\n",
      "Epoch 38/100\n",
      "32/32 [==============================] - 0s 5ms/step - loss: 2.9942 - accuracy: 0.4550\n",
      "Epoch 39/100\n",
      "32/32 [==============================] - 0s 5ms/step - loss: 2.8695 - accuracy: 0.4540\n",
      "Epoch 40/100\n",
      "32/32 [==============================] - 0s 5ms/step - loss: 2.8434 - accuracy: 0.4550\n",
      "Epoch 41/100\n",
      "32/32 [==============================] - 0s 5ms/step - loss: 2.7939 - accuracy: 0.4570\n",
      "Epoch 42/100\n",
      "32/32 [==============================] - 0s 5ms/step - loss: 2.6646 - accuracy: 0.4550\n",
      "Epoch 43/100\n",
      "32/32 [==============================] - 0s 5ms/step - loss: 2.4867 - accuracy: 0.4570\n",
      "Epoch 44/100\n",
      "32/32 [==============================] - 0s 5ms/step - loss: 1.9793 - accuracy: 0.4570\n",
      "Epoch 45/100\n",
      "32/32 [==============================] - 0s 5ms/step - loss: 1.1883 - accuracy: 0.4570\n",
      "Epoch 46/100\n",
      "32/32 [==============================] - 0s 5ms/step - loss: 0.9835 - accuracy: 0.4560\n",
      "Epoch 47/100\n",
      "32/32 [==============================] - 0s 5ms/step - loss: 0.9583 - accuracy: 0.4570\n",
      "Epoch 48/100\n",
      "32/32 [==============================] - 0s 5ms/step - loss: 0.9410 - accuracy: 0.4570\n",
      "Epoch 49/100\n",
      "32/32 [==============================] - 0s 5ms/step - loss: 0.9279 - accuracy: 0.4560\n",
      "Epoch 50/100\n",
      "32/32 [==============================] - 0s 5ms/step - loss: 0.9166 - accuracy: 0.4570\n",
      "Epoch 51/100\n",
      "32/32 [==============================] - 0s 5ms/step - loss: 0.9068 - accuracy: 0.4570\n",
      "Epoch 52/100\n",
      "32/32 [==============================] - 0s 5ms/step - loss: 0.8984 - accuracy: 0.4570\n",
      "Epoch 53/100\n",
      "32/32 [==============================] - 0s 5ms/step - loss: 0.8905 - accuracy: 0.4570\n",
      "Epoch 54/100\n",
      "32/32 [==============================] - 0s 5ms/step - loss: 0.8835 - accuracy: 0.4580\n",
      "Epoch 55/100\n",
      "32/32 [==============================] - 0s 5ms/step - loss: 0.8769 - accuracy: 0.4580\n",
      "Epoch 56/100\n",
      "32/32 [==============================] - 0s 5ms/step - loss: 0.8706 - accuracy: 0.4590\n",
      "Epoch 57/100\n",
      "32/32 [==============================] - 0s 5ms/step - loss: 0.8647 - accuracy: 0.4590\n",
      "Epoch 58/100\n",
      "32/32 [==============================] - 0s 5ms/step - loss: 0.8593 - accuracy: 0.4590\n",
      "Epoch 59/100\n",
      "32/32 [==============================] - 0s 5ms/step - loss: 0.8541 - accuracy: 0.4590\n",
      "Epoch 60/100\n",
      "32/32 [==============================] - 0s 5ms/step - loss: 0.8492 - accuracy: 0.4590\n",
      "Epoch 61/100\n",
      "32/32 [==============================] - 0s 5ms/step - loss: 0.8447 - accuracy: 0.4590\n",
      "Epoch 62/100\n",
      "32/32 [==============================] - 0s 5ms/step - loss: 0.8403 - accuracy: 0.4600\n",
      "Epoch 63/100\n",
      "32/32 [==============================] - 0s 5ms/step - loss: 0.8360 - accuracy: 0.4590\n",
      "Epoch 64/100\n",
      "32/32 [==============================] - 0s 5ms/step - loss: 0.8320 - accuracy: 0.4580\n",
      "Epoch 65/100\n",
      "32/32 [==============================] - 0s 5ms/step - loss: 0.8281 - accuracy: 0.4570\n",
      "Epoch 66/100\n",
      "32/32 [==============================] - 0s 5ms/step - loss: 0.8243 - accuracy: 0.4560\n",
      "Epoch 67/100\n",
      "32/32 [==============================] - 0s 5ms/step - loss: 0.8206 - accuracy: 0.4560\n",
      "Epoch 68/100\n",
      "32/32 [==============================] - 0s 5ms/step - loss: 0.8172 - accuracy: 0.4560\n",
      "Epoch 69/100\n",
      "32/32 [==============================] - 0s 5ms/step - loss: 0.8137 - accuracy: 0.4560\n",
      "Epoch 70/100\n",
      "32/32 [==============================] - 0s 5ms/step - loss: 0.8104 - accuracy: 0.4560\n",
      "Epoch 71/100\n",
      "32/32 [==============================] - 0s 5ms/step - loss: 0.8071 - accuracy: 0.4560\n",
      "Epoch 72/100\n",
      "32/32 [==============================] - 0s 5ms/step - loss: 0.8040 - accuracy: 0.4560\n",
      "Epoch 73/100\n",
      "32/32 [==============================] - 0s 5ms/step - loss: 0.8010 - accuracy: 0.4560\n",
      "Epoch 74/100\n",
      "32/32 [==============================] - 0s 5ms/step - loss: 0.7980 - accuracy: 0.4570\n",
      "Epoch 75/100\n",
      "32/32 [==============================] - 0s 5ms/step - loss: 0.7952 - accuracy: 0.4570\n",
      "Epoch 76/100\n",
      "32/32 [==============================] - 0s 5ms/step - loss: 0.7925 - accuracy: 0.4560\n",
      "Epoch 77/100\n",
      "32/32 [==============================] - 0s 5ms/step - loss: 0.7898 - accuracy: 0.4560\n",
      "Epoch 78/100\n",
      "32/32 [==============================] - 0s 5ms/step - loss: 0.7872 - accuracy: 0.4580\n",
      "Epoch 79/100\n",
      "32/32 [==============================] - 0s 5ms/step - loss: 0.7846 - accuracy: 0.4590\n",
      "Epoch 80/100\n",
      "32/32 [==============================] - 0s 5ms/step - loss: 0.7822 - accuracy: 0.4580\n",
      "Epoch 81/100\n",
      "32/32 [==============================] - 0s 5ms/step - loss: 0.7797 - accuracy: 0.4580\n",
      "Epoch 82/100\n",
      "32/32 [==============================] - 0s 5ms/step - loss: 0.7774 - accuracy: 0.4600\n",
      "Epoch 83/100\n",
      "32/32 [==============================] - 0s 5ms/step - loss: 0.7751 - accuracy: 0.4610\n",
      "Epoch 84/100\n",
      "32/32 [==============================] - 0s 5ms/step - loss: 0.7729 - accuracy: 0.4620\n",
      "Epoch 85/100\n",
      "32/32 [==============================] - 0s 5ms/step - loss: 0.7707 - accuracy: 0.4620\n",
      "Epoch 86/100\n",
      "32/32 [==============================] - 0s 5ms/step - loss: 0.7687 - accuracy: 0.4610\n",
      "Epoch 87/100\n",
      "32/32 [==============================] - 0s 5ms/step - loss: 0.7667 - accuracy: 0.4630\n",
      "Epoch 88/100\n",
      "32/32 [==============================] - 0s 5ms/step - loss: 0.7646 - accuracy: 0.4660\n",
      "Epoch 89/100\n",
      "32/32 [==============================] - 0s 5ms/step - loss: 0.7627 - accuracy: 0.4660\n",
      "Epoch 90/100\n",
      "32/32 [==============================] - 0s 5ms/step - loss: 0.7608 - accuracy: 0.4650\n",
      "Epoch 91/100\n",
      "32/32 [==============================] - 0s 5ms/step - loss: 0.7589 - accuracy: 0.4660\n",
      "Epoch 92/100\n",
      "32/32 [==============================] - 0s 5ms/step - loss: 0.7571 - accuracy: 0.4650\n",
      "Epoch 93/100\n",
      "32/32 [==============================] - 0s 5ms/step - loss: 0.7553 - accuracy: 0.4650\n",
      "Epoch 94/100\n",
      "32/32 [==============================] - 0s 5ms/step - loss: 0.7536 - accuracy: 0.4660\n",
      "Epoch 95/100\n",
      "32/32 [==============================] - 0s 5ms/step - loss: 0.7519 - accuracy: 0.4660\n",
      "Epoch 96/100\n",
      "32/32 [==============================] - 0s 5ms/step - loss: 0.7502 - accuracy: 0.4650\n",
      "Epoch 97/100\n",
      "32/32 [==============================] - 0s 5ms/step - loss: 0.7487 - accuracy: 0.4650\n",
      "Epoch 98/100\n",
      "32/32 [==============================] - 0s 5ms/step - loss: 0.7471 - accuracy: 0.4650\n",
      "Epoch 99/100\n",
      "32/32 [==============================] - 0s 5ms/step - loss: 0.7454 - accuracy: 0.4650\n",
      "Epoch 100/100\n",
      "32/32 [==============================] - 0s 5ms/step - loss: 0.7438 - accuracy: 0.4650\n"
     ]
    }
   ],
   "source": [
    "# Set random seed\n",
    "tf.random.set_seed(42)\n",
    "\n",
    "# 1. Create a model with a non-linear actiaviton\n",
    "model_5 = tf.keras.Sequential(\n",
    "    [\n",
    "        tf.keras.layers.Dense(1, activation=tf.keras.activations.relu)\n",
    "    ]\n",
    ")\n",
    "\n",
    "# 2. Compile the model\n",
    "model_5.compile(\n",
    "    loss=tf.keras.losses.BinaryCrossentropy(),\n",
    "    optimizer=tf.keras.optimizers.Adam(lr=0.001),\n",
    "    metrics=['accuracy']\n",
    ")\n",
    "\n",
    "# 3. Fit the model\n",
    "history = model_5.fit(X, y, epochs=100)"
   ],
   "metadata": {
    "collapsed": false,
    "pycharm": {
     "name": "#%%\n"
    }
   }
  },
  {
   "cell_type": "code",
   "execution_count": 43,
   "outputs": [
    {
     "name": "stdout",
     "output_type": "stream",
     "text": [
      "Epoch 1/250\n",
      "10/32 [========>.....................] - ETA: 0s - loss: 3.5752 - accuracy: 0.0000e+00 "
     ]
    },
    {
     "name": "stderr",
     "output_type": "stream",
     "text": [
      "2022-08-13 11:23:00.381785: I tensorflow/core/grappler/optimizers/custom_graph_optimizer_registry.cc:113] Plugin optimizer for device_type GPU is enabled.\n"
     ]
    },
    {
     "name": "stdout",
     "output_type": "stream",
     "text": [
      "32/32 [==============================] - 1s 7ms/step - loss: 3.2090 - accuracy: 0.0010\n",
      "Epoch 2/250\n",
      "32/32 [==============================] - 0s 5ms/step - loss: 2.6774 - accuracy: 0.0050\n",
      "Epoch 3/250\n",
      "32/32 [==============================] - 0s 6ms/step - loss: 2.5260 - accuracy: 0.0100\n",
      "Epoch 4/250\n",
      "32/32 [==============================] - 0s 6ms/step - loss: 2.4545 - accuracy: 0.0220\n",
      "Epoch 5/250\n",
      "32/32 [==============================] - 0s 7ms/step - loss: 2.3271 - accuracy: 0.0420\n",
      "Epoch 6/250\n",
      "32/32 [==============================] - 0s 6ms/step - loss: 1.9320 - accuracy: 0.0790\n",
      "Epoch 7/250\n",
      "32/32 [==============================] - 0s 6ms/step - loss: 1.6532 - accuracy: 0.1220\n",
      "Epoch 8/250\n",
      "32/32 [==============================] - 0s 6ms/step - loss: 1.5984 - accuracy: 0.1320\n",
      "Epoch 9/250\n",
      "32/32 [==============================] - 0s 5ms/step - loss: 1.5334 - accuracy: 0.1440\n",
      "Epoch 10/250\n",
      "32/32 [==============================] - 0s 5ms/step - loss: 1.4115 - accuracy: 0.1490\n",
      "Epoch 11/250\n",
      "32/32 [==============================] - 0s 5ms/step - loss: 1.1693 - accuracy: 0.1470\n",
      "Epoch 12/250\n",
      "32/32 [==============================] - 0s 5ms/step - loss: 0.9169 - accuracy: 0.1200\n",
      "Epoch 13/250\n",
      "32/32 [==============================] - 0s 5ms/step - loss: 0.8940 - accuracy: 0.1270\n",
      "Epoch 14/250\n",
      "32/32 [==============================] - 0s 5ms/step - loss: 0.8787 - accuracy: 0.1360\n",
      "Epoch 15/250\n",
      "32/32 [==============================] - 0s 5ms/step - loss: 0.8655 - accuracy: 0.1490\n",
      "Epoch 16/250\n",
      "32/32 [==============================] - 0s 5ms/step - loss: 0.8540 - accuracy: 0.1640\n",
      "Epoch 17/250\n",
      "32/32 [==============================] - 0s 5ms/step - loss: 0.8435 - accuracy: 0.1840\n",
      "Epoch 18/250\n",
      "32/32 [==============================] - 0s 5ms/step - loss: 0.8338 - accuracy: 0.2030\n",
      "Epoch 19/250\n",
      "32/32 [==============================] - 0s 5ms/step - loss: 0.8250 - accuracy: 0.2110\n",
      "Epoch 20/250\n",
      "32/32 [==============================] - 0s 5ms/step - loss: 0.8165 - accuracy: 0.2170\n",
      "Epoch 21/250\n",
      "32/32 [==============================] - 0s 5ms/step - loss: 0.8087 - accuracy: 0.2220\n",
      "Epoch 22/250\n",
      "32/32 [==============================] - 0s 5ms/step - loss: 0.8010 - accuracy: 0.2210\n",
      "Epoch 23/250\n",
      "32/32 [==============================] - 0s 5ms/step - loss: 0.7939 - accuracy: 0.2240\n",
      "Epoch 24/250\n",
      "32/32 [==============================] - 0s 5ms/step - loss: 0.7873 - accuracy: 0.2300\n",
      "Epoch 25/250\n",
      "32/32 [==============================] - 0s 5ms/step - loss: 0.7810 - accuracy: 0.2340\n",
      "Epoch 26/250\n",
      "32/32 [==============================] - 0s 5ms/step - loss: 0.7747 - accuracy: 0.2330\n",
      "Epoch 27/250\n",
      "32/32 [==============================] - 0s 5ms/step - loss: 0.7686 - accuracy: 0.2370\n",
      "Epoch 28/250\n",
      "32/32 [==============================] - 0s 5ms/step - loss: 0.7625 - accuracy: 0.2410\n",
      "Epoch 29/250\n",
      "32/32 [==============================] - 0s 5ms/step - loss: 0.7571 - accuracy: 0.2420\n",
      "Epoch 30/250\n",
      "32/32 [==============================] - 0s 5ms/step - loss: 0.7514 - accuracy: 0.2470\n",
      "Epoch 31/250\n",
      "32/32 [==============================] - 0s 5ms/step - loss: 0.7456 - accuracy: 0.2460\n",
      "Epoch 32/250\n",
      "32/32 [==============================] - 0s 5ms/step - loss: 0.7389 - accuracy: 0.2410\n",
      "Epoch 33/250\n",
      "32/32 [==============================] - 0s 5ms/step - loss: 0.7310 - accuracy: 0.2350\n",
      "Epoch 34/250\n",
      "32/32 [==============================] - 0s 5ms/step - loss: 0.7245 - accuracy: 0.2270\n",
      "Epoch 35/250\n",
      "32/32 [==============================] - 0s 5ms/step - loss: 0.7195 - accuracy: 0.2180\n",
      "Epoch 36/250\n",
      "32/32 [==============================] - 0s 5ms/step - loss: 0.7158 - accuracy: 0.2220\n",
      "Epoch 37/250\n",
      "32/32 [==============================] - 0s 5ms/step - loss: 0.7130 - accuracy: 0.2260\n",
      "Epoch 38/250\n",
      "32/32 [==============================] - 0s 5ms/step - loss: 0.7105 - accuracy: 0.2260\n",
      "Epoch 39/250\n",
      "32/32 [==============================] - 0s 5ms/step - loss: 0.7079 - accuracy: 0.2340\n",
      "Epoch 40/250\n",
      "32/32 [==============================] - 0s 5ms/step - loss: 0.7058 - accuracy: 0.2440\n",
      "Epoch 41/250\n",
      "32/32 [==============================] - 0s 5ms/step - loss: 0.7037 - accuracy: 0.2470\n",
      "Epoch 42/250\n",
      "32/32 [==============================] - 0s 5ms/step - loss: 0.7017 - accuracy: 0.2550\n",
      "Epoch 43/250\n",
      "32/32 [==============================] - 0s 5ms/step - loss: 0.6998 - accuracy: 0.2490\n",
      "Epoch 44/250\n",
      "32/32 [==============================] - 0s 5ms/step - loss: 0.6983 - accuracy: 0.2520\n",
      "Epoch 45/250\n",
      "32/32 [==============================] - 0s 5ms/step - loss: 0.6964 - accuracy: 0.2560\n",
      "Epoch 46/250\n",
      "32/32 [==============================] - 0s 5ms/step - loss: 0.6949 - accuracy: 0.2550\n",
      "Epoch 47/250\n",
      "32/32 [==============================] - 0s 5ms/step - loss: 0.6937 - accuracy: 0.2520\n",
      "Epoch 48/250\n",
      "32/32 [==============================] - 0s 5ms/step - loss: 0.6922 - accuracy: 0.2540\n",
      "Epoch 49/250\n",
      "32/32 [==============================] - 0s 5ms/step - loss: 0.6909 - accuracy: 0.2610\n",
      "Epoch 50/250\n",
      "32/32 [==============================] - 0s 5ms/step - loss: 0.6897 - accuracy: 0.2610\n",
      "Epoch 51/250\n",
      "32/32 [==============================] - 0s 5ms/step - loss: 0.6887 - accuracy: 0.2580\n",
      "Epoch 52/250\n",
      "32/32 [==============================] - 0s 5ms/step - loss: 0.6877 - accuracy: 0.2520\n",
      "Epoch 53/250\n",
      "32/32 [==============================] - 0s 5ms/step - loss: 0.6869 - accuracy: 0.2530\n",
      "Epoch 54/250\n",
      "32/32 [==============================] - 0s 5ms/step - loss: 0.6857 - accuracy: 0.2500\n",
      "Epoch 55/250\n",
      "32/32 [==============================] - 0s 5ms/step - loss: 0.6851 - accuracy: 0.2500\n",
      "Epoch 56/250\n",
      "32/32 [==============================] - 0s 5ms/step - loss: 0.6842 - accuracy: 0.2650\n",
      "Epoch 57/250\n",
      "32/32 [==============================] - 0s 5ms/step - loss: 0.6834 - accuracy: 0.2960\n",
      "Epoch 58/250\n",
      "32/32 [==============================] - 0s 5ms/step - loss: 0.6828 - accuracy: 0.2970\n",
      "Epoch 59/250\n",
      "32/32 [==============================] - 0s 5ms/step - loss: 0.6823 - accuracy: 0.2880\n",
      "Epoch 60/250\n",
      "32/32 [==============================] - 0s 5ms/step - loss: 0.6814 - accuracy: 0.2570\n",
      "Epoch 61/250\n",
      "32/32 [==============================] - 0s 5ms/step - loss: 0.6808 - accuracy: 0.2750\n",
      "Epoch 62/250\n",
      "32/32 [==============================] - 0s 5ms/step - loss: 0.6802 - accuracy: 0.2720\n",
      "Epoch 63/250\n",
      "32/32 [==============================] - 0s 5ms/step - loss: 0.6796 - accuracy: 0.2680\n",
      "Epoch 64/250\n",
      "32/32 [==============================] - 0s 5ms/step - loss: 0.6791 - accuracy: 0.2800\n",
      "Epoch 65/250\n",
      "32/32 [==============================] - 0s 5ms/step - loss: 0.6787 - accuracy: 0.2870\n",
      "Epoch 66/250\n",
      "32/32 [==============================] - 0s 5ms/step - loss: 0.6782 - accuracy: 0.2940\n",
      "Epoch 67/250\n",
      "32/32 [==============================] - 0s 5ms/step - loss: 0.6777 - accuracy: 0.2990\n",
      "Epoch 68/250\n",
      "32/32 [==============================] - 0s 5ms/step - loss: 0.6772 - accuracy: 0.2960\n",
      "Epoch 69/250\n",
      "32/32 [==============================] - 0s 5ms/step - loss: 0.6768 - accuracy: 0.2990\n",
      "Epoch 70/250\n",
      "32/32 [==============================] - 0s 5ms/step - loss: 0.6764 - accuracy: 0.3060\n",
      "Epoch 71/250\n",
      "32/32 [==============================] - 0s 5ms/step - loss: 0.6761 - accuracy: 0.3120\n",
      "Epoch 72/250\n",
      "32/32 [==============================] - 0s 5ms/step - loss: 0.6756 - accuracy: 0.3140\n",
      "Epoch 73/250\n",
      "32/32 [==============================] - 0s 5ms/step - loss: 0.6754 - accuracy: 0.3130\n",
      "Epoch 74/250\n",
      "32/32 [==============================] - 0s 5ms/step - loss: 0.6748 - accuracy: 0.3180\n",
      "Epoch 75/250\n",
      "32/32 [==============================] - 0s 5ms/step - loss: 0.6747 - accuracy: 0.3170\n",
      "Epoch 76/250\n",
      "32/32 [==============================] - 0s 5ms/step - loss: 0.6743 - accuracy: 0.3220\n",
      "Epoch 77/250\n",
      "32/32 [==============================] - 0s 5ms/step - loss: 0.6739 - accuracy: 0.3260\n",
      "Epoch 78/250\n",
      "32/32 [==============================] - 0s 5ms/step - loss: 0.6735 - accuracy: 0.3290\n",
      "Epoch 79/250\n",
      "32/32 [==============================] - 0s 5ms/step - loss: 0.6732 - accuracy: 0.3290\n",
      "Epoch 80/250\n",
      "32/32 [==============================] - 0s 5ms/step - loss: 0.6727 - accuracy: 0.3280\n",
      "Epoch 81/250\n",
      "32/32 [==============================] - 0s 5ms/step - loss: 0.6727 - accuracy: 0.3330\n",
      "Epoch 82/250\n",
      "32/32 [==============================] - 0s 5ms/step - loss: 0.6723 - accuracy: 0.3460\n",
      "Epoch 83/250\n",
      "32/32 [==============================] - 0s 5ms/step - loss: 0.6719 - accuracy: 0.3490\n",
      "Epoch 84/250\n",
      "32/32 [==============================] - 0s 5ms/step - loss: 0.6712 - accuracy: 0.3480\n",
      "Epoch 85/250\n",
      "32/32 [==============================] - 0s 5ms/step - loss: 0.6710 - accuracy: 0.3470\n",
      "Epoch 86/250\n",
      "32/32 [==============================] - 0s 5ms/step - loss: 0.6711 - accuracy: 0.3480\n",
      "Epoch 87/250\n",
      "32/32 [==============================] - 0s 5ms/step - loss: 0.6702 - accuracy: 0.3530\n",
      "Epoch 88/250\n",
      "32/32 [==============================] - 0s 5ms/step - loss: 0.6698 - accuracy: 0.3540\n",
      "Epoch 89/250\n",
      "32/32 [==============================] - 0s 5ms/step - loss: 0.6697 - accuracy: 0.3460\n",
      "Epoch 90/250\n",
      "32/32 [==============================] - 0s 5ms/step - loss: 0.6695 - accuracy: 0.3600\n",
      "Epoch 91/250\n",
      "32/32 [==============================] - 0s 5ms/step - loss: 0.6686 - accuracy: 0.3490\n",
      "Epoch 92/250\n",
      "32/32 [==============================] - 0s 5ms/step - loss: 0.6685 - accuracy: 0.3530\n",
      "Epoch 93/250\n",
      "32/32 [==============================] - 0s 5ms/step - loss: 0.6685 - accuracy: 0.3520\n",
      "Epoch 94/250\n",
      "32/32 [==============================] - 0s 5ms/step - loss: 0.6677 - accuracy: 0.3560\n",
      "Epoch 95/250\n",
      "32/32 [==============================] - 0s 5ms/step - loss: 0.6672 - accuracy: 0.3500\n",
      "Epoch 96/250\n",
      "32/32 [==============================] - 0s 5ms/step - loss: 0.6669 - accuracy: 0.3620\n",
      "Epoch 97/250\n",
      "32/32 [==============================] - 0s 5ms/step - loss: 0.6664 - accuracy: 0.3600\n",
      "Epoch 98/250\n",
      "32/32 [==============================] - 0s 5ms/step - loss: 0.6659 - accuracy: 0.3650\n",
      "Epoch 99/250\n",
      "32/32 [==============================] - 0s 5ms/step - loss: 0.6658 - accuracy: 0.3630\n",
      "Epoch 100/250\n",
      "32/32 [==============================] - 0s 5ms/step - loss: 0.6656 - accuracy: 0.3760\n",
      "Epoch 101/250\n",
      "32/32 [==============================] - 0s 5ms/step - loss: 0.6646 - accuracy: 0.3690\n",
      "Epoch 102/250\n",
      "32/32 [==============================] - 0s 5ms/step - loss: 0.6637 - accuracy: 0.3650\n",
      "Epoch 103/250\n",
      "32/32 [==============================] - 0s 5ms/step - loss: 0.6631 - accuracy: 0.3620\n",
      "Epoch 104/250\n",
      "32/32 [==============================] - 0s 5ms/step - loss: 0.6626 - accuracy: 0.3630\n",
      "Epoch 105/250\n",
      "32/32 [==============================] - 0s 5ms/step - loss: 0.6623 - accuracy: 0.3670\n",
      "Epoch 106/250\n",
      "32/32 [==============================] - 0s 5ms/step - loss: 0.6612 - accuracy: 0.3620\n",
      "Epoch 107/250\n",
      "32/32 [==============================] - 0s 5ms/step - loss: 0.6607 - accuracy: 0.3560\n",
      "Epoch 108/250\n",
      "32/32 [==============================] - 0s 5ms/step - loss: 0.6598 - accuracy: 0.3610\n",
      "Epoch 109/250\n",
      "32/32 [==============================] - 0s 5ms/step - loss: 0.6590 - accuracy: 0.3880\n",
      "Epoch 110/250\n",
      "32/32 [==============================] - 0s 5ms/step - loss: 0.6584 - accuracy: 0.4050\n",
      "Epoch 111/250\n",
      "32/32 [==============================] - 0s 5ms/step - loss: 0.6577 - accuracy: 0.4150\n",
      "Epoch 112/250\n",
      "32/32 [==============================] - 0s 5ms/step - loss: 0.6570 - accuracy: 0.3900\n",
      "Epoch 113/250\n",
      "32/32 [==============================] - 0s 5ms/step - loss: 0.6558 - accuracy: 0.4080\n",
      "Epoch 114/250\n",
      "32/32 [==============================] - 0s 5ms/step - loss: 0.6551 - accuracy: 0.4210\n",
      "Epoch 115/250\n",
      "32/32 [==============================] - 0s 5ms/step - loss: 0.6541 - accuracy: 0.4140\n",
      "Epoch 116/250\n",
      "32/32 [==============================] - 0s 5ms/step - loss: 0.6531 - accuracy: 0.4210\n",
      "Epoch 117/250\n",
      "32/32 [==============================] - 0s 5ms/step - loss: 0.6527 - accuracy: 0.4200\n",
      "Epoch 118/250\n",
      "32/32 [==============================] - 0s 5ms/step - loss: 0.6514 - accuracy: 0.4200\n",
      "Epoch 119/250\n",
      "32/32 [==============================] - 0s 5ms/step - loss: 0.6499 - accuracy: 0.4140\n",
      "Epoch 120/250\n",
      "32/32 [==============================] - 0s 5ms/step - loss: 0.6490 - accuracy: 0.4130\n",
      "Epoch 121/250\n",
      "32/32 [==============================] - 0s 5ms/step - loss: 0.6475 - accuracy: 0.4060\n",
      "Epoch 122/250\n",
      "32/32 [==============================] - 0s 5ms/step - loss: 0.6464 - accuracy: 0.4090\n",
      "Epoch 123/250\n",
      "32/32 [==============================] - 0s 5ms/step - loss: 0.6449 - accuracy: 0.4040\n",
      "Epoch 124/250\n",
      "32/32 [==============================] - 0s 5ms/step - loss: 0.6435 - accuracy: 0.4030\n",
      "Epoch 125/250\n",
      "32/32 [==============================] - 0s 5ms/step - loss: 0.6424 - accuracy: 0.4040\n",
      "Epoch 126/250\n",
      "32/32 [==============================] - 0s 5ms/step - loss: 0.6408 - accuracy: 0.4010\n",
      "Epoch 127/250\n",
      "32/32 [==============================] - 0s 5ms/step - loss: 0.6393 - accuracy: 0.3990\n",
      "Epoch 128/250\n",
      "32/32 [==============================] - 0s 5ms/step - loss: 0.6383 - accuracy: 0.3970\n",
      "Epoch 129/250\n",
      "32/32 [==============================] - 0s 5ms/step - loss: 0.6363 - accuracy: 0.3990\n",
      "Epoch 130/250\n",
      "32/32 [==============================] - 0s 5ms/step - loss: 0.6353 - accuracy: 0.3970\n",
      "Epoch 131/250\n",
      "32/32 [==============================] - 0s 5ms/step - loss: 0.6332 - accuracy: 0.3900\n",
      "Epoch 132/250\n",
      "32/32 [==============================] - 0s 5ms/step - loss: 0.6317 - accuracy: 0.3930\n",
      "Epoch 133/250\n",
      "32/32 [==============================] - 0s 5ms/step - loss: 0.6299 - accuracy: 0.3920\n",
      "Epoch 134/250\n",
      "32/32 [==============================] - 0s 5ms/step - loss: 0.6281 - accuracy: 0.3930\n",
      "Epoch 135/250\n",
      "32/32 [==============================] - 0s 5ms/step - loss: 0.6262 - accuracy: 0.3900\n",
      "Epoch 136/250\n",
      "32/32 [==============================] - 0s 5ms/step - loss: 0.6245 - accuracy: 0.3900\n",
      "Epoch 137/250\n",
      "32/32 [==============================] - 0s 5ms/step - loss: 0.6228 - accuracy: 0.3830\n",
      "Epoch 138/250\n",
      "32/32 [==============================] - 0s 5ms/step - loss: 0.6214 - accuracy: 0.3820\n",
      "Epoch 139/250\n",
      "32/32 [==============================] - 0s 5ms/step - loss: 0.6186 - accuracy: 0.3840\n",
      "Epoch 140/250\n",
      "32/32 [==============================] - 0s 5ms/step - loss: 0.6177 - accuracy: 0.3840\n",
      "Epoch 141/250\n",
      "32/32 [==============================] - 0s 5ms/step - loss: 0.6150 - accuracy: 0.3800\n",
      "Epoch 142/250\n",
      "32/32 [==============================] - 0s 5ms/step - loss: 0.6131 - accuracy: 0.3780\n",
      "Epoch 143/250\n",
      "32/32 [==============================] - 0s 5ms/step - loss: 0.6118 - accuracy: 0.3790\n",
      "Epoch 144/250\n",
      "32/32 [==============================] - 0s 5ms/step - loss: 0.6092 - accuracy: 0.3770\n",
      "Epoch 145/250\n",
      "32/32 [==============================] - 0s 5ms/step - loss: 0.6074 - accuracy: 0.3770\n",
      "Epoch 146/250\n",
      "32/32 [==============================] - 0s 5ms/step - loss: 0.6051 - accuracy: 0.3810\n",
      "Epoch 147/250\n",
      "32/32 [==============================] - 0s 5ms/step - loss: 0.6041 - accuracy: 0.3730\n",
      "Epoch 148/250\n",
      "32/32 [==============================] - 0s 5ms/step - loss: 0.6012 - accuracy: 0.3800\n",
      "Epoch 149/250\n",
      "32/32 [==============================] - 0s 5ms/step - loss: 0.5991 - accuracy: 0.3820\n",
      "Epoch 150/250\n",
      "32/32 [==============================] - 0s 5ms/step - loss: 0.5981 - accuracy: 0.3780\n",
      "Epoch 151/250\n",
      "32/32 [==============================] - 0s 5ms/step - loss: 0.5954 - accuracy: 0.3850\n",
      "Epoch 152/250\n",
      "32/32 [==============================] - 0s 5ms/step - loss: 0.5936 - accuracy: 0.3760\n",
      "Epoch 153/250\n",
      "32/32 [==============================] - 0s 5ms/step - loss: 0.5915 - accuracy: 0.3850\n",
      "Epoch 154/250\n",
      "32/32 [==============================] - 0s 5ms/step - loss: 0.5900 - accuracy: 0.4080\n",
      "Epoch 155/250\n",
      "32/32 [==============================] - 0s 5ms/step - loss: 0.5866 - accuracy: 0.3930\n",
      "Epoch 156/250\n",
      "32/32 [==============================] - 0s 5ms/step - loss: 0.5847 - accuracy: 0.4020\n",
      "Epoch 157/250\n",
      "32/32 [==============================] - 0s 5ms/step - loss: 0.5824 - accuracy: 0.4000\n",
      "Epoch 158/250\n",
      "32/32 [==============================] - 0s 5ms/step - loss: 0.5808 - accuracy: 0.4180\n",
      "Epoch 159/250\n",
      "32/32 [==============================] - 0s 5ms/step - loss: 0.5783 - accuracy: 0.4150\n",
      "Epoch 160/250\n",
      "32/32 [==============================] - 0s 5ms/step - loss: 0.5767 - accuracy: 0.4150\n",
      "Epoch 161/250\n",
      "32/32 [==============================] - 0s 5ms/step - loss: 0.5737 - accuracy: 0.4240\n",
      "Epoch 162/250\n",
      "32/32 [==============================] - 0s 5ms/step - loss: 0.5716 - accuracy: 0.4240\n",
      "Epoch 163/250\n",
      "32/32 [==============================] - 0s 5ms/step - loss: 0.5692 - accuracy: 0.4350\n",
      "Epoch 164/250\n",
      "32/32 [==============================] - 0s 5ms/step - loss: 0.5670 - accuracy: 0.4310\n",
      "Epoch 165/250\n",
      "32/32 [==============================] - 0s 5ms/step - loss: 0.5651 - accuracy: 0.4260\n",
      "Epoch 166/250\n",
      "32/32 [==============================] - 0s 5ms/step - loss: 0.5624 - accuracy: 0.4300\n",
      "Epoch 167/250\n",
      "32/32 [==============================] - 0s 5ms/step - loss: 0.5605 - accuracy: 0.4200\n",
      "Epoch 168/250\n",
      "32/32 [==============================] - 0s 5ms/step - loss: 0.5579 - accuracy: 0.4340\n",
      "Epoch 169/250\n",
      "32/32 [==============================] - 0s 5ms/step - loss: 0.5554 - accuracy: 0.4410\n",
      "Epoch 170/250\n",
      "32/32 [==============================] - 0s 5ms/step - loss: 0.5529 - accuracy: 0.4370\n",
      "Epoch 171/250\n",
      "32/32 [==============================] - 0s 5ms/step - loss: 0.5505 - accuracy: 0.4380\n",
      "Epoch 172/250\n",
      "32/32 [==============================] - 0s 5ms/step - loss: 0.5489 - accuracy: 0.4410\n",
      "Epoch 173/250\n",
      "32/32 [==============================] - 0s 5ms/step - loss: 0.5464 - accuracy: 0.4330\n",
      "Epoch 174/250\n",
      "32/32 [==============================] - 0s 5ms/step - loss: 0.5435 - accuracy: 0.4390\n",
      "Epoch 175/250\n",
      "32/32 [==============================] - 0s 5ms/step - loss: 0.5407 - accuracy: 0.4280\n",
      "Epoch 176/250\n",
      "32/32 [==============================] - 0s 5ms/step - loss: 0.5389 - accuracy: 0.4290\n",
      "Epoch 177/250\n",
      "32/32 [==============================] - 0s 5ms/step - loss: 0.5355 - accuracy: 0.4560\n",
      "Epoch 178/250\n",
      "32/32 [==============================] - 0s 5ms/step - loss: 0.5334 - accuracy: 0.4510\n",
      "Epoch 179/250\n",
      "32/32 [==============================] - 0s 5ms/step - loss: 0.5304 - accuracy: 0.4510\n",
      "Epoch 180/250\n",
      "32/32 [==============================] - 0s 5ms/step - loss: 0.5280 - accuracy: 0.4450\n",
      "Epoch 181/250\n",
      "32/32 [==============================] - 0s 5ms/step - loss: 0.5254 - accuracy: 0.4640\n",
      "Epoch 182/250\n",
      "32/32 [==============================] - 0s 5ms/step - loss: 0.5233 - accuracy: 0.4710\n",
      "Epoch 183/250\n",
      "32/32 [==============================] - 0s 5ms/step - loss: 0.5204 - accuracy: 0.4560\n",
      "Epoch 184/250\n",
      "32/32 [==============================] - 0s 5ms/step - loss: 0.5177 - accuracy: 0.4640\n",
      "Epoch 185/250\n",
      "32/32 [==============================] - 0s 5ms/step - loss: 0.5151 - accuracy: 0.4800\n",
      "Epoch 186/250\n",
      "32/32 [==============================] - 0s 5ms/step - loss: 0.5121 - accuracy: 0.4750\n",
      "Epoch 187/250\n",
      "32/32 [==============================] - 0s 5ms/step - loss: 0.5092 - accuracy: 0.4740\n",
      "Epoch 188/250\n",
      "32/32 [==============================] - 0s 5ms/step - loss: 0.5063 - accuracy: 0.4790\n",
      "Epoch 189/250\n",
      "32/32 [==============================] - 0s 5ms/step - loss: 0.5037 - accuracy: 0.4760\n",
      "Epoch 190/250\n",
      "32/32 [==============================] - 0s 5ms/step - loss: 0.5016 - accuracy: 0.5200\n",
      "Epoch 191/250\n",
      "32/32 [==============================] - 0s 5ms/step - loss: 0.4983 - accuracy: 0.4820\n",
      "Epoch 192/250\n",
      "32/32 [==============================] - 0s 5ms/step - loss: 0.4960 - accuracy: 0.4920\n",
      "Epoch 193/250\n",
      "32/32 [==============================] - 0s 5ms/step - loss: 0.4928 - accuracy: 0.5120\n",
      "Epoch 194/250\n",
      "32/32 [==============================] - 0s 5ms/step - loss: 0.4904 - accuracy: 0.5040\n",
      "Epoch 195/250\n",
      "32/32 [==============================] - 0s 5ms/step - loss: 0.4871 - accuracy: 0.5020\n",
      "Epoch 196/250\n",
      "32/32 [==============================] - 0s 5ms/step - loss: 0.4844 - accuracy: 0.5200\n",
      "Epoch 197/250\n",
      "32/32 [==============================] - 0s 5ms/step - loss: 0.4820 - accuracy: 0.5090\n",
      "Epoch 198/250\n",
      "32/32 [==============================] - 0s 5ms/step - loss: 0.4799 - accuracy: 0.5320\n",
      "Epoch 199/250\n",
      "32/32 [==============================] - 0s 5ms/step - loss: 0.4777 - accuracy: 0.4850\n",
      "Epoch 200/250\n",
      "32/32 [==============================] - 0s 5ms/step - loss: 0.4731 - accuracy: 0.5190\n",
      "Epoch 201/250\n",
      "32/32 [==============================] - 0s 5ms/step - loss: 0.4706 - accuracy: 0.5360\n",
      "Epoch 202/250\n",
      "32/32 [==============================] - 0s 5ms/step - loss: 0.4675 - accuracy: 0.5230\n",
      "Epoch 203/250\n",
      "32/32 [==============================] - 0s 5ms/step - loss: 0.4648 - accuracy: 0.5190\n",
      "Epoch 204/250\n",
      "32/32 [==============================] - 0s 5ms/step - loss: 0.4622 - accuracy: 0.5220\n",
      "Epoch 205/250\n",
      "32/32 [==============================] - 0s 5ms/step - loss: 0.4590 - accuracy: 0.5300\n",
      "Epoch 206/250\n",
      "32/32 [==============================] - 0s 5ms/step - loss: 0.4566 - accuracy: 0.5220\n",
      "Epoch 207/250\n",
      "32/32 [==============================] - 0s 5ms/step - loss: 0.4535 - accuracy: 0.5250\n",
      "Epoch 208/250\n",
      "32/32 [==============================] - 0s 5ms/step - loss: 0.4503 - accuracy: 0.5290\n",
      "Epoch 209/250\n",
      "32/32 [==============================] - 0s 5ms/step - loss: 0.4479 - accuracy: 0.5250\n",
      "Epoch 210/250\n",
      "32/32 [==============================] - 0s 5ms/step - loss: 0.4448 - accuracy: 0.5180\n",
      "Epoch 211/250\n",
      "32/32 [==============================] - 0s 5ms/step - loss: 0.4431 - accuracy: 0.5420\n",
      "Epoch 212/250\n",
      "32/32 [==============================] - 0s 5ms/step - loss: 0.4392 - accuracy: 0.5190\n",
      "Epoch 213/250\n",
      "32/32 [==============================] - 0s 5ms/step - loss: 0.4361 - accuracy: 0.5270\n",
      "Epoch 214/250\n",
      "32/32 [==============================] - 0s 5ms/step - loss: 0.4333 - accuracy: 0.5160\n",
      "Epoch 215/250\n",
      "32/32 [==============================] - 0s 5ms/step - loss: 0.4304 - accuracy: 0.5300\n",
      "Epoch 216/250\n",
      "32/32 [==============================] - 0s 5ms/step - loss: 0.4282 - accuracy: 0.5220\n",
      "Epoch 217/250\n",
      "32/32 [==============================] - 0s 5ms/step - loss: 0.4249 - accuracy: 0.5170\n",
      "Epoch 218/250\n",
      "32/32 [==============================] - 0s 5ms/step - loss: 0.4228 - accuracy: 0.5040\n",
      "Epoch 219/250\n",
      "32/32 [==============================] - 0s 5ms/step - loss: 0.4195 - accuracy: 0.5410\n",
      "Epoch 220/250\n",
      "32/32 [==============================] - 0s 5ms/step - loss: 0.4166 - accuracy: 0.5220\n",
      "Epoch 221/250\n",
      "32/32 [==============================] - 0s 5ms/step - loss: 0.4140 - accuracy: 0.5180\n",
      "Epoch 222/250\n",
      "32/32 [==============================] - 0s 5ms/step - loss: 0.4108 - accuracy: 0.5040\n",
      "Epoch 223/250\n",
      "32/32 [==============================] - 0s 5ms/step - loss: 0.4081 - accuracy: 0.5230\n",
      "Epoch 224/250\n",
      "32/32 [==============================] - 0s 5ms/step - loss: 0.4049 - accuracy: 0.5170\n",
      "Epoch 225/250\n",
      "32/32 [==============================] - 0s 5ms/step - loss: 0.4033 - accuracy: 0.4930\n",
      "Epoch 226/250\n",
      "32/32 [==============================] - 0s 5ms/step - loss: 0.3991 - accuracy: 0.5230\n",
      "Epoch 227/250\n",
      "32/32 [==============================] - 0s 5ms/step - loss: 0.3965 - accuracy: 0.5210\n",
      "Epoch 228/250\n",
      "32/32 [==============================] - 0s 5ms/step - loss: 0.3935 - accuracy: 0.5120\n",
      "Epoch 229/250\n",
      "32/32 [==============================] - 0s 5ms/step - loss: 0.3906 - accuracy: 0.4930\n",
      "Epoch 230/250\n",
      "32/32 [==============================] - 0s 5ms/step - loss: 0.3876 - accuracy: 0.5280\n",
      "Epoch 231/250\n",
      "32/32 [==============================] - 0s 5ms/step - loss: 0.3847 - accuracy: 0.5090\n",
      "Epoch 232/250\n",
      "32/32 [==============================] - 0s 5ms/step - loss: 0.3820 - accuracy: 0.5180\n",
      "Epoch 233/250\n",
      "32/32 [==============================] - 0s 5ms/step - loss: 0.3793 - accuracy: 0.5180\n",
      "Epoch 234/250\n",
      "32/32 [==============================] - 0s 5ms/step - loss: 0.3763 - accuracy: 0.5020\n",
      "Epoch 235/250\n",
      "32/32 [==============================] - 0s 5ms/step - loss: 0.3736 - accuracy: 0.5100\n",
      "Epoch 236/250\n",
      "32/32 [==============================] - 0s 5ms/step - loss: 0.3706 - accuracy: 0.5100\n",
      "Epoch 237/250\n",
      "32/32 [==============================] - 0s 5ms/step - loss: 0.3680 - accuracy: 0.5060\n",
      "Epoch 238/250\n",
      "32/32 [==============================] - 0s 5ms/step - loss: 0.3660 - accuracy: 0.5030\n",
      "Epoch 239/250\n",
      "32/32 [==============================] - 0s 5ms/step - loss: 0.3635 - accuracy: 0.4960\n",
      "Epoch 240/250\n",
      "32/32 [==============================] - 0s 5ms/step - loss: 0.3603 - accuracy: 0.5220\n",
      "Epoch 241/250\n",
      "32/32 [==============================] - 0s 5ms/step - loss: 0.3576 - accuracy: 0.4920\n",
      "Epoch 242/250\n",
      "32/32 [==============================] - 0s 5ms/step - loss: 0.3555 - accuracy: 0.4940\n",
      "Epoch 243/250\n",
      "32/32 [==============================] - 0s 5ms/step - loss: 0.3526 - accuracy: 0.5070\n",
      "Epoch 244/250\n",
      "32/32 [==============================] - 0s 5ms/step - loss: 0.3503 - accuracy: 0.5200\n",
      "Epoch 245/250\n",
      "32/32 [==============================] - 0s 5ms/step - loss: 0.3475 - accuracy: 0.4780\n",
      "Epoch 246/250\n",
      "32/32 [==============================] - 0s 5ms/step - loss: 0.3452 - accuracy: 0.4880\n",
      "Epoch 247/250\n",
      "32/32 [==============================] - 0s 5ms/step - loss: 0.3431 - accuracy: 0.4790\n",
      "Epoch 248/250\n",
      "32/32 [==============================] - 0s 5ms/step - loss: 0.3403 - accuracy: 0.4860\n",
      "Epoch 249/250\n",
      "32/32 [==============================] - 0s 5ms/step - loss: 0.3377 - accuracy: 0.4850\n",
      "Epoch 250/250\n",
      "32/32 [==============================] - 0s 5ms/step - loss: 0.3354 - accuracy: 0.4840\n"
     ]
    }
   ],
   "source": [
    "# Time to replicate the multi-layer neural network from TensorFlow playground in code...\n",
    "\n",
    "# Set random seed\n",
    "tf.random.set_seed(42)\n",
    "\n",
    "# 1. Create the model\n",
    "model_6 = tf.keras.Sequential(\n",
    "    [\n",
    "        tf.keras.layers.Dense(4, activation='relu'),\n",
    "        tf.keras.layers.Dense(4, activation='relu')\n",
    "    ]\n",
    ")\n",
    "\n",
    "# 2. Compile the model\n",
    "model_6.compile(\n",
    "    loss=tf.keras.losses.BinaryCrossentropy(),\n",
    "    optimizer=tf.keras.optimizers.Adam(learning_rate=0.001),\n",
    "    metrics=['accuracy']\n",
    ")\n",
    "\n",
    "# 3. Fit the model\n",
    "history = model_6.fit(X, y, epochs=250)"
   ],
   "metadata": {
    "collapsed": false,
    "pycharm": {
     "name": "#%%\n"
    }
   }
  },
  {
   "cell_type": "code",
   "execution_count": 44,
   "outputs": [
    {
     "name": "stdout",
     "output_type": "stream",
     "text": [
      "32/32 [==============================] - 0s 5ms/step - loss: 0.3332 - accuracy: 0.4770\n"
     ]
    },
    {
     "name": "stderr",
     "output_type": "stream",
     "text": [
      "2022-08-13 11:23:43.191997: I tensorflow/core/grappler/optimizers/custom_graph_optimizer_registry.cc:113] Plugin optimizer for device_type GPU is enabled.\n"
     ]
    },
    {
     "data": {
      "text/plain": "[0.33320391178131104, 0.47700002789497375]"
     },
     "execution_count": 44,
     "metadata": {},
     "output_type": "execute_result"
    }
   ],
   "source": [
    "# Evaluate the model\n",
    "model_6.evaluate(X, y)"
   ],
   "metadata": {
    "collapsed": false,
    "pycharm": {
     "name": "#%%\n"
    }
   }
  },
  {
   "cell_type": "code",
   "execution_count": 45,
   "outputs": [
    {
     "name": "stdout",
     "output_type": "stream",
     "text": [
      " 99/313 [========>.....................] - ETA: 0s"
     ]
    },
    {
     "name": "stderr",
     "output_type": "stream",
     "text": [
      "2022-08-13 11:32:14.815964: I tensorflow/core/grappler/optimizers/custom_graph_optimizer_registry.cc:113] Plugin optimizer for device_type GPU is enabled.\n"
     ]
    },
    {
     "name": "stdout",
     "output_type": "stream",
     "text": [
      "313/313 [==============================] - 0s 2ms/step\n",
      "Doing multi-class classification\n"
     ]
    },
    {
     "data": {
      "text/plain": "<Figure size 432x288 with 1 Axes>",
      "image/png": "[encoded data removed]"
     },
     "metadata": {
      "needs_background": "light"
     },
     "output_type": "display_data"
    }
   ],
   "source": [
    "plot_decision_boundary(model_6, X, y)"
   ],
   "metadata": {
    "collapsed": false,
    "pycharm": {
     "name": "#%%\n"
    }
   }
  },
  {
   "cell_type": "code",
   "execution_count": 47,
   "outputs": [
    {
     "name": "stdout",
     "output_type": "stream",
     "text": [
      "Epoch 1/100\n"
     ]
    },
    {
     "name": "stderr",
     "output_type": "stream",
     "text": [
      "2022-08-13 11:46:16.610159: I tensorflow/core/grappler/optimizers/custom_graph_optimizer_registry.cc:113] Plugin optimizer for device_type GPU is enabled.\n"
     ]
    },
    {
     "name": "stdout",
     "output_type": "stream",
     "text": [
      "32/32 [==============================] - 1s 7ms/step - loss: 0.6891 - accuracy: 0.5020\n",
      "Epoch 2/100\n",
      "32/32 [==============================] - 0s 6ms/step - loss: 0.6848 - accuracy: 0.5170\n",
      "Epoch 3/100\n",
      "32/32 [==============================] - 0s 6ms/step - loss: 0.6824 - accuracy: 0.5160\n",
      "Epoch 4/100\n",
      "32/32 [==============================] - 0s 6ms/step - loss: 0.6813 - accuracy: 0.5300\n",
      "Epoch 5/100\n",
      "32/32 [==============================] - 0s 6ms/step - loss: 0.6802 - accuracy: 0.5390\n",
      "Epoch 6/100\n",
      "32/32 [==============================] - 0s 6ms/step - loss: 0.6794 - accuracy: 0.5380\n",
      "Epoch 7/100\n",
      "32/32 [==============================] - 0s 6ms/step - loss: 0.6785 - accuracy: 0.5500\n",
      "Epoch 8/100\n",
      "32/32 [==============================] - 0s 6ms/step - loss: 0.6778 - accuracy: 0.5480\n",
      "Epoch 9/100\n",
      "32/32 [==============================] - 0s 6ms/step - loss: 0.6772 - accuracy: 0.5530\n",
      "Epoch 10/100\n",
      "32/32 [==============================] - 0s 6ms/step - loss: 0.6766 - accuracy: 0.5510\n",
      "Epoch 11/100\n",
      "32/32 [==============================] - 0s 6ms/step - loss: 0.6760 - accuracy: 0.5500\n",
      "Epoch 12/100\n",
      "32/32 [==============================] - 0s 6ms/step - loss: 0.6754 - accuracy: 0.5550\n",
      "Epoch 13/100\n",
      "32/32 [==============================] - 0s 6ms/step - loss: 0.6747 - accuracy: 0.5560\n",
      "Epoch 14/100\n",
      "32/32 [==============================] - 0s 6ms/step - loss: 0.6741 - accuracy: 0.5540\n",
      "Epoch 15/100\n",
      "32/32 [==============================] - 0s 5ms/step - loss: 0.6734 - accuracy: 0.5580\n",
      "Epoch 16/100\n",
      "32/32 [==============================] - 0s 5ms/step - loss: 0.6727 - accuracy: 0.5550\n",
      "Epoch 17/100\n",
      "32/32 [==============================] - 0s 6ms/step - loss: 0.6722 - accuracy: 0.5550\n",
      "Epoch 18/100\n",
      "32/32 [==============================] - 0s 6ms/step - loss: 0.6716 - accuracy: 0.5550\n",
      "Epoch 19/100\n",
      "32/32 [==============================] - 0s 5ms/step - loss: 0.6710 - accuracy: 0.5590\n",
      "Epoch 20/100\n",
      "32/32 [==============================] - 0s 5ms/step - loss: 0.6702 - accuracy: 0.5600\n",
      "Epoch 21/100\n",
      "32/32 [==============================] - 0s 5ms/step - loss: 0.6696 - accuracy: 0.5640\n",
      "Epoch 22/100\n",
      "32/32 [==============================] - 0s 6ms/step - loss: 0.6688 - accuracy: 0.5600\n",
      "Epoch 23/100\n",
      "32/32 [==============================] - 0s 5ms/step - loss: 0.6682 - accuracy: 0.5700\n",
      "Epoch 24/100\n",
      "32/32 [==============================] - 0s 6ms/step - loss: 0.6679 - accuracy: 0.5570\n",
      "Epoch 25/100\n",
      "32/32 [==============================] - 0s 6ms/step - loss: 0.6671 - accuracy: 0.5670\n",
      "Epoch 26/100\n",
      "32/32 [==============================] - 0s 5ms/step - loss: 0.6662 - accuracy: 0.5750\n",
      "Epoch 27/100\n",
      "32/32 [==============================] - 0s 5ms/step - loss: 0.6657 - accuracy: 0.5810\n",
      "Epoch 28/100\n",
      "32/32 [==============================] - 0s 5ms/step - loss: 0.6645 - accuracy: 0.5700\n",
      "Epoch 29/100\n",
      "32/32 [==============================] - 0s 6ms/step - loss: 0.6642 - accuracy: 0.5700\n",
      "Epoch 30/100\n",
      "32/32 [==============================] - 0s 6ms/step - loss: 0.6634 - accuracy: 0.5790\n",
      "Epoch 31/100\n",
      "32/32 [==============================] - 0s 5ms/step - loss: 0.6627 - accuracy: 0.5760\n",
      "Epoch 32/100\n",
      "32/32 [==============================] - 0s 6ms/step - loss: 0.6619 - accuracy: 0.5760\n",
      "Epoch 33/100\n",
      "32/32 [==============================] - 0s 5ms/step - loss: 0.6610 - accuracy: 0.5760\n",
      "Epoch 34/100\n",
      "32/32 [==============================] - 0s 6ms/step - loss: 0.6606 - accuracy: 0.5760\n",
      "Epoch 35/100\n",
      "32/32 [==============================] - 0s 6ms/step - loss: 0.6597 - accuracy: 0.5790\n",
      "Epoch 36/100\n",
      "32/32 [==============================] - 0s 6ms/step - loss: 0.6586 - accuracy: 0.5780\n",
      "Epoch 37/100\n",
      "32/32 [==============================] - 0s 6ms/step - loss: 0.6579 - accuracy: 0.5780\n",
      "Epoch 38/100\n",
      "32/32 [==============================] - 0s 6ms/step - loss: 0.6573 - accuracy: 0.5790\n",
      "Epoch 39/100\n",
      "32/32 [==============================] - 0s 5ms/step - loss: 0.6564 - accuracy: 0.5790\n",
      "Epoch 40/100\n",
      "32/32 [==============================] - 0s 6ms/step - loss: 0.6556 - accuracy: 0.5760\n",
      "Epoch 41/100\n",
      "32/32 [==============================] - 0s 6ms/step - loss: 0.6548 - accuracy: 0.5780\n",
      "Epoch 42/100\n",
      "32/32 [==============================] - 0s 5ms/step - loss: 0.6540 - accuracy: 0.5750\n",
      "Epoch 43/100\n",
      "32/32 [==============================] - 0s 6ms/step - loss: 0.6530 - accuracy: 0.5780\n",
      "Epoch 44/100\n",
      "32/32 [==============================] - 0s 6ms/step - loss: 0.6521 - accuracy: 0.5810\n",
      "Epoch 45/100\n",
      "32/32 [==============================] - 0s 6ms/step - loss: 0.6496 - accuracy: 0.5810\n",
      "Epoch 46/100\n",
      "32/32 [==============================] - 0s 6ms/step - loss: 0.6481 - accuracy: 0.5830\n",
      "Epoch 47/100\n",
      "32/32 [==============================] - 0s 6ms/step - loss: 0.6472 - accuracy: 0.5850\n",
      "Epoch 48/100\n",
      "32/32 [==============================] - 0s 5ms/step - loss: 0.6451 - accuracy: 0.5880\n",
      "Epoch 49/100\n",
      "32/32 [==============================] - 0s 5ms/step - loss: 0.6426 - accuracy: 0.5880\n",
      "Epoch 50/100\n",
      "32/32 [==============================] - 0s 5ms/step - loss: 0.6404 - accuracy: 0.5940\n",
      "Epoch 51/100\n",
      "32/32 [==============================] - 0s 5ms/step - loss: 0.6384 - accuracy: 0.6010\n",
      "Epoch 52/100\n",
      "32/32 [==============================] - 0s 5ms/step - loss: 0.6364 - accuracy: 0.6130\n",
      "Epoch 53/100\n",
      "32/32 [==============================] - 0s 5ms/step - loss: 0.6344 - accuracy: 0.6110\n",
      "Epoch 54/100\n",
      "32/32 [==============================] - 0s 5ms/step - loss: 0.6312 - accuracy: 0.6280\n",
      "Epoch 55/100\n",
      "32/32 [==============================] - 0s 5ms/step - loss: 0.6287 - accuracy: 0.6380\n",
      "Epoch 56/100\n",
      "32/32 [==============================] - 0s 6ms/step - loss: 0.6259 - accuracy: 0.6840\n",
      "Epoch 57/100\n",
      "32/32 [==============================] - 0s 5ms/step - loss: 0.6227 - accuracy: 0.6950\n",
      "Epoch 58/100\n",
      "32/32 [==============================] - 0s 6ms/step - loss: 0.6200 - accuracy: 0.6990\n",
      "Epoch 59/100\n",
      "32/32 [==============================] - 0s 6ms/step - loss: 0.6168 - accuracy: 0.6950\n",
      "Epoch 60/100\n",
      "32/32 [==============================] - 0s 6ms/step - loss: 0.6133 - accuracy: 0.7240\n",
      "Epoch 61/100\n",
      "32/32 [==============================] - 0s 6ms/step - loss: 0.6101 - accuracy: 0.7200\n",
      "Epoch 62/100\n",
      "32/32 [==============================] - 0s 5ms/step - loss: 0.6059 - accuracy: 0.7330\n",
      "Epoch 63/100\n",
      "32/32 [==============================] - 0s 5ms/step - loss: 0.6014 - accuracy: 0.7400\n",
      "Epoch 64/100\n",
      "32/32 [==============================] - 0s 5ms/step - loss: 0.5966 - accuracy: 0.7460\n",
      "Epoch 65/100\n",
      "32/32 [==============================] - 0s 6ms/step - loss: 0.5905 - accuracy: 0.7440\n",
      "Epoch 66/100\n",
      "32/32 [==============================] - 0s 6ms/step - loss: 0.5831 - accuracy: 0.7450\n",
      "Epoch 67/100\n",
      "32/32 [==============================] - 0s 6ms/step - loss: 0.5758 - accuracy: 0.7450\n",
      "Epoch 68/100\n",
      "32/32 [==============================] - 0s 5ms/step - loss: 0.5684 - accuracy: 0.7790\n",
      "Epoch 69/100\n",
      "32/32 [==============================] - 0s 5ms/step - loss: 0.5615 - accuracy: 0.8010\n",
      "Epoch 70/100\n",
      "32/32 [==============================] - 0s 5ms/step - loss: 0.5548 - accuracy: 0.8020\n",
      "Epoch 71/100\n",
      "32/32 [==============================] - 0s 6ms/step - loss: 0.5475 - accuracy: 0.8230\n",
      "Epoch 72/100\n",
      "32/32 [==============================] - 0s 6ms/step - loss: 0.5406 - accuracy: 0.8460\n",
      "Epoch 73/100\n",
      "32/32 [==============================] - 0s 5ms/step - loss: 0.5328 - accuracy: 0.8470\n",
      "Epoch 74/100\n",
      "32/32 [==============================] - 0s 5ms/step - loss: 0.5243 - accuracy: 0.8620\n",
      "Epoch 75/100\n",
      "32/32 [==============================] - 0s 6ms/step - loss: 0.5149 - accuracy: 0.8870\n",
      "Epoch 76/100\n",
      "32/32 [==============================] - 0s 5ms/step - loss: 0.5042 - accuracy: 0.8820\n",
      "Epoch 77/100\n",
      "32/32 [==============================] - 0s 5ms/step - loss: 0.4927 - accuracy: 0.9300\n",
      "Epoch 78/100\n",
      "32/32 [==============================] - 0s 6ms/step - loss: 0.4824 - accuracy: 0.9090\n",
      "Epoch 79/100\n",
      "32/32 [==============================] - 0s 6ms/step - loss: 0.4734 - accuracy: 0.9450\n",
      "Epoch 80/100\n",
      "32/32 [==============================] - 0s 6ms/step - loss: 0.4632 - accuracy: 0.9600\n",
      "Epoch 81/100\n",
      "32/32 [==============================] - 0s 5ms/step - loss: 0.4546 - accuracy: 0.9600\n",
      "Epoch 82/100\n",
      "32/32 [==============================] - 0s 5ms/step - loss: 0.4456 - accuracy: 0.9580\n",
      "Epoch 83/100\n",
      "32/32 [==============================] - 0s 6ms/step - loss: 0.4361 - accuracy: 0.9630\n",
      "Epoch 84/100\n",
      "32/32 [==============================] - 0s 5ms/step - loss: 0.4261 - accuracy: 0.9690\n",
      "Epoch 85/100\n",
      "32/32 [==============================] - 0s 6ms/step - loss: 0.4146 - accuracy: 0.9700\n",
      "Epoch 86/100\n",
      "32/32 [==============================] - 0s 6ms/step - loss: 0.4059 - accuracy: 0.9760\n",
      "Epoch 87/100\n",
      "32/32 [==============================] - 0s 6ms/step - loss: 0.3963 - accuracy: 0.9750\n",
      "Epoch 88/100\n",
      "32/32 [==============================] - 0s 6ms/step - loss: 0.3873 - accuracy: 0.9720\n",
      "Epoch 89/100\n",
      "32/32 [==============================] - 0s 6ms/step - loss: 0.3796 - accuracy: 0.9750\n",
      "Epoch 90/100\n",
      "32/32 [==============================] - 0s 6ms/step - loss: 0.3717 - accuracy: 0.9750\n",
      "Epoch 91/100\n",
      "32/32 [==============================] - 0s 6ms/step - loss: 0.3636 - accuracy: 0.9840\n",
      "Epoch 92/100\n",
      "32/32 [==============================] - 0s 6ms/step - loss: 0.3554 - accuracy: 0.9830\n",
      "Epoch 93/100\n",
      "32/32 [==============================] - 0s 6ms/step - loss: 0.3482 - accuracy: 0.9800\n",
      "Epoch 94/100\n",
      "32/32 [==============================] - 0s 6ms/step - loss: 0.3405 - accuracy: 0.9820\n",
      "Epoch 95/100\n",
      "32/32 [==============================] - 0s 6ms/step - loss: 0.3330 - accuracy: 0.9880\n",
      "Epoch 96/100\n",
      "32/32 [==============================] - 0s 6ms/step - loss: 0.3269 - accuracy: 0.9870\n",
      "Epoch 97/100\n",
      "32/32 [==============================] - 0s 6ms/step - loss: 0.3190 - accuracy: 0.9870\n",
      "Epoch 98/100\n",
      "32/32 [==============================] - 0s 6ms/step - loss: 0.3123 - accuracy: 0.9890\n",
      "Epoch 99/100\n",
      "32/32 [==============================] - 0s 6ms/step - loss: 0.3059 - accuracy: 0.9880\n",
      "Epoch 100/100\n",
      "32/32 [==============================] - 0s 6ms/step - loss: 0.2993 - accuracy: 0.9890\n"
     ]
    },
    {
     "data": {
      "text/plain": "<keras.callbacks.History at 0x179033910>"
     },
     "execution_count": 47,
     "metadata": {},
     "output_type": "execute_result"
    }
   ],
   "source": [
    "# Set random seed\n",
    "tf.random.set_seed(42)\n",
    "\n",
    "# 1. Create the model\n",
    "model_7 = tf.keras.Sequential(\n",
    "    [\n",
    "        tf.keras.layers.Dense(4, activation='relu'),\n",
    "        tf.keras.layers.Dense(4, activation='relu'),\n",
    "        tf.keras.layers.Dense(1, activation='sigmoid')\n",
    "    ]\n",
    ")\n",
    "\n",
    "# 2. Compile the model\n",
    "model_7.compile(\n",
    "    loss=tf.keras.losses.BinaryCrossentropy(),\n",
    "    optimizer=tf.keras.optimizers.Adam(learning_rate=0.001),\n",
    "    metrics=['accuracy']\n",
    ")\n",
    "\n",
    "# 3. Fit the model\n",
    "model_7.fit(\n",
    "    X, y,\n",
    "    epochs=100\n",
    ")"
   ],
   "metadata": {
    "collapsed": false,
    "pycharm": {
     "name": "#%%\n"
    }
   }
  },
  {
   "cell_type": "code",
   "execution_count": 51,
   "outputs": [
    {
     "name": "stdout",
     "output_type": "stream",
     "text": [
      "32/32 [==============================] - 0s 5ms/step - loss: 0.2949 - accuracy: 0.9910\n"
     ]
    },
    {
     "data": {
      "text/plain": "[0.29486289620399475, 0.9910000562667847]"
     },
     "execution_count": 51,
     "metadata": {},
     "output_type": "execute_result"
    }
   ],
   "source": [
    "# Evaluate the model\n",
    "model_7.evaluate(X, y)"
   ],
   "metadata": {
    "collapsed": false,
    "pycharm": {
     "name": "#%%\n"
    }
   }
  },
  {
   "cell_type": "code",
   "execution_count": 53,
   "outputs": [
    {
     "name": "stdout",
     "output_type": "stream",
     "text": [
      "313/313 [==============================] - 0s 2ms/step\n",
      "Doing binary classification\n"
     ]
    },
    {
     "data": {
      "text/plain": "<Figure size 432x288 with 1 Axes>",
      "image/png": "[encoded data removed]"
     },
     "metadata": {
      "needs_background": "light"
     },
     "output_type": "display_data"
    }
   ],
   "source": [
    "# Let's visualize our incredible metrics\n",
    "plot_decision_boundary(model_7, X, y)"
   ],
   "metadata": {
    "collapsed": false,
    "pycharm": {
     "name": "#%%\n"
    }
   }
  },
  {
   "cell_type": "markdown",
   "source": [
    "**Question:** What is wrong with the predictions we have made? Are we really evaluating our model correctly? Hint: What data did we learn on and what data did we predict on?\n",
    "\n",
    "**Answer:** The predictions we made are using the same X data we used to train. Ideally, we would have three sets, a training, testing and validation set. We use the training to build the model, and the validation set to test each experiment and when we have made the best model we can, we test against the test set. This means our test set never touches the model until we are ready to test completely."
   ],
   "metadata": {
    "collapsed": false,
    "pycharm": {
     "name": "#%% md\n"
    }
   }
  },
  {
   "cell_type": "code",
   "execution_count": null,
   "outputs": [],
   "source": [],
   "metadata": {
    "collapsed": false,
    "pycharm": {
     "name": "#%%\n"
    }
   }
  }
 ],
 "metadata": {
  "kernelspec": {
   "display_name": "Python 3",
   "language": "python",
   "name": "python3"
  },
  "language_info": {
   "codemirror_mode": {
    "name": "ipython",
    "version": 2
   },
   "file_extension": ".py",
   "mimetype": "text/x-python",
   "name": "python",
   "nbconvert_exporter": "python",
   "pygments_lexer": "ipython2",
   "version": "2.7.6"
  }
 },
 "nbformat": 4,
 "nbformat_minor": 0
}